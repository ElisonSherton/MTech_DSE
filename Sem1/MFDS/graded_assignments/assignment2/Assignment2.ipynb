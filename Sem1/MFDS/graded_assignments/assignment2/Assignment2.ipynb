{
 "cells": [
  {
   "cell_type": "markdown",
   "metadata": {},
   "source": [
    "**DSECL ZC416 - Mathematical Foundations for Data Science**\n",
    "\n",
    "**Instructions**\n",
    "\n",
    "1. Use Python for Q1 and Q2. We recommend Octave for Q3 due to availability of built in function ’solve’.\n",
    "\n",
    "2. Attach only the relevant data in your submission as per the deliverables mentioned.\n",
    "\n",
    "3. By random entries, we mean a system generated random number. No marks would be awarded for deterministic entries.\n",
    "\n",
    "4. This is not a group activity. Each student should do the problems and submit individually.\n",
    "\n",
    "5. Submissions beyond 3rd of March, 2022, 17.00 hrs would not be graded\n",
    "\n",
    "6. Assignments sent via email would not be accepted\n",
    "\n",
    "7. Copying is strictly prohibited. Adoption of unfair means would lead to disciplinary action.\n",
    "\n",
    "8. Assignment have to be scanned as a pdf document and uploaded on canvas. File name should be your bitsid.pdf\n",
    "\n",
    "$$\n",
    "\\pagebreak\n",
    "$$"
   ]
  },
  {
   "cell_type": "markdown",
   "metadata": {
    "tags": []
   },
   "source": [
    "# Question: Gram-Schmidt Algorithm & QR Decomposition\n",
    "\n",
    "**i.** Write a code to generate a random matrix A of size $m × n$ with $m > n$ and calculate its Frobenius norm, $|| \\cdot ||_F$. The entries of A must be of the form r.dddd (example 5.4316). The inputs are the positive integers m and n and the output should display the the dimensions and the calculated norm value.\n",
    "\n",
    "\n",
    "\n",
    "> **Deliverable(s) : The code with the desired input and output (0.5)**"
   ]
  },
  {
   "cell_type": "code",
   "execution_count": 1,
   "metadata": {},
   "outputs": [],
   "source": [
    "# Import required libraries\n",
    "from typing import List, Tuple\n",
    "import random, copy"
   ]
  },
  {
   "cell_type": "markdown",
   "metadata": {},
   "source": [
    "**A function to generate a random entry**"
   ]
  },
  {
   "cell_type": "code",
   "execution_count": 2,
   "metadata": {},
   "outputs": [],
   "source": [
    "def generate_random_entry() -> float:\n",
    "    \"\"\"[Returns a random number of the form r.dddd]\n",
    "\n",
    "    Returns:\n",
    "        float: A random number\n",
    "    \"\"\"\n",
    "\n",
    "    digits = \"\"\n",
    "    for i in range(5):\n",
    "        dig = random.randint(0, 9)\n",
    "        if i == 4: dig = random.randint(1, 9)\n",
    "        digits = digits + str(dig)\n",
    "        if i == 0: digits += \".\"\n",
    "    return float(digits)"
   ]
  },
  {
   "cell_type": "markdown",
   "metadata": {},
   "source": [
    "$$\n",
    "\\pagebreak\n",
    "$$\n",
    "\n",
    "**Create a random matrix of m x n**"
   ]
  },
  {
   "cell_type": "code",
   "execution_count": 3,
   "metadata": {},
   "outputs": [],
   "source": [
    "def create_random_matrix(m:int, n:int, wide:bool = False) -> List:\n",
    "    \"\"\"[Takes in the number of rows and columns and generates a matrix of size m x n. \n",
    "    Check if we need to create a random wide matrix or not, if yes, then validate, else, just generate]\n",
    "\n",
    "    Args:\n",
    "        m (int): Number of rows of the matrix\n",
    "        n (int): Number of columns of the matrix\n",
    "        wide (bool, default = False): Whether wider or square matrix are allowed\n",
    "\n",
    "    Returns:\n",
    "        List: A matrix as a list of lists\n",
    "    \"\"\"\n",
    "    if not wide:\n",
    "        if m <= n:\n",
    "            print(\"Error: Requested matrix is square or wide; It must be tall. Please give m > n\")\n",
    "            return []\n",
    "    \n",
    "    A = []\n",
    "    for i in range(m):\n",
    "        ith_row = []\n",
    "        for j in range(n):\n",
    "            ith_row.append(generate_random_entry())\n",
    "        A.append(ith_row)\n",
    "    \n",
    "    return A"
   ]
  },
  {
   "cell_type": "markdown",
   "metadata": {},
   "source": [
    "$$\n",
    "\\pagebreak\n",
    "$$\n",
    "\n",
    "**Compute the frobenius norm of a matrix**"
   ]
  },
  {
   "cell_type": "code",
   "execution_count": 4,
   "metadata": {},
   "outputs": [],
   "source": [
    "def frob_norm(A: List) -> Tuple:\n",
    "    \"\"\"[Takes in a matrix A and computes the frobenius norm of that matrix]\n",
    "\n",
    "    Args:\n",
    "        A (List): A matrix represented as List of Lists\n",
    "\n",
    "    Returns:\n",
    "        Tuple: [The frobenius norm of the matrix, and the number of additions, multiplications, divisions needed to compute the norm of the matrix]\n",
    "    \"\"\"\n",
    "    \n",
    "    if len(A) == 0:\n",
    "        print(\"Empty matrix passed. Pass a finite matrix\")\n",
    "        return -1.0\n",
    "    if len(A[0]) == 0:\n",
    "        print(\"Empty matrix passed. Pass a finite matrix\")\n",
    "        return -1.0\n",
    "    \n",
    "    additions, multiplications, divisions, root = -1, 0, 0, 0\n",
    "    fro_norm = 0.0\n",
    "\n",
    "    for row in A:\n",
    "        for element in row:\n",
    "            fro_norm += element * element\n",
    "            additions += 1\n",
    "            multiplications += 1\n",
    "    \n",
    "    fro_norm = (fro_norm) ** 0.5\n",
    "    root += 1\n",
    "    return (fro_norm, (additions, multiplications, divisions, root))"
   ]
  },
  {
   "cell_type": "markdown",
   "metadata": {},
   "source": [
    "$$\n",
    "\\pagebreak\n",
    "$$\n",
    "**Convenience function to display a matrix A**"
   ]
  },
  {
   "cell_type": "code",
   "execution_count": 5,
   "metadata": {},
   "outputs": [],
   "source": [
    "def display_matrix(A):\n",
    "    \"\"\"\n",
    "    Convenience function to display a matrix in pretty formatting\n",
    "    \"\"\"\n",
    "    nr = len(A)\n",
    "    nc = len(A[0])\n",
    "    matrix_string = \"        \"\n",
    "    for col in range(nc):\n",
    "        matrix_string += f\"C{col+1:<7}\"\n",
    "    matrix_string += \"\\nR1   \"\n",
    "    for idx, r in enumerate(A):\n",
    "        for element in r:\n",
    "            matrix_string += f\"{element: .4f} \"\n",
    "        if idx < nr - 1:\n",
    "            matrix_string += f\"\\nR{idx + 2:<3} \"\n",
    "    print(matrix_string)"
   ]
  },
  {
   "cell_type": "code",
   "execution_count": 6,
   "metadata": {},
   "outputs": [
    {
     "name": "stdout",
     "output_type": "stream",
     "text": [
      "Error: Requested matrix is square or wide; It must be tall. Please give m > n\n"
     ]
    }
   ],
   "source": [
    "# Try generating a random wide matrix\n",
    "# Expected Output: Error!\n",
    "A = create_random_matrix(4, 5)"
   ]
  },
  {
   "cell_type": "code",
   "execution_count": 7,
   "metadata": {},
   "outputs": [
    {
     "name": "stdout",
     "output_type": "stream",
     "text": [
      "        C1      C2      C3      C4      \n",
      "R1    5.2591  8.6375  1.6204  8.9743 \n",
      "R2    2.2497  7.3639  5.3717  2.4046 \n",
      "R3    4.6519  7.2813  0.3548  1.2868 \n",
      "R4    3.7245  7.7674  0.4333  5.3857 \n",
      "R5    1.0285  8.4922  9.7607  7.0608 \n"
     ]
    }
   ],
   "source": [
    "# Try generating a tall matrix\n",
    "# Expected Output: A tall matrix\n",
    "A = create_random_matrix(5, 4)\n",
    "display_matrix(A)"
   ]
  },
  {
   "cell_type": "code",
   "execution_count": 8,
   "metadata": {},
   "outputs": [
    {
     "name": "stdout",
     "output_type": "stream",
     "text": [
      "Frobenius Norm of matrix A: 26.02868\n"
     ]
    }
   ],
   "source": [
    "# Try caluclating frobenius norm of generated matrix\n",
    "# Expected Output: A float\n",
    "n, _ = frob_norm(A)\n",
    "print(f\"Frobenius Norm of matrix A: {n:0.5f}\")"
   ]
  },
  {
   "cell_type": "markdown",
   "metadata": {},
   "source": [
    "$$\n",
    "\\pagebreak\n",
    "$$\n",
    "\n",
    "**ii** Write a code to decide if Gram-Schmidt Algorithm can be applied to columns of a given matrix A through calculation of rank. The code should print appropriate messages indicating whether Gram-Schmidt is applicable on columns of the matrix or not.\n",
    "\n",
    "> **Deliverable(s) : The code that performs the test. (1)**\n",
    "\n",
    "**Methodology**\n",
    "\n",
    "- Find the row reduced echelon form of the given matrix\n",
    "\n",
    "- If rank of the matrix = number of columns of A $\\Rightarrow$ A has LI columns $\\Rightarrow$ A can be decomposed into $QR$ form\n",
    "\n",
    "- If rank of matrix is less than number of columns of A, A has Linearly Dependent columns $\\Rightarrow$ A cannot be expressed as $QR$\n",
    "\n",
    "**PS**\n",
    "\n",
    "- To check if an element is zero in REF, we use a very small threshold value of 1e-6. Since computationally, we can get numbers very close to zero but not actually zero while performing row reduction; we are bound to take some small threshold value for near zero quantities.\n",
    "\n",
    "*Define some functions to perform elementary matrix operations i.e. inner product, vector addition and scalar multiplication, matrix multiplication, matrix transpose and eventually column normed matrix. These functions will also help us in later computations throughout the assignment*"
   ]
  },
  {
   "cell_type": "markdown",
   "metadata": {},
   "source": [
    "$$\n",
    "\\pagebreak\n",
    "$$\n",
    "**Function to compute the inner product of two vectors**"
   ]
  },
  {
   "cell_type": "code",
   "execution_count": 9,
   "metadata": {},
   "outputs": [],
   "source": [
    "def inner_product(v1:List, v2:List) -> Tuple:\n",
    "    \"\"\"Given two vectors v1 and v2, computes their inner product\n",
    "\n",
    "    Args:\n",
    "        v1 (List): [A vector represented as a list]\n",
    "        v2 (List): [A vector represented as a list]\n",
    "\n",
    "    Returns:\n",
    "        Tuple: [A tuple of the inner product & number of additions, multiplications and divisions needed for performing the inner product]\n",
    "    \"\"\"\n",
    "    \n",
    "    # Here initialize addition to -1 because to compute the inner product of two \n",
    "    # n dimensional vectors we only need n - 1 additions and n multiplications\n",
    "    additions, multiplications, divisions = -1, 0, 0\n",
    "    \n",
    "    dot_product = 0.0\n",
    "    for e1, e2 in zip(v1, v2):\n",
    "        dot_product += e1 * e2\n",
    "        additions += 1; multiplications += 1\n",
    "    \n",
    "    return (dot_product, (additions, multiplications, divisions))"
   ]
  },
  {
   "cell_type": "markdown",
   "metadata": {},
   "source": [
    "$$\n",
    "\\pagebreak\n",
    "$$\n",
    "**Function to compute vector addition of two vectors**"
   ]
  },
  {
   "cell_type": "code",
   "execution_count": 10,
   "metadata": {},
   "outputs": [],
   "source": [
    "def vector_addition(v1:List, v2:List) -> Tuple:\n",
    "    \"\"\"[Given two vectors, adds them and computes the number of +, -, / needed for the same]\n",
    "\n",
    "    Args:\n",
    "        v1 (List): [A vector represented as a list]\n",
    "        v2 (List): [A vector represented as a list]\n",
    "\n",
    "    Returns:\n",
    "        Tuple: [A tuple representing vector subtraction result and the number of +, -, / needed to compute the result]\n",
    "    \"\"\"\n",
    "    \n",
    "    additions, multiplications, divisions = 0, 0, 0\n",
    "    resultant = []\n",
    "    \n",
    "    for e1, e2 in zip(v1, v2):\n",
    "        resultant.append(e1 + e2)\n",
    "        additions += 1\n",
    "    \n",
    "    return (resultant, (additions, multiplications, divisions))"
   ]
  },
  {
   "cell_type": "markdown",
   "metadata": {},
   "source": [
    "$$\n",
    "\\pagebreak\n",
    "$$\n",
    "**Function to compute scalar multiplication of a scalar with a vector**"
   ]
  },
  {
   "cell_type": "code",
   "execution_count": 11,
   "metadata": {},
   "outputs": [],
   "source": [
    "def scalar_multiplication(v1:List, k: float) -> Tuple:\n",
    "    \"\"\"[Given a vector and a scalar, scales the vector appropriately]\n",
    "\n",
    "    Args:\n",
    "        v1 (List): [A vector represented as a list]\n",
    "        k (float): [A scalar]\n",
    "\n",
    "    Returns:\n",
    "        Tuple: [A tuple representing scalar multiplication result and the number of +, -, / needed to compute the result]\n",
    "    \"\"\"\n",
    "    \n",
    "    additions, multiplications, divisions = 0, 0, 0\n",
    "    resultant = []\n",
    "    \n",
    "    for e1 in v1:\n",
    "        resultant.append(k * e1)\n",
    "        multiplications += 1\n",
    "    \n",
    "    return (resultant, (additions, multiplications, divisions))"
   ]
  },
  {
   "cell_type": "markdown",
   "metadata": {},
   "source": [
    "$$\n",
    "\\pagebreak\n",
    "$$\n",
    "\n",
    "**Function to perform matrix multiplication of two matrices A & B**"
   ]
  },
  {
   "cell_type": "code",
   "execution_count": 12,
   "metadata": {},
   "outputs": [],
   "source": [
    "def matrix_multiplication(A:List, B:List) -> Tuple:\n",
    "    \"\"\"[Given two matrices as list of lists, computes their matrix product]\n",
    "\n",
    "    Args:\n",
    "        A (List): [A matrix of dimension m x n]\n",
    "        B (List): [A matrix of dimension n x m]\n",
    "\n",
    "    Returns:\n",
    "        List: [A tuple of Matrix product as a list of lists and the number of additions, multiplications and divisions needed for performing the operation]\n",
    "    \"\"\"\n",
    "\n",
    "    a, m, d = 0, 0, 0\n",
    "\n",
    "    nrA, ncA = len(A), len(A[0])\n",
    "    nrB, ncB = len(B), len(B[0])\n",
    "\n",
    "    if ncA != nrB:\n",
    "        print(\"Matrix dimension mismatch, please input valid matrices\")\n",
    "        return ([], (a, m, d))\n",
    "    \n",
    "    B_columns = []\n",
    "    # Get a list of the columns of B\n",
    "    for c in range(ncB):\n",
    "        col = []\n",
    "        for r in range(nrB):\n",
    "            col.append(B[r][c])\n",
    "        B_columns.append(col)\n",
    "    \n",
    "    resultant_matrix = []\n",
    "    \n",
    "    # Iteratively multiply rows of A and columns of B in order to \n",
    "    # Compute the product A matmul B\n",
    "    for row in A:\n",
    "        resultant_row = []\n",
    "        for column in B_columns:\n",
    "            abij, (add, mult, div) = inner_product(row, column)\n",
    "            a += add; m += mult; d += div\n",
    "            resultant_row.append(abij)\n",
    "        resultant_matrix.append(resultant_row)\n",
    "    \n",
    "    return (resultant_matrix, (a, m, d))"
   ]
  },
  {
   "cell_type": "markdown",
   "metadata": {},
   "source": [
    "$$\n",
    "\\pagebreak\n",
    "$$\n",
    "**Function to compute the transpose of a matrix A**"
   ]
  },
  {
   "cell_type": "code",
   "execution_count": 13,
   "metadata": {},
   "outputs": [],
   "source": [
    "def matrix_transpose(A:List) -> List:\n",
    "    \"\"\"[Given a matrix A, generate it's transpose]\n",
    "\n",
    "    Args:\n",
    "        A (List): [A matrix represented as list of lists]\n",
    "\n",
    "    Returns:\n",
    "        List: [Transpose of the matrix represented as list of lists]\n",
    "    \"\"\"\n",
    "    \n",
    "    # Find the rows and columns of A\n",
    "    nr, nc = len(A), len(A[0])\n",
    "    \n",
    "    # Create a container for A_transpose\n",
    "    A_transpose = []\n",
    "\n",
    "    # Compute the transpose of A\n",
    "    for c in range(nc):\n",
    "        col = []\n",
    "        for r in range(nr):\n",
    "            col.append(A[r][c])\n",
    "        A_transpose.append(col)\n",
    "    \n",
    "    return A_transpose"
   ]
  },
  {
   "cell_type": "markdown",
   "metadata": {},
   "source": [
    "$$\n",
    "\\pagebreak\n",
    "$$\n",
    "**Function to compute the column normalized version of a matrix**"
   ]
  },
  {
   "cell_type": "code",
   "execution_count": 14,
   "metadata": {},
   "outputs": [],
   "source": [
    "def normalize_columns(A: List) -> Tuple:\n",
    "    \"\"\"[Given a matrix A, normalizes it's columns using l2-norm and returns the normalized matrix as a List of lists and also the number of +, -, /, sqrt needed for computing the result]\n",
    "    Args:\n",
    "        A (List): [Matrix represented as list of lists]\n",
    "    Returns:\n",
    "        Tuple: [A tuple of the normalized matrix and the count of +,-,/ needed for generating the matrix]\n",
    "    \"\"\"\n",
    "    # Initialize the number of additions, multiplications, divisions to zero\n",
    "    a, m, d, root = 0, 0, 0, 0\n",
    "\n",
    "    # If given matrix is a null matrix, return a null matrix\n",
    "    if len(A) == 0:\n",
    "        return ([], (a, m, d))\n",
    "    if len(A[0]) == 0:\n",
    "        return ([[]], (a, m, d))\n",
    "    \n",
    "    # Find the number of rows and columns of matrix A\n",
    "    nr, nc = len(A), len(A[0])\n",
    "    # First get the columns of A \n",
    "    A_columns = matrix_transpose(A)\n",
    "    # Compute the normed column matrix now\n",
    "    normalizedA = []\n",
    "\n",
    "    for col in A_columns:\n",
    "        dot_product, (add, mult, div) = inner_product(col, col)\n",
    "        a += add; m+= mult; d += div\n",
    "        \n",
    "        l2norm = (dot_product) ** 0.5\n",
    "        root += 1\n",
    "    \n",
    "        scaled_vector, (add, mult, div) = scalar_multiplication(col, 1 / l2norm)\n",
    "        # Since I have considered division ads multiplication with reciprocal here, I am adding the scaling multiplications to division count here\n",
    "        d += mult        \n",
    "        normalizedA.append(scaled_vector)\n",
    "        \n",
    "    # Get the matrix A in row major order again\n",
    "    normedARowMajor = matrix_transpose(normalizedA)   \n",
    "    return (normedARowMajor, (a, m, d, root))    "
   ]
  },
  {
   "cell_type": "markdown",
   "metadata": {},
   "source": [
    "$$\n",
    "\\pagebreak\n",
    "$$\n",
    "\n",
    "**Functions to move from flat nd vectors to a tall matrix of width 1 and vice versa**"
   ]
  },
  {
   "cell_type": "code",
   "execution_count": 15,
   "metadata": {},
   "outputs": [],
   "source": [
    "def flatten_column_matrix(m: List) -> List:\n",
    "    \"\"\"[Flatten a column matrix of n x 1 into an n-dimensional vector]\n",
    "\n",
    "    Args:\n",
    "        m (List): [A tall matrix of width 1]\n",
    "\n",
    "    Returns:\n",
    "        List: [A flattened vector]\n",
    "    \"\"\"\n",
    "    return [x[0] for x in m]\n",
    "\n",
    "def expand_column_vector(m: List) -> List:\n",
    "    \"\"\"[Convert a flat n-dimensional column vector into an n x 1 matrix]\n",
    "\n",
    "    Args:\n",
    "        m (List): [A flat nd vector]\n",
    "\n",
    "    Returns:\n",
    "        List: [A tall width=1 matrix]\n",
    "    \"\"\"\n",
    "    return [[x] for x in m]"
   ]
  },
  {
   "cell_type": "markdown",
   "metadata": {},
   "source": [
    "$$\n",
    "\\pagebreak\n",
    "$$\n",
    "\n",
    "**Now we will start with the real qn 1.ii by taking help of the functions defined above. Define a function to compute the row reduced echelon form of a matrix**"
   ]
  },
  {
   "cell_type": "code",
   "execution_count": 16,
   "metadata": {},
   "outputs": [],
   "source": [
    "def rreduce(A:List, threshold:float = 1e-6) -> Tuple:\n",
    "    \"\"\"[Given a matrix A as a list of lists, compute it's row reduced echelon form.\n",
    "    Return that along with the rank of the matrix]\n",
    "\n",
    "    Args:\n",
    "        A (List): A m x n tall matrix\n",
    "        threshold (float, optional): When comparing the pivot elements, what magnitude of a value counts as zero magnitufe. Defaults to 1e-6.\n",
    "\n",
    "    Returns:\n",
    "        Tuple: A tuple of row reduced echelon form and the decision i.e. whether\n",
    "        the matrix has linearly independent columns or not\n",
    "    \"\"\"\n",
    "    \n",
    "    # Initialize the number of additions, multiplications divisions to null\n",
    "    a, m, d = 0, 0, 0\n",
    "    \n",
    "    # Create a copy of the original matrix otherwise original\n",
    "    # matrix will get overwritten\n",
    "    A = copy.deepcopy(A)\n",
    "    \n",
    "    # Check if the matrix is empty\n",
    "    if len(A) == 0:\n",
    "        return ([], False)\n",
    "    if len(A[0]) == 0:\n",
    "        return ([[]], False)\n",
    "    \n",
    "    # Find out number of rows and columns\n",
    "    nr, nc = len(A), len(A[0])            \n",
    "    \n",
    "    # Get Echelon form using row reduction operations\n",
    "    # Only iterate for as many times as number of columns since \n",
    "    # tall matrix can't have more pivot elements than number of columns\n",
    "    for i in range(nc - 1):\n",
    "        \n",
    "        pivot_element = A[i][i]\n",
    "        \n",
    "        # Make all the elements below the pivot to be zero\n",
    "        # in an iterative manner\n",
    "        for j in range(i + 1, nr):\n",
    "                        \n",
    "            # Find the pivot element and compute the scaling factor\n",
    "            div_factor = A[j][i] / pivot_element     \n",
    "            d += 1\n",
    "            \n",
    "            # Scale the ith row based on the above factor\n",
    "            scaled_vector, (add, mult, div) = scalar_multiplication(A[i], -1 * div_factor)\n",
    "            a += add; m += mult; d += div;\n",
    "            \n",
    "            # Subtract the scaled row from A[j]\n",
    "            transformed_row, (add, mult, div) = vector_addition(A[j], scaled_vector)\n",
    "            \n",
    "            # Deduct the counts of add and mult by (i + 1) because when \n",
    "            # doing row reduction we are computing pivots in such a way \n",
    "            # that the elements below the pivot should become zeros \n",
    "            # and the elements to the left of the pivot are already zeros\n",
    "            # so no need to compute that term again and add it\n",
    "            add -= (i + 1); mult -= (i + 1);\n",
    "            a += add; m += mult; d += div;\n",
    "            \n",
    "            A[j] = transformed_row\n",
    "    \n",
    "    # Check the leading diagonal entries; I a few of them are zeros \n",
    "    # or near zeros, then given matrix has rank lower than nc(A)\n",
    "    col_rank = True\n",
    "    for i in range(nc):\n",
    "        if abs(A[i][i]) <= threshold:\n",
    "            col_rank = False\n",
    "            break\n",
    "                    \n",
    "    return (A, col_rank, (a, m, d))"
   ]
  },
  {
   "cell_type": "markdown",
   "metadata": {},
   "source": [
    "$$\n",
    "\\pagebreak\n",
    "$$"
   ]
  },
  {
   "cell_type": "code",
   "execution_count": 17,
   "metadata": {},
   "outputs": [
    {
     "name": "stdout",
     "output_type": "stream",
     "text": [
      "        C1      C2      C3      C4      \n",
      "R1    3.5691  6.3711  4.3996  8.5423 \n",
      "R2    0.7185  0.5797  7.8228  9.8358 \n",
      "R3    9.1817  8.8191  6.2966  9.5167 \n",
      "R4    9.0966  0.6133  0.4219  8.1412 \n",
      "R5    6.3946  8.7778  8.6234  9.0252 \n"
     ]
    }
   ],
   "source": [
    "# Create a random tall matrix\n",
    "# Expected output: A tall matrix\n",
    "A = create_random_matrix(5,4)\n",
    "display_matrix(A)"
   ]
  },
  {
   "cell_type": "code",
   "execution_count": 18,
   "metadata": {},
   "outputs": [
    {
     "name": "stdout",
     "output_type": "stream",
     "text": [
      "        C1      C2      C3      C4      \n",
      "R1    3.5691  6.3711  4.3996  8.5423 \n",
      "R2    0.0000 -0.7029  6.9371  8.1161 \n",
      "R3    0.0000  0.0000 -79.7436 -99.8805 \n",
      "R4    0.0000  0.0000  0.0000  12.6177 \n",
      "R5    0.0000  0.0000  0.0000 -5.0588 \n",
      "\n",
      "Adds  required 20\n",
      "Mults required 20\n",
      "Divs  required 09\n",
      "\n",
      "A has linearly independent columns. Can apply GS Algorithm.\n"
     ]
    }
   ],
   "source": [
    "# Row reduce the matrix into it's REF and see if it's columns are linearly independent\n",
    "# Expected output: REF of generated matrix, primitive operations count, whether cols are LI\n",
    "ref, dec, (a, m ,d) = rreduce(A)\n",
    "display_matrix(ref)\n",
    "print(f\"\\nAdds  required {a:02d}\\nMults required {m:02d}\\nDivs  required {d:02d}\\n\")\n",
    "if dec == True:\n",
    "    print(f\"A has linearly independent columns. Can apply GS Algorithm.\")\n",
    "else:\n",
    "    print(f\"A has linearly dependent columns. Cannot apply GS Algorithm.\")"
   ]
  },
  {
   "cell_type": "code",
   "execution_count": 19,
   "metadata": {},
   "outputs": [],
   "source": [
    "# Purposely generate a matrix where rows are linearly dependent\n",
    "# And check if the GS Algorithm can be applied to this matrix\n",
    "# Expected output: r < nc => Cannot apply GS Algorithm\n",
    "r1 = [generate_random_entry() for i in range(3)]\n",
    "r2 = [generate_random_entry() for i in range(3)]\n",
    "r3 = [0.1*(x + y) for x, y  in zip(r1, r2)]\n",
    "r4 = [(x - y)/2 for x, y in zip(r2, r3)]\n",
    "A = [r1,r2,r3,r4]"
   ]
  },
  {
   "cell_type": "code",
   "execution_count": 20,
   "metadata": {},
   "outputs": [
    {
     "name": "stdout",
     "output_type": "stream",
     "text": [
      "        C1      C2      C3      \n",
      "R1    3.4374  8.5595  2.0455 \n",
      "R2    4.9174  1.3463  4.7817 \n",
      "R3    0.8355  0.9906  0.6827 \n",
      "R4    2.0410  0.1779  2.0495 \n"
     ]
    }
   ],
   "source": [
    "display_matrix(A)"
   ]
  },
  {
   "cell_type": "code",
   "execution_count": 21,
   "metadata": {},
   "outputs": [
    {
     "name": "stdout",
     "output_type": "stream",
     "text": [
      "        C1      C2      C3      \n",
      "R1    3.4374  8.5595  2.0455 \n",
      "R2    0.0000 -10.8986  1.8555 \n",
      "R3    0.0000  0.0000 -0.0000 \n",
      "R4    0.0000  0.0000 -0.0000 \n",
      "\n",
      "Adds  required 08\n",
      "Mults required 08\n",
      "Divs  required 05\n",
      "\n",
      "A has linearly dependent columns. Cannot apply GS Algorithm.\n"
     ]
    }
   ],
   "source": [
    "# Row reduce the matrix into it's REF and see if it's \n",
    "# columns are linearly independent\n",
    "# Expected output: REF of generated matrix, primitive\n",
    "# operations count, whether cols are LI\n",
    "ref, dec, (a, m ,d) = rreduce(A)\n",
    "display_matrix(ref)\n",
    "print(f\"\\nAdds  required {a:02d}\\nMults required {m:02d}\\nDivs  required {d:02d}\\n\")\n",
    "if dec == True:\n",
    "    print(f\"A has linearly independent columns. Can apply GS Algorithm.\")\n",
    "else:\n",
    "    print(f\"A has linearly dependent columns. Cannot apply GS Algorithm.\")"
   ]
  },
  {
   "cell_type": "markdown",
   "metadata": {},
   "source": [
    "$$\n",
    "\\pagebreak\n",
    "$$\n",
    "\n",
    "**iii**: Write a code to generate the orthogonal matrix Q from a matrix A by performing the Gram-Schmidt orthogonalization method. Ensure that A has linearly independent columns by checking the rank. Keep generating A until the linear independence is obtained.\n",
    "\n",
    "> **Deliverable(s) : The code that produces matrix Q from A (1)**"
   ]
  },
  {
   "cell_type": "code",
   "execution_count": 22,
   "metadata": {},
   "outputs": [],
   "source": [
    "def gram_schmidt_orthogonalization(A: List) -> Tuple:\n",
    "    \"\"\"[Given a matrix A, checks if it's columns are Linearly Independent and if yes, generates an orthogonal matrix from the same]\n",
    "\n",
    "    Args:\n",
    "        A (List): [Matrix represented as list of lists]\n",
    "\n",
    "    Returns:\n",
    "        Tuple: (A tuple representing whether A contains linearly independent columns and if yes, an orthogonal matrix generated from A)\n",
    "    \"\"\"\n",
    "    \n",
    "    # If the vector is null then simply return\n",
    "    if len(A) == 0:\n",
    "        return (False, [])\n",
    "    if len(A[0]) == 0:\n",
    "        return (False, [[]])\n",
    "    \n",
    "    # Compute the number of rows and columns of matrix A\n",
    "    nr, nc = len(A), len(A[0])\n",
    "    A_columns = matrix_transpose(A)\n",
    "    \n",
    "    # Check if A has linearly independent columns or not\n",
    "    # If no, then cannot apply GS Algorithm\n",
    "    ref, dec, _ = rreduce(A)\n",
    "    if not dec:\n",
    "        return (False, [])\n",
    "    print(f\"\\nThe given matrix A has linearly independent columns.\\nHence we can compute Gram-Schmidt Orthogonalization\\n\\nREF of given matrix as follows\\n\") \n",
    "    display_matrix(ref)\n",
    "    \n",
    "    # Start generating an orthogonal basis for A\n",
    "    v = []\n",
    "    vi_inner_product = []\n",
    "\n",
    "    # Initialize the addition, multiplication and division counts to zeros\n",
    "    additions, multiplications, divisions = 0, 0, 0\n",
    "    \n",
    "    # Iterate over the columns of A\n",
    "    for n in range(nc):\n",
    "\n",
    "        xi = A_columns[n]\n",
    "        vi = xi\n",
    "        \n",
    "        for it in range(n):\n",
    "            \n",
    "            # Compute xi.vi inner product\n",
    "            xivi, (a, m, d) = inner_product(xi, v[it])\n",
    "            additions += a; multiplications += m; divisions += d\n",
    "            \n",
    "            # Check if vi's inner product exists\n",
    "            if it < (len(vi_inner_product)):\n",
    "                vivi = vi_inner_product[it]\n",
    "            else:\n",
    "                vivi, (a, m, d) = inner_product(v[-1], v[-1])\n",
    "                additions += a; multiplications += m; divisions += d\n",
    "                vi_inner_product.append(vivi)\n",
    "            \n",
    "            scaling_factor = -1 * xivi / vivi\n",
    "            divisions += 1\n",
    "            \n",
    "            scaled_vector, (a, m, d) = scalar_multiplication(v[it], scaling_factor)\n",
    "            additions += a; multiplications += m; divisions += d\n",
    "\n",
    "            vi, (a, m, d) = vector_addition(vi, scaled_vector)\n",
    "            additions += a; multiplications += m; divisions += d\n",
    "        \n",
    "        v.append(vi)\n",
    "    \n",
    "    # Reframe the matrix in row major order\n",
    "    O = matrix_transpose(v)\n",
    "        \n",
    "    return (O, (additions, multiplications, divisions))"
   ]
  },
  {
   "cell_type": "markdown",
   "metadata": {},
   "source": [
    "$$\n",
    "\\pagebreak\n",
    "$$"
   ]
  },
  {
   "cell_type": "code",
   "execution_count": 23,
   "metadata": {},
   "outputs": [
    {
     "name": "stdout",
     "output_type": "stream",
     "text": [
      "Randomly Generated Matrix\n",
      "        C1      C2      C3      C4      \n",
      "R1    5.6746  5.9481  9.3971  0.6883 \n",
      "R2    0.6626  9.3141  7.9155  7.0722 \n",
      "R3    7.4018  1.2719  3.0045  9.8976 \n",
      "R4    3.0017  8.5847  3.8409  6.3325 \n",
      "R5    7.5427  8.1981  5.6408  5.2072 \n",
      "\n",
      "The given matrix A has linearly independent columns.\n",
      "Hence we can compute Gram-Schmidt Orthogonalization\n",
      "\n",
      "REF of given matrix as follows\n",
      "\n",
      "        C1      C2      C3      C4      \n",
      "R1    5.6746  5.9481  9.3971  0.6883 \n",
      "R2    0.0000  8.6196  6.8182  6.9918 \n",
      "R3    0.0000  0.0000 -4.1218  14.2615 \n",
      "R4    0.0000  0.0000  0.0000 -17.2369 \n",
      "R5    0.0000  0.0000  0.0000 -20.4440 \n",
      "\n",
      "Linearly independent cols obtained from GSO procedure\n",
      "        C1      C2      C3      C4      \n",
      "R1    5.6746  0.8799  3.8353 -3.1127 \n",
      "R2    0.6626  8.7223  1.6837  3.8864 \n",
      "R3    7.4018 -5.3389 -0.0492  5.1526 \n",
      "R4    3.0017  5.9038 -2.6232  0.1533 \n",
      "R5    7.5427  1.4615 -1.9410 -3.1169 \n"
     ]
    }
   ],
   "source": [
    "# Create a random matrix A and compute normalize their cols using gram schmidt orthogonalization procedure\n",
    "# Expected output: The matrix and it's gram-schmidt orthogonalization matrix\n",
    "x = create_random_matrix(5, 4)\n",
    "print(\"Randomly Generated Matrix\")\n",
    "display_matrix(x)\n",
    "v, (a, m, d) = gram_schmidt_orthogonalization(x)\n",
    "\n",
    "if v:\n",
    "    print(f\"\\nLinearly independent cols obtained from GSO procedure\")\n",
    "    display_matrix(v)"
   ]
  },
  {
   "cell_type": "markdown",
   "metadata": {},
   "source": [
    "$$\n",
    "\\pagebreak\n",
    "$$\n",
    "\n",
    "**iv**: Write a code to create a QR decomposition of the matrix A by utilizing the code developed in the previous sub-parts of this question. Find the matrices Q and R and then display the value $||A - (QR)||_F$ , where $||\\cdot||_F$ is the Frobenius norm. The code should also display the total number of additions, multiplications and divisions to find the result.\n",
    "\n",
    "> **Deliverable(s) : The code with the said input and output. The results obtained for A generated with m = 7 and n = 5 with random entries described above. (2.5)**\n",
    "\n",
    "**Methodology**\n",
    "\n",
    "Computing gram-schmidt orthogonalization requires several steps as follows\n",
    "\n",
    "- Verify A has LI columns $\\Rightarrow$ Compute the REF and ascertain $Rank = nc(A)$\n",
    "\n",
    "- If above condition is met, orthogonalize the columns of matrix A using GS algorithm\n",
    "\n",
    "- Normalize columns of the orthogonal matrix obtained above\n",
    "\n",
    "- $A = QR \\Rightarrow Q^{-1}A = Q^{-1}QR \\Rightarrow R = Q^TA \\because Q^{-1} = Q^T \\text{as Q is orthonormal}$\n",
    "\n",
    "- Compute the matrix product $Q^TA$ to find $R$.\n",
    "\n",
    "- Find out the primitive counts at each step of the procedure and report them individually and the totals as well."
   ]
  },
  {
   "cell_type": "code",
   "execution_count": 24,
   "metadata": {},
   "outputs": [
    {
     "name": "stdout",
     "output_type": "stream",
     "text": [
      "\n",
      "Randomly Generated Matrix\n",
      "        C1      C2      C3      C4      C5      \n",
      "R1    8.1922  4.5633  9.7163  8.6341  4.9115 \n",
      "R2    1.7787  9.0392  8.7342  1.3394  4.6308 \n",
      "R3    5.7562  2.1918  9.3588  9.3512  5.3182 \n",
      "R4    9.6812  1.2139  4.9034  5.4118  0.2391 \n",
      "R5    9.5561  4.3749  4.8509  7.6171  4.4657 \n",
      "R6    1.9317  0.9016  6.3087  0.0823  4.3422 \n",
      "R7    2.7957  5.4556  8.0482  9.7882  1.5709 \n",
      "\n",
      "The given matrix A has linearly independent columns.\n",
      "Hence we can compute Gram-Schmidt Orthogonalization\n",
      "\n",
      "REF of given matrix as follows\n",
      "\n",
      "        C1      C2      C3      C4      C5      \n",
      "R1    8.1922  4.5633  9.7163  8.6341  4.9115 \n",
      "R2    0.0000  8.0484  6.6246 -0.5352  3.5644 \n",
      "R3    0.0000  0.0000  3.3668  3.2170  2.3165 \n",
      "R4    0.0000  0.0000  0.0000 -2.0698 -1.5544 \n",
      "R5    0.0000  0.0000  0.0000  0.0000  0.8785 \n",
      "R6    0.0000  0.0000  0.0000  0.0000  4.8601 \n",
      "R7    0.0000  0.0000  0.0000  0.0000 -7.1194 \n",
      "\n",
      "Matrix Q\n",
      "        C1      C2      C3      C4      C5      \n",
      "R1    0.4730  0.0848  0.1687  0.0032  0.0393 \n",
      "R2    0.1027  0.8386 -0.1222 -0.4120 -0.0589 \n",
      "R3    0.3323 -0.0438  0.5675  0.2637  0.2975 \n",
      "R4    0.5589 -0.3256 -0.1181 -0.2525 -0.6648 \n",
      "R5    0.5517  0.0023 -0.5111  0.0871  0.5506 \n",
      "R6    0.1115  0.0022  0.5734 -0.5211  0.1489 \n",
      "R7    0.1614  0.4262  0.1748  0.6464 -0.3730 \n",
      "\n",
      "Matrix R\n",
      "        C1      C2      C3      C4      C5      \n",
      "R1    17.3206  7.8884  16.0225  16.1455  7.9013 \n",
      "R2    0.0000  9.8132  9.5974  3.8734  4.6786 \n",
      "R3   -0.0000 -0.0000  7.8485  3.8255  3.7346 \n",
      "R4    0.0000  0.0000  0.0000  7.5231 -1.4083 \n",
      "R5   -0.0000 -0.0000 -0.0000 -0.0000  3.8629 \n",
      "\n",
      "Matrix (A - QR)\n",
      "        C1      C2      C3      C4      C5      \n",
      "R1    0.0000  0.0000  0.0000  0.0000  0.0000 \n",
      "R2    0.0000  0.0000  0.0000  0.0000  0.0000 \n",
      "R3    0.0000  0.0000  0.0000  0.0000  0.0000 \n",
      "R4    0.0000 -0.0000  0.0000 -0.0000  0.0000 \n",
      "R5    0.0000  0.0000  0.0000  0.0000  0.0000 \n",
      "R6    0.0000  0.0000  0.0000  0.0000  0.0000 \n",
      "R7   -0.0000 -0.0000 -0.0000 -0.0000  0.0000 \n",
      "\n",
      "Frobenius norm of (A - QR) = 0.00000\n",
      "\n",
      "\n",
      "Operation Counts as follows\n",
      "\n",
      "REF                           | A:50  | M:50  | D:18  | Sqrt:0  \n",
      "GS Algorithm                  | A:154 | M:168 | D:10  | Sqrt:0  \n",
      "Orthonormalization            | A:30  | M:35  | D:35  | Sqrt:5  \n",
      "R = Q'A Computation           | A:150 | M:175 | D:0   | Sqrt:0  \n",
      "(A - QR) Computation          | A:35  | M:0   | D:0   | Sqrt:0  \n",
      "Norm(A - QR) Computation      | A:34  | M:35  | D:0   | Sqrt:1  \n",
      "Total Count                   | A:453 | M:463 | D:63  | Sqrt:6  \n"
     ]
    }
   ],
   "source": [
    "# Create a random matrix\n",
    "A = create_random_matrix(7, 5)\n",
    "\n",
    "# Display the matrix generated\n",
    "print(\"\\nRandomly Generated Matrix\")\n",
    "display_matrix(A)\n",
    "\n",
    "# Compute REF of the matrix and count the number of primitive operations incurred in the same\n",
    "ref, decision, (aref, mref, dref) = rreduce(A)\n",
    "\n",
    "if decision:\n",
    "    # Apply GS Algorithm to find an orthogonal basis\n",
    "    v, (ags, mgs, dgs) = gram_schmidt_orthogonalization(A)\n",
    "\n",
    "    # Make the orthogonal basis into an orthonormal one\n",
    "    Q, (anorm, mnorm, dnorm, rootnorm) = normalize_columns(v)\n",
    "    \n",
    "    # Compute the matrix R using the orthonormal matrix and the original matrix\n",
    "    R, (aR, mR, dR) = matrix_multiplication(matrix_transpose(Q), A)\n",
    "    \n",
    "    # Compute the matrix QR\n",
    "    QR, (aQR, mQR, dQR) = matrix_multiplication(Q, R)\n",
    "    \n",
    "    # Compute the matrix A - QR\n",
    "    delta = []\n",
    "    addDelta, multDelta, divDelta = 0, 0, 0\n",
    "    for a_row, qr_row in zip(A, QR):\n",
    "        scaled_vector, _ = scalar_multiplication(qr_row, -1)\n",
    "        resultant, (a, m, d) = vector_addition(a_row, scaled_vector)\n",
    "        addDelta += a; multDelta += m; divDelta += d\n",
    "        delta.append(resultant)\n",
    "    \n",
    "    # Compute the frobenius norm of A - QR = delta\n",
    "    fn, (afro, mfro, divfro, rootfro) = frob_norm(delta)\n",
    "    \n",
    "    \n",
    "    # Display the matrices Q, R and A - QR respectively\n",
    "    print(f\"\\nMatrix Q\")\n",
    "    display_matrix(Q)\n",
    "    print(f\"\\nMatrix R\")\n",
    "    display_matrix(R)\n",
    "    print(f\"\\nMatrix (A - QR)\")\n",
    "    display_matrix(delta)\n",
    "    print(f\"\\nFrobenius norm of (A - QR) = {fn:.5f}\")\n",
    "    \n",
    "    \n",
    "    # Find out the counts for each and every step along the way\n",
    "    total_additions = aref + ags + anorm + aR + addDelta + afro \n",
    "    total_multiplications = mref + mgs + mnorm + mR + multDelta + mfro\n",
    "    total_divisions = dref + dgs + dnorm + dR + divDelta + divfro\n",
    "    total_sqrts = rootnorm + rootfro\n",
    "    \n",
    "    count_matrix = [(aref, mref, dref, 0), (ags, mgs, dgs, 0), (anorm, mnorm, dnorm, rootnorm), (aR, mR, dR, 0), (addDelta, multDelta, divDelta, 0), (afro, mfro, divfro, rootfro), (total_additions, total_multiplications, total_divisions, total_sqrts)]\n",
    "    \n",
    "    # Print out the operation counts\n",
    "    print(\"\\n\\nOperation Counts as follows\\n\")\n",
    "    for row, title in zip(count_matrix, [\"REF\", \"GS Algorithm\", \"Orthonormalization\", \"R = Q'A Computation\", \"(A - QR) Computation\", \"Norm(A - QR) Computation\", \"Total Count\"]):\n",
    "        print(f\"{title:<30}| A:{row[0]:<3} | M:{row[1]:<3} | D:{row[2]:<3} | Sqrt:{row[3]:<3}\")"
   ]
  },
  {
   "cell_type": "markdown",
   "metadata": {},
   "source": [
    "___\n",
    "\n",
    "**Analytical solution to operation counts computed above**\n",
    "\n",
    "**Row reduced Echelon form primitive operations**\n",
    "\n",
    "For this problem, we are dealing with a tall matrix A i.e. $m \\gt n$\n",
    "\n",
    "This means that our $\\text{Rank(A)} \\le n$\n",
    "\n",
    "We will therefore use elementary row operations to reduce the matrix into it's row reduced echelon form.\n",
    "\n",
    "*Consider row1*\n",
    "\n",
    "If $a_{11} = 0$, then swap $R_1$ with $R_k$ st $a_{k1} \\gt a_{i1} \\forall i \\in [2, m]$\n",
    "\n",
    "Then reduce $R_i \\forall i \\in {2,m}$ st $a_{i1} = 0$\n",
    "\n",
    "For this, we need to compute the scaling factor $\\frac{a_{i1}}{a_{11}} \\forall i \\in [2, m]$. This means we need $m - 1$ divisions in total.\n",
    "\n",
    "Next, we need to scale all but pivot elements of $R_1$ with this scaling factor. We don't have to scale the pivot because we know it will evaluate to the same number as $a_{ik}$ for the $i^{th}$ row. For this we need $n-1$ multiplications per row and we need to do this for $m-1$ rows. So in all we need $(m-1)(n-1)$ multiplications.\n",
    "\n",
    "Same case is true for additions as multiplications.\n",
    "\n",
    "\n",
    "Using the above it can be showed that for any arbitrary row $k \\lt n$, following is the count of operations required.\n",
    "\n",
    "- Additions: $(m-k)(n-k)$\n",
    "- Multiplications: $(m-k)(n-k)$\n",
    "- Divisions: $m-k$\n",
    "\n",
    "We need to sum these from $k = 1 \\text{ to }n - 1$ for obtaining the total count.\n",
    "\n",
    "$\\text{Total Additions} = \\Sigma_{1}^{n-1}(m-k)(n-k) = \\Sigma_{1}^{n-1}mn - (m+n)k +k^2$\n",
    "\n",
    "$\\text{Total Additions} = \\Sigma_{1}^{n-1}mn -  \\Sigma_{1}^{n-1} (m+n)k + \\Sigma_{1}^{n-1}k^2$\n",
    "\n",
    "$\\text{Total Additions} = mn(n-1) -\\frac{(m+n)(n)(n-1)}{2} + \\frac{n(n-1)(2n-1)}{6}$\n",
    "\n",
    "$\\therefore \\text{Total Additions} = \\frac{n(n-1)(3m-n-1)}{6}$\n",
    "\n",
    "$\\text{Simliarly, Total Multiplications} = \\frac{n(n-1)(3m-n-1)}{6}$\n",
    "\n",
    "$\\text{Total Divisions} = \\Sigma_1^{n-1}(m -k)$\n",
    "\n",
    "$\\text{Total Divisions} = \\Sigma_1^{n-1}(m) - \\Sigma_1^{n-1}k$\n",
    "\n",
    "$\\text{Total Divisions} = m(n-1) - \\frac{n(n-1)}{2}$\n",
    "\n",
    "$\\therefore \\text{Total Divisions} = \\frac{(n-1)(2m-n)}{2}$\n",
    "\n",
    "||Formula|m=7,n=5|\n",
    "|--|--|--|\n",
    "|Total Additions|$$\\frac{n(n-1)(3m-n-1)}{6}$$|50|\n",
    "|Total Multiplications|$$\\frac{n(n-1)(3m-n-1)}{6}$$|50|\n",
    "|Total Divisions|$$\\frac{(n-1)(2m-n)}{2}$$|18|"
   ]
  },
  {
   "cell_type": "markdown",
   "metadata": {},
   "source": [
    "**Gram Schmidt Orthogonalization**\n",
    "\n",
    "Once it is established from the above REF that rank is equal to the number of columns, we are sure that the given set of columns is independent. This means we can proceed for the computation of an orthogonal set using the given linearly independent column vectors.\n",
    "\n",
    "In GS process, any $k^{th}$ orthogonal vector can be computed as \n",
    "\n",
    "$$\n",
    "v_k = x_k - \\frac{<x_k,v_1>}{<v_1,v_1>}v_1 - \\frac{<x_k,v_2>}{<v_2,v_2>}v_2 - ... -  \\frac{<x_k,v_{k-1}>}{<v_{k-1},v_{k-1}>}v_{k-1} \\forall k \\in [2, n]\n",
    "$$\n",
    "\n",
    "where $<>$ denotes inner product of the two column vectors.\n",
    "\n",
    "So, let's try to compute the operation counts here.\n",
    "\n",
    "Before taking any specific row, the inner product of two column vectors each of size $m \\times 1$ can be computed as\n",
    "\n",
    "$$\n",
    "<x,y> = x_1y_1 + x_2y_2 + ... + x_{m-1}y_{m-1} + x_my_m\n",
    "$$\n",
    "\n",
    "This means there are as many multiplications as the number of elements in each vector and one less addition. So, we have for every dot product, multiplications = $m$; additions = $m-1$.\n",
    "\n",
    "Similarly scaling a vector or adding two vectors are operations wherein each element of the vector is involved. So, in both these cases, multiplications = $m$ and additions = $m$ respectively.\n",
    "\n",
    "Now let's get to the computation of elements for the $k^{th}$ column.\n",
    "\n",
    "Since we have to **subtract** some multiple of previously obtained $v_i$ columns, we need to compute $k-1$ vector additions.\n",
    "\n",
    "Since we have to subtract **some multiple** of previously obtained $v_i$ columns, we need to compute $k-1$ scalar multiplications of these $v_i$ column vectors.\n",
    "\n",
    "If we closely observe the scaling factors, we will notice there are two terms\n",
    "\n",
    "- $<x_i,v_i>$ terms. These will have to be calculated at any cost. So we have those $k-1$ dot product computations.\n",
    "- $<v_i,v_i>$ terms. These are interesting ones. We only need to compute the result for $<v_i,v_i>$ once and we can keep reusing it. So, for $k^{th}$ row, we already have $v_i$ values for all $i \\le k-2$. We only have to compute one more dot product of $<v_{k-1},v_{k-1}>$.\n",
    "- Since there are $k-1$ fractions, we need those many divisions.\n",
    "\n",
    "So, we need to compute $k$ dot products and $k-1$ divisions for $k^{th}$ row.\n",
    "\n",
    "This means in all we have\n",
    "\n",
    "- $k$ dot products meaning $k(m-1)$ additions and $km$ multiplications\n",
    "- $k - 1$ divisions\n",
    "- $k - 1$ vector additions meaning $(k-1)m$ additions\n",
    "- $k - 1$ vector scalings meaning $(k-1)m$ multiplications\n",
    "\n",
    "When expressed in terms of counts, we get,\n",
    "\n",
    "$\\text{Total Additions} = \\Sigma_{2}^{n}k(m-1) + (k-1)m$\n",
    "\n",
    "$\\text{Total Additions} = \\Sigma_{2}^{n}km + (k-1)m$\n",
    "\n",
    "$\\text{Total Divisions} = \\Sigma_{2}^{n}(k-1)m$\n",
    "\n",
    "Solving these, we finally arrive at the total counts as follows\n",
    "\n",
    "||Formula|m=7,n=5|\n",
    "|--|--|--|\n",
    "|Total Additions|$$m(n^2-1)-\\frac{n(n+1)}{2} +1$$|154|\n",
    "|Total Multiplications|$$m(n^2-1)$$|168|\n",
    "|Total Divisions|$$\\frac{n(n-1)}{2}$$|10|"
   ]
  },
  {
   "cell_type": "markdown",
   "metadata": {},
   "source": [
    "**Normalization**\n",
    "\n",
    "In normalization, we want to do a columnwise normalization for each column of the given matrix. Each column is a $m \\times 1$ vector.\n",
    "\n",
    "We first need to compute the elementwise product of each element in column. If m-dimensional, we have $m$ multiplications.\n",
    "\n",
    "Then we need to sum them all together, summing m elements will take $m-1$ additions.\n",
    "\n",
    "Then we need to compute the square root of that element, which will take $1$ sqrt operation.\n",
    "\n",
    "Next we need to divide each element of the column vector by the above computed norm which will take $m$ divisions.\n",
    "\n",
    "This process needs to happen for each of the $n$ columns in the given matrix.\n",
    "\n",
    "So we can tabulate the total operation counts as follows\n",
    "\n",
    "||Formula|m=7,n=5|\n",
    "|--|--|--|\n",
    "|Total Additions|$$(m-1)n$$|30|\n",
    "|Total Multiplications|$$mn$$|35|\n",
    "|Total Divisions|$$mn$$|35|\n",
    "|Total Sqrts|$$n$$|5|"
   ]
  },
  {
   "cell_type": "markdown",
   "metadata": {},
   "source": [
    "**Matrix Multiplication**\n",
    "\n",
    "Consider a matrix $A_{m \\times n}$ and another matrix $Q^T_{n \\times m}$\n",
    "\n",
    "Matrix multiplication involves computation of inner products. \n",
    "\n",
    "In the product $C = Q^TA$ there will be $n$ rows and $n$ columns and each of them will be the inner product of 2 $m$ dimensional vectors.\n",
    "\n",
    "So we are effectively performing $n^2$ inner products of two $m$ dimensional vectors.\n",
    "\n",
    "We saw above that we only need additions and multiplications to perform this task and that for each product, we need $m$ multiplications and $m-1$ divisions.\n",
    "\n",
    "So we can tabulate the total operation counts as follows\n",
    "\n",
    "||Formula|m=7,n=5|\n",
    "|--|--|--|\n",
    "|Total Additions|$$n^2(m-1)$$|150|\n",
    "|Total Multiplications|$$n^2m$$|175|"
   ]
  },
  {
   "cell_type": "markdown",
   "metadata": {},
   "source": [
    "**Frobenius Norm Calculation**\n",
    "\n",
    "Consider a matrix $A_{m \\times n}$\n",
    "\n",
    "For computation of frobenius norm,\n",
    "\n",
    "- We should multiply ever element with itself which means we will end up with $mn$ multiplications\n",
    "- We need to compute the sum of the elements obtained above which will take us $mn-1$ additions\n",
    "- We finally need to take the square root of the sum obtained above\n",
    "\n",
    "So we can tabulate the total operation counts as follows\n",
    "\n",
    "||Formula|m=7,n=5|\n",
    "|--|--|--|\n",
    "|Total Additions|$$mn-1$$|34|\n",
    "|Total Multiplications|$$mn$$|35|\n",
    "|Total Sqrts|$$1$$|1|"
   ]
  },
  {
   "cell_type": "markdown",
   "metadata": {},
   "source": [
    "$$\n",
    "\\pagebreak\n",
    "$$"
   ]
  },
  {
   "cell_type": "markdown",
   "metadata": {},
   "source": [
    "# Question: Gradient Descent Algorithm\n",
    "\n",
    "**i**: Consider the last 4 digits of your mobile number (Note : In case there is a 0 in one of the digits replace it by 3). Let it be $n_1n_2n_3n_4$. Generate a random matrix A of size $n_1n_2 \\times n_3n_4$. For example, if the last four digits are 2311, generate a random matrix of size 23 × 11. Write a code to calculate the $l_{\\infty}$ norm of this matrix.\n",
    "\n",
    "> **Deliverable(s) : The code that generates the results. (0.5)**"
   ]
  },
  {
   "cell_type": "code",
   "execution_count": 25,
   "metadata": {},
   "outputs": [],
   "source": [
    "def generate_gradient_descent_matrix() -> Tuple:\n",
    "    \"\"\"[Creates a matrix of the size n1n2 * n3n4 and a matrix b of size n1n2 * 1]\n",
    "\n",
    "    Returns:\n",
    "        List: A matrix in the form of a list\n",
    "    \"\"\"\n",
    "\n",
    "    # Prompt the user for his mobile number\n",
    "    \n",
    "    # Ascertain the mobile number is valid\n",
    "    number = input(\"Enter your phone number:\\n\")\n",
    "    try:\n",
    "        n = int(number)\n",
    "        if len(number.strip()) != 10:\n",
    "            print(\"Mobile number must have exactly 10 digits. Please enter a valid number\")\n",
    "            return ([], [])\n",
    "    except Exception as e:\n",
    "        print(f\"{str(e)}\\nEntered number invalid. Please enter a valid number\")\n",
    "        return ([], [])\n",
    "    \n",
    "    # Get the last 4 digits of the number and replace\n",
    "    # 0s in the number with 3s\n",
    "    rc = number.strip()[-4:]\n",
    "    rc = rc.replace(\"0\", \"3\")\n",
    "\n",
    "    nr, nc = int(rc[:2]), int(rc[2:])\n",
    "    matrix = create_random_matrix(nr, nc, wide = True)\n",
    "    b = create_random_matrix(nr, 1, wide = True)\n",
    "    \n",
    "    return (matrix, b)\n",
    "\n",
    "def linf_norm(matrix: List) -> float:\n",
    "    \"\"\"[Given a matrix computes it's linfinity norm]\n",
    "\n",
    "    Args:\n",
    "        matrix (List): [Matrix represented as a list of numbers]\n",
    "\n",
    "    Returns:\n",
    "        float: The infinity norm of the said matrix\n",
    "    \"\"\"\n",
    "    \n",
    "    inf_norm = 0\n",
    "\n",
    "    # For each row in the matrix\n",
    "    for row in matrix:\n",
    "        rsum = 0\n",
    "\n",
    "        # Compute the row sum of absolute vals of elements in that row\n",
    "        for element in row:\n",
    "            rsum += abs(element)\n",
    "\n",
    "        # Store the largest row sum\n",
    "        if rsum > inf_norm:\n",
    "            inf_norm = rsum\n",
    "    return inf_norm"
   ]
  },
  {
   "cell_type": "markdown",
   "metadata": {},
   "source": [
    "$$\n",
    "\\pagebreak\n",
    "$$"
   ]
  },
  {
   "cell_type": "code",
   "execution_count": 26,
   "metadata": {},
   "outputs": [
    {
     "name": "stdin",
     "output_type": "stream",
     "text": [
      "Enter your phone number:\n",
      " sdcadf\n"
     ]
    },
    {
     "name": "stdout",
     "output_type": "stream",
     "text": [
      "invalid literal for int() with base 10: 'sdcadf'\n",
      "Entered number invalid. Please enter a valid number\n"
     ]
    }
   ],
   "source": [
    "# Create the gradient descent matrices A & b. \n",
    "# Validate the input to have a proper mobile number\n",
    "A, b = generate_gradient_descent_matrix()"
   ]
  },
  {
   "cell_type": "code",
   "execution_count": 27,
   "metadata": {},
   "outputs": [
    {
     "name": "stdin",
     "output_type": "stream",
     "text": [
      "Enter your phone number:\n",
      " 6584684\n"
     ]
    },
    {
     "name": "stdout",
     "output_type": "stream",
     "text": [
      "Mobile number must have exactly 10 digits. Please enter a valid number\n"
     ]
    }
   ],
   "source": [
    "# Create the gradient descent matrices A & b. \n",
    "# Validate the input to have a proper mobile number\n",
    "A, b = generate_gradient_descent_matrix()"
   ]
  },
  {
   "cell_type": "code",
   "execution_count": 28,
   "metadata": {},
   "outputs": [
    {
     "name": "stdin",
     "output_type": "stream",
     "text": [
      "Enter your phone number:\n",
      " 6464684684646464\n"
     ]
    },
    {
     "name": "stdout",
     "output_type": "stream",
     "text": [
      "Mobile number must have exactly 10 digits. Please enter a valid number\n"
     ]
    }
   ],
   "source": [
    "# Create the gradient descent matrices A & b. \n",
    "# Validate the input to have a proper mobile number\n",
    "A, b = generate_gradient_descent_matrix()"
   ]
  },
  {
   "cell_type": "code",
   "execution_count": 29,
   "metadata": {},
   "outputs": [
    {
     "name": "stdin",
     "output_type": "stream",
     "text": [
      "Enter your phone number:\n",
      " 7738368566\n"
     ]
    },
    {
     "name": "stdout",
     "output_type": "stream",
     "text": [
      "L-inf norm of the generated matrix A is 376.30050\n"
     ]
    }
   ],
   "source": [
    "# Create the gradient descent matrices A & b. \n",
    "# Validate the input to have a proper mobile number\n",
    "A, b = generate_gradient_descent_matrix()\n",
    "print(f\"L-inf norm of the generated matrix A is {linf_norm(A):.5f}\")"
   ]
  },
  {
   "cell_type": "markdown",
   "metadata": {},
   "source": [
    "$$\n",
    "\\pagebreak\n",
    "$$"
   ]
  },
  {
   "cell_type": "markdown",
   "metadata": {},
   "source": [
    "**ii** Generate a random vector b of size $n_1n_2 \\times 1$ and consider the function $f(x) = \\frac{1}{2}||Ax - b||_2^2$ where $|| \\cdot ||_2$ is the vector $l_2$ norm. Its gradient is given to be $\\nabla f(x) = A^TAx - A^Tb$. Write a code to find the local minima of this function by using the gradient descent algorithm (by using the gradient expression given to you). The step size $\\tau$ in the iteration $x_k + 1 = x_k − \\tau \\nabla f(x_k)$ should be chosen by the formula \n",
    "\n",
    "$$\n",
    "\\tau = \\frac{g_k^Tg_k}{g_k^TA^TAg_k}\n",
    "$$\n",
    "\n",
    "where $g_k = \\nabla f(x_k) = A^TAx_k - A^Tb$ The algorithm should execute\n",
    "until $||x_k - x_{k - 1}||_2 < 10^{-4}$.\n",
    "\n",
    "> **Deliverable(s) : The code that finds the minimum of the given function and the expression for $\\tau$. The values of $x_k$ and $f(x_k)$ should be stored in a file.**"
   ]
  },
  {
   "cell_type": "code",
   "execution_count": 30,
   "metadata": {},
   "outputs": [],
   "source": [
    "def gradient_descent(stopping_threshold:float = 1e-4) -> List:\n",
    "    \"\"\"[Generates a random matrix based on user's mobile number, performs gradient descent and returns the solutions of the system of equation and intermediate steps taken]\n",
    "    \n",
    "    Args:\n",
    "        stopping_threshold (float): [When to stop iterating, i.e. convergence criterion]\n",
    "        \n",
    "    Returns:\n",
    "        List: [A list of solutions, intermediate values and function values at each step]\n",
    "    \"\"\"\n",
    "    \n",
    "    A, b = generate_gradient_descent_matrix()\n",
    "    n_equations, n_features = len(A), len(A[0])\n",
    "    \n",
    "    # Start with an initial guess of all zeros\n",
    "    current_solution = [[0.0] for r in range(n_features)]\n",
    "    optimization_steps = []\n",
    "\n",
    "    # Begin optimization here\n",
    "    while True:\n",
    "        \n",
    "        # Find out the function value\n",
    "        result = matrix_multiplication(A, current_solution)[0]\n",
    "        scaled_b = scalar_multiplication(flatten_column_matrix(b), -1)[0]\n",
    "        f = vector_addition(flatten_column_matrix(result), scaled_b)[0]\n",
    "        fn = frob_norm(expand_column_vector(f))[0]\n",
    "        func_val = 0.5 * (fn ** 2)\n",
    "        \n",
    "\n",
    "        # Find the gradient of the function at the current step \n",
    "        # i. Find AtAx\n",
    "        A_transpose = matrix_transpose(A)\n",
    "        AtA = matrix_multiplication(A_transpose, A)[0]\n",
    "        AtAx = matrix_multiplication(AtA, current_solution)[0]\n",
    "        \n",
    "        # ii. Find Atb\n",
    "        Atb = matrix_multiplication(A_transpose, b)[0]\n",
    "        \n",
    "        # iii. Find AtAx - Atb\n",
    "        scaled_Atb = scalar_multiplication(flatten_column_matrix(Atb), -1)[0]\n",
    "        gradf = vector_addition(flatten_column_matrix(AtAx), scaled_Atb)[0]\n",
    "        gradf = expand_column_vector(gradf)\n",
    "        \n",
    "        # Compute the learning rate\n",
    "        gradf_transpose = matrix_transpose(gradf)\n",
    "        tau_nr = matrix_multiplication(gradf_transpose, gradf)[0][0][0]\n",
    "        tau_dr = matrix_multiplication(gradf_transpose, matrix_multiplication(AtA, gradf)[0])[0][0][0]\n",
    "        # To avoid numerical instability, add a very tiny epsilon to the denominator\n",
    "        learning_rate = tau_nr / (tau_dr + 1e-16)\n",
    "        \n",
    "        # Take a step in the opposite direction of the gradient\n",
    "        previous_solution = current_solution\n",
    "        scaled_gradf = scalar_multiplication(flatten_column_matrix(gradf), -1 * learning_rate)[0]\n",
    "        current_solution = vector_addition(flatten_column_matrix(previous_solution), scaled_gradf)[0]\n",
    "        current_solution = expand_column_vector(current_solution)\n",
    "        \n",
    "        # Define the stopping criterion\n",
    "        scaled_prev_sol = scalar_multiplication(flatten_column_matrix(previous_solution), -1)[0]\n",
    "        step_delta = vector_addition(flatten_column_matrix(current_solution), scaled_prev_sol)[0]\n",
    "        \n",
    "        stopping_threshold = frob_norm(expand_column_vector(step_delta))[0]\n",
    "        if abs(stopping_threshold) <= 1e-4:\n",
    "            break\n",
    "\n",
    "        optimization_steps.append([previous_solution, gradf, func_val])\n",
    "    \n",
    "    return optimization_steps"
   ]
  },
  {
   "cell_type": "code",
   "execution_count": 31,
   "metadata": {},
   "outputs": [
    {
     "name": "stdin",
     "output_type": "stream",
     "text": [
      "Enter your phone number:\n",
      " 7738368566\n"
     ]
    },
    {
     "name": "stdout",
     "output_type": "stream",
     "text": [
      "Saved the history of xk, gradient of f at xk and f(xk) to solutions.txt file\n"
     ]
    }
   ],
   "source": [
    "# Perform gradient descent by prompting the user for phone number and store the result obtained in a \n",
    "# CSV file with the points, gradients and the function value at that point \n",
    "solutions = gradient_descent()\n",
    "\n",
    "with open(\"solutions.txt\", \"w\") as f:\n",
    "    for sol in solutions:\n",
    "        f.writelines(f\"{sol[0]},{sol[1]},{sol[2]}\\n\")\n",
    "\n",
    "print(\"Saved the history of xk, gradient of f at xk and f(xk) to solutions.txt file\")"
   ]
  },
  {
   "cell_type": "markdown",
   "metadata": {},
   "source": [
    "$$\n",
    "\\pagebreak\n",
    "$$"
   ]
  },
  {
   "cell_type": "markdown",
   "metadata": {},
   "source": [
    "**iii** Generate the graph of $f(x_k)$ vs $k$ where $k$ is the iteration number and $x_k$ is the current estimate of $x$ at iteration $k$. This graph should convey the decreasing nature of function values.\n",
    "\n",
    "> **Deliverable(s) : The graph that is generated.**"
   ]
  },
  {
   "cell_type": "code",
   "execution_count": 32,
   "metadata": {},
   "outputs": [
    {
     "data": {
      "image/png": "[encoded data removed]",
      "text/plain": [
       "<Figure size 1080x288 with 1 Axes>"
      ]
     },
     "metadata": {},
     "output_type": "display_data"
    }
   ],
   "source": [
    "import matplotlib.pyplot as plt\n",
    "plt.style.use(\"fivethirtyeight\")\n",
    "fig, ax = plt.subplots(1, 1, figsize = (15,4))\n",
    "\n",
    "function_values = [x[2] for x in solutions]\n",
    "plt.plot(range(len(solutions)), function_values, )\n",
    "plt.xlabel(\"Iteration Number\", fontsize = 20)\n",
    "plt.ylabel(\"Function Value\", fontsize = 20)\n",
    "plt.title(\"Gradient Descent Optimization Plot\", fontsize = 20);\n",
    "plt.xlim([-10,10 + len(solutions)]);"
   ]
  },
  {
   "cell_type": "markdown",
   "metadata": {},
   "source": [
    "$$\n",
    "\\pagebreak\n",
    "$$\n",
    "\n",
    "# Critical points of polynomial function\n",
    "\n",
    "**i** Generate a third degree polynomial in $x$ and $y$ named $g(x,y)$ that is based on your mobile number (Note : In case there is a 0 in one of the\n",
    "digits replace it by 3). Suppose your mobile number is $9412821233$, then the polynomial would be \n",
    "\n",
    "$$ \n",
    "g(x,y) = 9x^3 - 4x^2y + 1xy^2 -2y^3 +8x^2 -2xy + 1y^2 -2x + 3y -3\n",
    "$$\n",
    "\n",
    "where alternate positive and negative sign are used. \n",
    "\n",
    "> **Deliverable(s) : The polynomial constructed should be reported. (0.5)**"
   ]
  },
  {
   "cell_type": "markdown",
   "metadata": {},
   "source": [
    "```octave\n",
    "## Author: vinayak <vinayak@vinayak-EXIGO-V2>\n",
    "## Created: 2022-02-21\n",
    "% Script to read a phone number and create a polynomial \n",
    "\n",
    "function [pol] = qn31()\n",
    "  a = input(\"Enter your mobile number\\n\");\n",
    "  % Allocate memory for the polynomial to be created\n",
    "  pol = []; \n",
    "  num = a;\n",
    "  counter = 1;\n",
    "  \n",
    "  % Parse through the input number and then convert them \n",
    "  % into a vector of values in sequential manner\n",
    "  % Alternate +ve and -ve signs for co-efficients\n",
    "  % If a zero is present in the number, substitute it with +-3\n",
    "  while num > 1,\n",
    "    \n",
    "    x = mod(num, 10);\n",
    "    if x == 0,\n",
    "      x = 3;\n",
    "    endif;  \n",
    "    \n",
    "    if mod(counter, 2) == 1,\n",
    "      x = -x;\n",
    "    endif;  \n",
    "    \n",
    "    pol = [pol; x];\n",
    "    num = idivide(num, 10);\n",
    "    counter = counter + 1;\n",
    "  endwhile\n",
    "  \n",
    "  % Flip around the polynomial co-efficients\n",
    "  pol = transpose(flip(pol));\n",
    "  displayPolynomial(pol);\n",
    "end\n",
    "\n",
    "function [] = displayPolynomial(pol)\n",
    "    % Function to display the formed polynomial\n",
    "    polynomial_terms = [\"x^3\"; \"x^2y\"; \"xy^2 \"; \"y^3\"; \"x^2\"; \"xy\"; \"y^2\"; \"x\"; \"y\"; \" \"];\n",
    "    poly_str = [\"\"];\n",
    "    \n",
    "    for i=1:length(pol),\n",
    "      if mod(i,2) == 0,\n",
    "        poly_str = [poly_str num2str(pol(i)) polynomial_terms(i, :)];\n",
    "      else\n",
    "        poly_str = [poly_str \" +\" num2str(pol(i)) polynomial_terms(i, :)];\n",
    "      endif\n",
    "    endfor\n",
    "    \n",
    "    printf(\"Polynomial generated from the entered mobile number\\n\");\n",
    "    disp(poly_str);\n",
    "    \n",
    "endfunction\n",
    "```"
   ]
  },
  {
   "cell_type": "markdown",
   "metadata": {},
   "source": [
    "![](qn31.png)\n",
    "\n",
    "$$\n",
    "\\pagebreak\n",
    "$$"
   ]
  },
  {
   "cell_type": "markdown",
   "metadata": {},
   "source": [
    "**ii** Write a code to find all critical points of $g(x, y)$. You may use built in functions like `solve` (or other similar functions) in Octave/Matlab to find the critical points. \n",
    "\n",
    "> **Deliverable(s) : The code that finds the critical points along with the display of all the calculated critical points. (1)**"
   ]
  },
  {
   "cell_type": "markdown",
   "metadata": {},
   "source": [
    "![](32_critical_points.jpeg)"
   ]
  },
  {
   "cell_type": "markdown",
   "metadata": {},
   "source": [
    "```octave\n",
    "## Author: vinayak <vinayak@vinayak-EXIGO-V2>\n",
    "## Created: 2022-02-23\n",
    "% Script to find out the critical points of a polynomial\n",
    "\n",
    "function [critical_points] = qn32(pol)\n",
    "  \n",
    "  % Display the polynomial created from the given cell number\n",
    "  disp(\"Polynomial co-efficients entered is as follows\");\n",
    "  disp(pol);\n",
    "  \n",
    "  % Create a container to hold the solution values\n",
    "  critical_points = [];\n",
    "  \n",
    "  % Find out the critical points using fsolve\n",
    "  % Start at different points in the function domain using random\n",
    "  % Variables and then find the roots of grad(pol) = 0\n",
    " \n",
    "  for i = 1:1000,\n",
    "    % Define the start point\n",
    "    startPoint = 1000 * randn(2, 1);\n",
    "    % Create a wrapper function for the objective/optimization function\n",
    "    optimFunc = @(pol) @(startPoint) optimizationFunction(startPoint, pol);\n",
    "    % Define the solver options\n",
    "    options = optimset (\"TolFun\", 1e-6, \"MaxIter\", 5000);\n",
    "    % Find solutions to the above objective function\n",
    "    [sol, fval, info] = fsolve(optimFunc(pol), startPoint, options);\n",
    "    % If the solution converged in this iteration, save the \n",
    "    % Point as a critical point in the matrix\n",
    "    if info == 1,\n",
    "      critical_points = addToSolution(critical_points, sol);\n",
    "    endif;\n",
    "  endfor\n",
    "  \n",
    "endfunction\n",
    "\n",
    "function [distance] = euclideanDistance(v1, v2)\n",
    "  % Given two vectors v1 and v2, compute the Euclidean distance between them\n",
    "  distance = sqrt(sum((v1 - v2).^2));\n",
    "endfunction\n",
    "\n",
    "function [sol] = addToSolution(solutionSet, newSolution)\n",
    "  % Given a set of critical points and a new critical point\n",
    "  % Check if the new point is already present in the given set\n",
    "  % If no, add it to the solution set, else return the set as is\n",
    "  n = size(solutionSet)(2);\n",
    "  present = 0;\n",
    "  for i = 1:n,\n",
    "    r = euclideanDistance(solutionSet(:, i), newSolution);\n",
    "    if r < 1e-6,\n",
    "      present = 1;\n",
    "      break;\n",
    "    endif  \n",
    "  endfor  \n",
    "  \n",
    "  % If the solution doesn't exist in the current set, add it to\n",
    "  % The current set, otherwise, just return old solution set as is\n",
    "  if present == 0,\n",
    "    sol = [solutionSet, newSolution];\n",
    "  else\n",
    "    sol = solutionSet;\n",
    "  endif;  \n",
    "  \n",
    "endfunction  \n",
    "\n",
    "function [out] = optimizationFunction(startPoint, g)\n",
    "  % Start with the x and y values at this given step\n",
    "  x = startPoint(1);\n",
    "  y = startPoint(2);\n",
    "  \n",
    "  % Solve for delg/delx = 0; delg/dely = 0 simultaneously\n",
    "  gx = 3*g(1)*x^2 + 2*g(2)*x*y + g(3)*y^2 + 2*g(5)*x + g(6)*y + g(8);  \n",
    "  gy = g(2)*x^2 + 2*g(3)*x*y + 3*g(4)*y^2 + g(6)*x + 2*g(7)*y + g(9);\n",
    "  out = [gx gy];\n",
    "endfunction\n",
    "```"
   ]
  },
  {
   "cell_type": "markdown",
   "metadata": {},
   "source": [
    "![](qn32.png)\n",
    "\n",
    "$$\n",
    "\\pagebreak\n",
    "$$"
   ]
  },
  {
   "cell_type": "markdown",
   "metadata": {
    "tags": []
   },
   "source": [
    "**iii** Write a code to determine whether they correspond to a maximum, minimum or a saddle point.\n",
    "\n",
    "\n",
    "> **Deliverable(s) : The code that identifies the type of critical points. The critical points and their type must be presented in the form of the table\n",
    "generated by code for the above polynomial.**"
   ]
  },
  {
   "cell_type": "markdown",
   "metadata": {},
   "source": [
    "![](33_hessian.jpeg)"
   ]
  },
  {
   "cell_type": "markdown",
   "metadata": {},
   "source": [
    "```octave\n",
    "## Author: vinayak <vinayak@vinayak-EXIGO-V2>\n",
    "## Created: 2022-02-23\n",
    "% Script to find out the nature of critical points of a polynomial function in 2 variables\n",
    "\n",
    "function [] = qn33 (pol)\n",
    "  \n",
    "  % Call the routine to take input and find the critical points of a function\n",
    "  [cp] = qn32(pol);\n",
    "  \n",
    "  % Iterate over the individual points, find out their nature and tabulate them\n",
    "  % Find out the number of critical points obtained\n",
    "  n = size(cp)(2);\n",
    "  \n",
    "  for i = 1:n,\n",
    "    [evals, nature] = hessian(pol, cp(:, i));\n",
    "    printf(\"\\nCritical Point\\n\");%, num2str(i));\n",
    "    disp(transpose(cp(:, i)));\n",
    "    printf(\"\\nEigen Values of Hessian for this critical point as follows\\n\");\n",
    "    disp(evals);\n",
    "    printf(\"\\nNature of the critical point: \");\n",
    "    disp(nature);\n",
    "  endfor\n",
    "  \n",
    "endfunction\n",
    "\n",
    "function [evals, nature] = hessian(g, cp)\n",
    "  % Given a polynomial and it's critical point, computes the\n",
    "  % hessian matrix and it's eigen values at this point\n",
    "  x = cp(1, 1); y = cp(2, 1);\n",
    "  \n",
    "  % Define the second order partial derivative hessian matrix\n",
    "  h11 = 6*g(1)*x + 2*g(2)*y + 2*g(5);\n",
    "  h12 = 2*g(2)*x + 2*g(3)*y + g(6);\n",
    "  h21 = h12;\n",
    "  h22 = 2*g(3)*x + 6*g(4)*y + 2*g(7);  \n",
    "  hessian = [h11 h12; h21 h22];\n",
    "  \n",
    "  % Find the eigen vector/eigen value pairs for the hessian matrix\n",
    "  [_, evs] = eigs(hessian);\n",
    "  \n",
    "  % Find out the nature of evs\n",
    "  sgn = 1;\n",
    "  evals = [];\n",
    "  for i = 1:length(evs),\n",
    "    sgn = sign(evs(i,i)) * sgn;\n",
    "    evals = [evals evs(i, i)];\n",
    "  endfor  \n",
    "  \n",
    "  % If all eigen values of hessian > 0 ===> Minima\n",
    "  % If all eigen values of hessian < 0 ===> Maxima\n",
    "  % If both +ve & -ve eigen values     ===> Saddle\n",
    "  if sgn == -1,\n",
    "    nature = \"saddle\";\n",
    "  elseif (sgn == 1) && (evs(1,1) > 0),\n",
    "    nature = \"minima\";\n",
    "  elseif (sgn == 1) && (evs(1,1) < 0),\n",
    "    nature = \"maxima\";\n",
    "  endif  \n",
    "endfunction\n",
    "```"
   ]
  },
  {
   "cell_type": "markdown",
   "metadata": {},
   "source": [
    "![](qn33.png)"
   ]
  }
 ],
 "metadata": {
  "kernelspec": {
   "display_name": "Python 3",
   "language": "python",
   "name": "python3"
  },
  "language_info": {
   "codemirror_mode": {
    "name": "ipython",
    "version": 3
   },
   "file_extension": ".py",
   "mimetype": "text/x-python",
   "name": "python",
   "nbconvert_exporter": "python",
   "pygments_lexer": "ipython3",
   "version": "3.6.10"
  }
 },
 "nbformat": 4,
 "nbformat_minor": 4
}
