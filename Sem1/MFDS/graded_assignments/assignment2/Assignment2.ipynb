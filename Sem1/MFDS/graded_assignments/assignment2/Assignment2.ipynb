{
 "cells": [
  {
   "cell_type": "markdown",
   "metadata": {
    "tags": []
   },
   "source": [
    "# Question: Gram-Schmidt Algorithm & QR Decomposition\n",
    "\n",
    "**i.** Write a code to generate a random matrix A of size $m × n$ with $m > n$ and calculate its Frobenius norm, $|| \\cdot ||_F$. The entries of A must be of the form r.dddd (example 5.4316). The inputs are the positive integers m and n and the output should display the the dimensions and the calculated norm value.\n",
    "\n",
    "\n",
    "\n",
    "> **Deliverable(s) : The code with the desired input and output (0.5)**"
   ]
  },
  {
   "cell_type": "code",
   "execution_count": 1,
   "metadata": {},
   "outputs": [],
   "source": [
    "from typing import List, Tuple\n",
    "import random, math\n",
    "import copy\n",
    "\n",
    "def generate_random_entry() -> float:\n",
    "    \"\"\"[Returns a random number of the form r.dddd]\n",
    "\n",
    "    Returns:\n",
    "        float: A random number\n",
    "    \"\"\"\n",
    "\n",
    "    digits = \"\"\n",
    "    for i in range(5):\n",
    "        dig = random.randint(0, 9)\n",
    "        if i == 4: dig = random.randint(1, 9)\n",
    "        digits = digits + str(dig)\n",
    "        if i == 0: digits += \".\"\n",
    "    return float(digits)\n",
    "\n",
    "def create_random_matrix(m:int, n:int, wide:bool = False) -> List:\n",
    "    \"\"\"[Takes in the number of rows and columns and generates a matrix of size m x n]\n",
    "\n",
    "    Args:\n",
    "        m (int): Number of rows of the matrix\n",
    "        n (int): Number of columns of the matrix\n",
    "        wide (bool, default = False): Whether wider or square matrix are allowed\n",
    "\n",
    "    Returns:\n",
    "        List: A matrix as a list of lists\n",
    "    \"\"\"\n",
    "    if not wide:\n",
    "        if m <= n:\n",
    "            raise AssertionError(\"Requested matrix is square or wide; It must be tall. Please give m > n\")\n",
    "    \n",
    "    A = []\n",
    "    for i in range(m):\n",
    "        ith_row = []\n",
    "        for j in range(n):\n",
    "            ith_row.append(generate_random_entry())\n",
    "        A.append(ith_row)\n",
    "    \n",
    "    return A\n",
    "\n",
    "def frob_norm(A: List) -> float:\n",
    "    \"\"\"[Takes in a matrix A and computes the frobenius norm of that matrix]\n",
    "\n",
    "    Args:\n",
    "        A (List): A matrix represented as List of Lists\n",
    "\n",
    "    Returns:\n",
    "        float: The frobenius norm of the matrix\n",
    "    \"\"\"\n",
    "    \n",
    "    if len(A) == 0:\n",
    "        raise AssertionError(\"Empty matrix passed. Pass a finite matrix\")\n",
    "\n",
    "    fro_norm = 0.0\n",
    "\n",
    "    for row in A:\n",
    "        for element in row:\n",
    "            fro_norm += element * element\n",
    "    \n",
    "    fro_norm = math.sqrt(fro_norm)\n",
    "    return fro_norm"
   ]
  },
  {
   "cell_type": "code",
   "execution_count": 2,
   "metadata": {},
   "outputs": [],
   "source": [
    "def display_matrix(A):\n",
    "    \"\"\"\n",
    "    Given a matrix as a list of lists, just prints them out neatly with row and column numbers\n",
    "    \"\"\"\n",
    "    nr = len(A)\n",
    "    nc = len(A[0])\n",
    "    matrix_string = \"        \"\n",
    "    for col in range(nc):\n",
    "        matrix_string += f\"C{col+1:<7}\"\n",
    "    matrix_string += \"\\nR1   \"\n",
    "    for idx, r in enumerate(A):\n",
    "        for element in r:\n",
    "            matrix_string += f\"{element: .4f} \"\n",
    "        if idx < nr - 1:\n",
    "            matrix_string += f\"\\nR{idx + 2:<3} \"\n",
    "    print(matrix_string)"
   ]
  },
  {
   "cell_type": "code",
   "execution_count": 3,
   "metadata": {},
   "outputs": [],
   "source": [
    "def rreduce(A:List, threshold:float = 1e-6) -> Tuple:\n",
    "    \"\"\"[Given a matrix A as a list of lists, compute it's row reduced echelon form.\n",
    "    Return that along with the rank of the matrix]\n",
    "\n",
    "    Args:\n",
    "        A (List): A m x n tall matrix\n",
    "        threshold (float, optional): When comparing the pivot elements, what magnitude of a value counts as zero magnitufe. Defaults to 1e-6.\n",
    "\n",
    "    Returns:\n",
    "        Tuple: A tuple of row reduced echelon form and the decision i.e. whether\n",
    "        the matrix has linearly independent columns or not\n",
    "    \"\"\"\n",
    "    # Create a copy of the original matrix\n",
    "    A = copy.deepcopy(A)\n",
    "            \n",
    "    # Find out number of rows and columns\n",
    "    nr, nc = len(A), len(A[0])            \n",
    "    \n",
    "    # Get Echelon form using row reduction (Only iterate for as many times as columns since tall matrix can't have more pivot elements than number of columns)\n",
    "    for i in range(nc - 1):\n",
    "        \n",
    "        pivot_element = A[i][i]\n",
    "        # TODO: Handle pivot = zero\n",
    "        \n",
    "        # Make all the elements below the pivot to be zero\n",
    "        # in an iterative manner\n",
    "        for j in range(i + 1, nr):\n",
    "                        \n",
    "            div_factor = A[j][i] / pivot_element     \n",
    "            \n",
    "            transformed_row = []\n",
    "            for idx, element in enumerate(A[j]):\n",
    "                transformed_element = element - div_factor * A[i][idx]\n",
    "                if idx == i: transformed_element = 0.0\n",
    "                transformed_row.append(transformed_element)\n",
    "            \n",
    "            A[j] = transformed_row\n",
    "    \n",
    "    # Check the leading diagonal entries;\n",
    "    # If a few of them are zeros or near zeros,\n",
    "    # then given matrix is not a full rank matrix\n",
    "    full_rank = True\n",
    "    for i in range(nc):\n",
    "        if abs(A[i][i]) <= threshold:\n",
    "            full_rank = False\n",
    "            break\n",
    "                    \n",
    "    return (A, full_rank)"
   ]
  },
  {
   "cell_type": "code",
   "execution_count": 4,
   "metadata": {},
   "outputs": [
    {
     "name": "stdout",
     "output_type": "stream",
     "text": [
      "        C1      C2      C3      C4      \n",
      "R1    3.0446  4.5245  9.3336  7.4312 \n",
      "R2    4.3088  2.6332  3.1957  1.7429 \n",
      "R3    9.4948  2.3089  7.9681  8.1817 \n",
      "R4    0.7217  1.0528  3.8706  7.7158 \n",
      "R5    3.6665  1.7198  7.9819  1.6907 \n"
     ]
    }
   ],
   "source": [
    "# Create a random tall matrix\n",
    "A = create_random_matrix(5,4)\n",
    "display_matrix(A)"
   ]
  },
  {
   "cell_type": "code",
   "execution_count": 5,
   "metadata": {},
   "outputs": [
    {
     "name": "stdout",
     "output_type": "stream",
     "text": [
      "        C1      C2      C3      C4      \n",
      "R1    3.0446  4.5245  9.3336  7.4312 \n",
      "R2    0.0000 -3.7700 -10.0135 -8.7739 \n",
      "R3    0.0000  0.0000  10.2054  12.4717 \n",
      "R4    0.0000  0.0000  0.0000  3.9098 \n",
      "R5    0.0000  0.0000  0.0000 -6.7021 \n"
     ]
    },
    {
     "data": {
      "text/plain": [
       "(None, True)"
      ]
     },
     "execution_count": 5,
     "metadata": {},
     "output_type": "execute_result"
    }
   ],
   "source": [
    "# Row reduce the matrix into it's REF and see if it's columns are linearly independent\n",
    "m, dec = rreduce(A)\n",
    "display_matrix(m), dec"
   ]
  },
  {
   "cell_type": "code",
   "execution_count": 6,
   "metadata": {},
   "outputs": [],
   "source": [
    "# Purposely generate a matrix where rows are linearly dependent\n",
    "# And check if the REF is accurate or not\n",
    "r1 = [generate_random_entry() for i in range(3)]\n",
    "r2 = [generate_random_entry() for i in range(3)]\n",
    "r3 = [0.1*(x + y) for x, y  in zip(r1, r2)]\n",
    "r4 = [(x - y)/2 for x, y in zip(r2, r3)]\n",
    "A = [r1,r2,r3,r4]"
   ]
  },
  {
   "cell_type": "code",
   "execution_count": 7,
   "metadata": {},
   "outputs": [
    {
     "name": "stdout",
     "output_type": "stream",
     "text": [
      "        C1      C2      C3      \n",
      "R1    1.2951  2.0831  2.4486 \n",
      "R2    0.1184  9.4195  5.0054 \n",
      "R3    0.1414  1.1503  0.7454 \n",
      "R4   -0.0115  4.1346  2.1300 \n"
     ]
    }
   ],
   "source": [
    "display_matrix(A)"
   ]
  },
  {
   "cell_type": "code",
   "execution_count": 8,
   "metadata": {},
   "outputs": [
    {
     "name": "stdout",
     "output_type": "stream",
     "text": [
      "        C1      C2      C3      \n",
      "R1    1.2951  2.0831  2.4486 \n",
      "R2    0.0000  9.2291  4.7815 \n",
      "R3    0.0000  0.0000  0.0000 \n",
      "R4    0.0000  0.0000 -0.0000 \n"
     ]
    },
    {
     "data": {
      "text/plain": [
       "(None, False)"
      ]
     },
     "execution_count": 8,
     "metadata": {},
     "output_type": "execute_result"
    }
   ],
   "source": [
    "m, dec = rreduce(A)\n",
    "display_matrix(m), dec"
   ]
  },
  {
   "cell_type": "markdown",
   "metadata": {},
   "source": [
    "$$\n",
    "\\pagebreak\n",
    "$$"
   ]
  },
  {
   "cell_type": "markdown",
   "metadata": {},
   "source": [
    "# Question: Gradient Descent Algorithm\n",
    "\n",
    "**i**: Consider the last 4 digits of your mobile number (Note : In case there is a 0 in one of the digits replace it by 3). Let it be $n_1n_2n_3n_4$. Generate a random matrix A of size $n_1n_2 \\times n_3n_4$. For example, if the last four digits are 2311, generate a random matrix of size 23 × 11. Write a code to calculate the $l_{\\infty}$ norm of this matrix.\n",
    "\n",
    "> **Deliverable(s) : The code that generates the results. (0.5)**"
   ]
  },
  {
   "cell_type": "code",
   "execution_count": 9,
   "metadata": {},
   "outputs": [],
   "source": [
    "def generate_gradient_descent_matrix() -> Tuple:\n",
    "    \"\"\"[Creates a matrix of the size n1n2 * n3n4]\n",
    "\n",
    "    Returns:\n",
    "        List: A matrix in the form of a list\n",
    "    \"\"\"\n",
    "\n",
    "    # Prompt the user for his mobile number\n",
    "\n",
    "    # Ascertain the mobile number is valid\n",
    "    number = input(\"Enter your phone number:\\n\")\n",
    "    try:\n",
    "        n = int(number)\n",
    "        if len(number.strip()) > 10:\n",
    "            raise AssertionError(\"Mobile number cannot have more than 10 digits\")\n",
    "    except Exception as e:\n",
    "        print(\"{str(e)}\\nEntered number invalid. Please enter a valid number\")\n",
    "    \n",
    "    # Get the last 4 digits of the number and replace\n",
    "    # 0s in the number with 3s\n",
    "    rc = number.strip()[-4:]\n",
    "    rc = rc.replace(\"0\", \"3\")\n",
    "\n",
    "    nr, nc = int(rc[:2]), int(rc[2:])\n",
    "    matrix = create_random_matrix(nr, nc, wide = True)\n",
    "    b = create_random_matrix(nr, 1, wide = True)\n",
    "    \n",
    "    return (matrix, b)\n",
    "\n",
    "def linf_norm(matrix: List) -> float:\n",
    "    \"\"\"[Given a matrix computes it's linfinity norm]\n",
    "\n",
    "    Args:\n",
    "        matrix (List): [Matrix represented as a list of numbers]\n",
    "\n",
    "    Returns:\n",
    "        float: The infinity norm of the said matrix\n",
    "    \"\"\"\n",
    "    \n",
    "    inf_norm = 0\n",
    "\n",
    "    # For each row in the matrix\n",
    "    for row in matrix:\n",
    "        rsum = 0\n",
    "\n",
    "        # Compute the row sum of absolute vals of elements in that row\n",
    "        for element in row:\n",
    "            rsum += abs(element)\n",
    "\n",
    "        # Store the largest row sum\n",
    "        if rsum > inf_norm:\n",
    "            inf_norm = rsum\n",
    "    return inf_norm"
   ]
  },
  {
   "cell_type": "code",
   "execution_count": 10,
   "metadata": {},
   "outputs": [
    {
     "name": "stdin",
     "output_type": "stream",
     "text": [
      "Enter your phone number:\n",
      " 7738368566\n"
     ]
    },
    {
     "name": "stdout",
     "output_type": "stream",
     "text": [
      "L-inf norm of the generated matrix is 395.25300\n"
     ]
    }
   ],
   "source": [
    "A, b = generate_gradient_descent_matrix()\n",
    "# display_matrix(g)\n",
    "print(f\"L-inf norm of the generated matrix is {linf_norm(A):.5f}\")"
   ]
  },
  {
   "cell_type": "markdown",
   "metadata": {},
   "source": [
    "$$\n",
    "\\pagebreak\n",
    "$$"
   ]
  },
  {
   "cell_type": "markdown",
   "metadata": {},
   "source": [
    "**ii** Generate a random vector b of size $n_1n_2 \\times 1$ and consider the function $f(x) = \\frac{1}{2}||Ax - b||_2^2$ where $|| \\cdot ||_2$ is the vector $l_2$ norm. Its gradient is given to be $\\nabla f(x) = A^TAx - A^Tb$. Write a code to find the local minima of this function by using the gradient descent algorithm (by using the gradient expression given to you). The step size $\\tau$ in the iteration $x_k + 1 = x_k − \\tau \\nabla f(x_k)$ should be chosen by the formula \n",
    "\n",
    "$$\n",
    "\\tau = \\frac{g_k^Tg_k}{g_k^TA^TAg_k}\n",
    "$$\n",
    "\n",
    "where $g_k = \\nabla f(x_k) = A^TAx_k - A^Tb$ The algorithm should execute\n",
    "until $||x_k - x_{k - 1}||_2 < 10^{-4}$.\n",
    "\n",
    "> **Deliverable(s) : The code that finds the minimum of the given function and the expression for $\\tau$. The values of $x_k$ and $f(x_k)$ should be stored in a file.**"
   ]
  },
  {
   "cell_type": "code",
   "execution_count": 11,
   "metadata": {},
   "outputs": [],
   "source": [
    "import numpy as np\n",
    "import pandas as pd\n",
    "pd.set_option(\"display.max_colwidth\", None)\n",
    "np.set_printoptions(precision=3)\n",
    "\n",
    "def gradient_descent() -> List:\n",
    "    \"\"\"[Generates a random matrix based on user's mobile number, performs gradient descent and returns the solutions of the system of equation and intermediate steps taken]\n",
    "\n",
    "    Returns:\n",
    "        List: [A list of solutions, intermediate values and function values at each step]\n",
    "    \"\"\"\n",
    "    A, b = generate_gradient_descent_matrix()\n",
    "    A = np.array(A)\n",
    "    b = np.array(b)\n",
    "    \n",
    "    # Start with an initial guess of all zeros\n",
    "    current_solution = np.zeros((A.shape[1], 1))\n",
    "    optimization_steps = []\n",
    "    \n",
    "    # Begin optimization here\n",
    "    while True:\n",
    "        \n",
    "        # Find out the function value\n",
    "        f = np.matmul(A, current_solution) - b\n",
    "        func_val = 0.5 * (frob_norm(f.tolist()) ** 2)\n",
    "\n",
    "        # Find the gradient of the function at the current step \n",
    "        AtA = np.matmul(A.transpose(), A)\n",
    "        AtAx = np.matmul(AtA, current_solution)\n",
    "        Atb = np.matmul(A.transpose(), b)\n",
    "        gradf = AtAx - Atb\n",
    "\n",
    "        # Compute the learning rate\n",
    "        tau_nr = np.matmul(gradf.transpose(), gradf).flatten().item()\n",
    "        tau_dr = np.matmul(gradf.transpose(), np.matmul(AtA, gradf)).flatten().item()\n",
    "        \n",
    "        # Take a step in the opposite direction of the gradient\n",
    "        previous_solution = current_solution\n",
    "        current_solution = previous_solution - (tau_nr / tau_dr) * gradf\n",
    "\n",
    "        # Define the stopping criterion\n",
    "        stopping_threshold = frob_norm((current_solution - previous_solution).tolist())\n",
    "        if abs(stopping_threshold) <= 1e-4:\n",
    "            break\n",
    "\n",
    "        optimization_steps.append([np.around(previous_solution, 3), np.around(gradf, 3), func_val])\n",
    "    \n",
    "    return optimization_steps"
   ]
  },
  {
   "cell_type": "code",
   "execution_count": 12,
   "metadata": {},
   "outputs": [
    {
     "name": "stdin",
     "output_type": "stream",
     "text": [
      "Enter your phone number:\n",
      " 7738368566\n"
     ]
    }
   ],
   "source": [
    "solutions = gradient_descent()\n",
    "df = pd.DataFrame(solutions, columns = [\"Point\", \"Gradient\", \"FunctionValue\"])\n",
    "\n",
    "# Save the obtained solutions to a file\n",
    "df.to_csv(\"solutions.csv\", index = None);"
   ]
  },
  {
   "cell_type": "markdown",
   "metadata": {},
   "source": [
    "$$\n",
    "\\pagebreak\n",
    "$$"
   ]
  },
  {
   "cell_type": "markdown",
   "metadata": {},
   "source": [
    "**iii** Generate the graph of $f(x_k)$ vs $k$ where $k$ is the iteration number and $x_k$ is the current estimate of $x$ at iteration $k$. This graph should convey the decreasing nature of function values.\n",
    "\n",
    "> **Deliverable(s) : The graph that is generated.**"
   ]
  },
  {
   "cell_type": "code",
   "execution_count": 13,
   "metadata": {},
   "outputs": [
    {
     "data": {
      "image/png": "[encoded data removed]",
      "text/plain": [
       "<Figure size 1080x288 with 1 Axes>"
      ]
     },
     "metadata": {
      "needs_background": "light"
     },
     "output_type": "display_data"
    }
   ],
   "source": [
    "import matplotlib.pyplot as plt\n",
    "fig, ax = plt.subplots(1, 1, figsize = (15,4))\n",
    "\n",
    "plt.plot(df.index.tolist(), df.FunctionValue, )\n",
    "plt.xlabel(\"Iteration Number\")\n",
    "plt.ylabel(\"Function Value\")\n",
    "plt.title(\"Gradient Descent Optimization Plot\", fontsize = 20);\n",
    "plt.ylim();"
   ]
  },
  {
   "cell_type": "markdown",
   "metadata": {},
   "source": [
    "# Critical points of polynomial function\n",
    "\n",
    "**i** Generate a third degree polynomial in $x$ and $y$ named $g(x,y)$ that is based on your mobile number (Note : In case there is a 0 in one of the\n",
    "digits replace it by 3). Suppose your mobile number is $9412821233$, then the polynomial would be \n",
    "\n",
    "$$ \n",
    "g(x,y) = 9x^3 - 4x^2y + 1xy^2 -2y^3 +8x^2 -2xy + 1y^2 -2x + 3y -3\n",
    "$$\n",
    "\n",
    "where alternate positive and negative sign are used. \n",
    "\n",
    "> **Deliverable(s) : The polynomial constructed should be reported. (0.5)**"
   ]
  },
  {
   "cell_type": "code",
   "execution_count": 14,
   "metadata": {},
   "outputs": [],
   "source": [
    "def generate_polynomial() -> List:\n",
    "    \"\"\"Prompts the user for input and generates a polynomial based on the mobile number generated by the user. \n",
    "    Assumption: Mobile numbers can only be 10 digits long \n",
    "\n",
    "    Returns:\n",
    "        List: Co-efficient list for the polynomial\n",
    "    \"\"\"\n",
    "    number = input(\"Enter your cell number:\\n\")\n",
    "\n",
    "    # Validate the entered input\n",
    "    try:\n",
    "        _ = int(number.strip())\n",
    "    except Exception as e:\n",
    "        print(f\"Incorrect input format. Please enter a number!\")\n",
    "        return []\n",
    "\n",
    "    if len(number.strip()) != 10:\n",
    "        print(\"Please enter a valid number. Mobile number must be 10 digits long!\")  \n",
    "        return []\n",
    "    \n",
    "    polynomial_coefs = []\n",
    "    for idx, chr in enumerate(number):\n",
    "        coef = int(chr)\n",
    "        # In case there's a zero in the mobile number replace it with a 3\n",
    "        if coef == 0: coef = 3\n",
    "        # Alternate + and - in coefficients\n",
    "        if idx % 2 == 1:\n",
    "            coef = -1 * coef\n",
    "        polynomial_coefs.append(coef)\n",
    "    \n",
    "    return polynomial_coefs\n",
    "\n",
    "def display_polynomial(coefs: List):\n",
    "    \"\"\"[Given a list of co-efficients, displays a polynomial]\n",
    "\n",
    "    Args:\n",
    "        coefs (List): A coe-efficient polynomial\n",
    "    \"\"\"\n",
    "    terms = [\"x^3\", \"x^2y\", \"xy^2\", \"y^3\", \"x^2\", \"xy\", \"y^2\", \"x\", \"y\", \"1\"]\n",
    "    \n",
    "    polynomial = \"\"\n",
    "    for idx, (coef, term) in enumerate(zip(coefs, terms)):\n",
    "        if idx % 2 == 0:\n",
    "            polynomial += f\"+{coef}{term}\"\n",
    "        else:\n",
    "            polynomial += f\"{coef}{term}\"\n",
    "    polynomial = polynomial[:-1]\n",
    "    \n",
    "    # Print if there is a polynomial generated for reporting\n",
    "    if polynomial:\n",
    "        print(f\"\\nPolynomial corresponding to your phone number\\n{polynomial}\")"
   ]
  },
  {
   "cell_type": "markdown",
   "metadata": {},
   "source": [
    "$$\n",
    "\\pagebreak\n",
    "$$"
   ]
  },
  {
   "cell_type": "code",
   "execution_count": 22,
   "metadata": {},
   "outputs": [
    {
     "name": "stdin",
     "output_type": "stream",
     "text": [
      "Enter your cell number:\n",
      " adaw123\n"
     ]
    },
    {
     "name": "stdout",
     "output_type": "stream",
     "text": [
      "Incorrect input format. Please enter a number!\n"
     ]
    }
   ],
   "source": [
    "# Generate a polynomial with invalid input\n",
    "poly = generate_polynomial()\n",
    "display_polynomial(poly)"
   ]
  },
  {
   "cell_type": "code",
   "execution_count": 16,
   "metadata": {},
   "outputs": [
    {
     "name": "stdin",
     "output_type": "stream",
     "text": [
      "Enter your cell number:\n",
      " 77358\n"
     ]
    },
    {
     "name": "stdout",
     "output_type": "stream",
     "text": [
      "Please enter a valid number. Mobile number must be 10 digits long!\n"
     ]
    }
   ],
   "source": [
    "# Generate a polynomial with fewer/more than 10 digits\n",
    "poly = generate_polynomial()\n",
    "display_polynomial(poly)"
   ]
  },
  {
   "cell_type": "code",
   "execution_count": 17,
   "metadata": {},
   "outputs": [
    {
     "name": "stdin",
     "output_type": "stream",
     "text": [
      "Enter your cell number:\n",
      " 7738368566\n"
     ]
    },
    {
     "name": "stdout",
     "output_type": "stream",
     "text": [
      "\n",
      "Polynomial corresponding to your phone number\n",
      "+7x^3-7x^2y+3xy^2-8y^3+3x^2-6xy+8y^2-5x+6y-6\n"
     ]
    }
   ],
   "source": [
    "# Generate a plynomial with valid input\n",
    "poly = generate_polynomial()\n",
    "display_polynomial(poly)"
   ]
  },
  {
   "cell_type": "markdown",
   "metadata": {},
   "source": [
    "$$\n",
    "\\pagebreak\n",
    "$$"
   ]
  },
  {
   "cell_type": "markdown",
   "metadata": {},
   "source": [
    "**ii** Write a code to find all critical points of $g(x, y)$. You may use built in functions like `solve` (or other similar functions) in Octave/Matlab to find the critical points. \n",
    "\n",
    "> **Deliverable(s) : The code that finds the critical points along with the display of all the calculated critical points. (1)**"
   ]
  },
  {
   "cell_type": "markdown",
   "metadata": {},
   "source": [
    "![](32_critical_points.jpeg)"
   ]
  },
  {
   "cell_type": "code",
   "execution_count": 18,
   "metadata": {},
   "outputs": [],
   "source": [
    "from scipy.optimize import fsolve\n",
    "\n",
    "import warnings, random\n",
    "warnings.filterwarnings(\"error\")\n",
    "\n",
    "def find_critical_points(polynomial: List) -> List:\n",
    "    \"\"\"[Accepts a polynomial of 3rd degree in x and y and finds out the critical points of the same in an iterative manner]\n",
    "\n",
    "    Args:\n",
    "        polynomial (List): Co-efs of 3rd degree polynomial as a list\n",
    "\n",
    "    Returns:\n",
    "        List: A dataframe of solutions\n",
    "    \"\"\"\n",
    "    g = polynomial\n",
    "    \n",
    "    # Define the system of simultaneous equations for scipy to solve\n",
    "    def equations(p):\n",
    "        x, y = p\n",
    "\n",
    "        gx = (3*g[0])*(x**2) + (2*g[1])*(x*y) + (g[2])*(y**2) + (2*g[4])*(x) + (g[5])*(y) + (g[7])\n",
    "        gy = (g[1])*(x**2) + (2*g[2])*(x*y) + (3*g[3])*(y**2) + (g[5])*(x) + (g[6])*(y) + (g[8])\n",
    "\n",
    "        return (gx, gy)\n",
    "\n",
    "    solutions = []\n",
    "    counter = 0\n",
    "\n",
    "    # Select a random starting point in the R2 landscape and iterate for 1000 \n",
    "    # times in this landscape to find roots of the equation\n",
    "    while counter < 1000:\n",
    "        initial_x, initial_y = random.randint(-10000, 10000), random.randint(-10000, 10000)\n",
    "        try:\n",
    "            # Try to solve the equations\n",
    "            x, y =  fsolve(equations, (initial_x, initial_y))\n",
    "            counter += 1\n",
    "\n",
    "            # Rounding in order to avoid solutions which differ by a very thin margin\n",
    "            # i.e. in the 8th or 9th decimal place\n",
    "            sol = (round(x,7),round(y,7))\n",
    "            \n",
    "            # If the solution has not been encountered, then add it to the set of\n",
    "            # solutions container defined above\n",
    "            if not (sol in solutions):\n",
    "                solutions.append(sol)\n",
    "                \n",
    "        except RuntimeWarning:\n",
    "            # This is to suppress the solutions which do not converge and simply \n",
    "            # raise a warning that the solution didn't converge\n",
    "            pass\n",
    "    \n",
    "    return solutions"
   ]
  },
  {
   "cell_type": "code",
   "execution_count": 19,
   "metadata": {},
   "outputs": [
    {
     "name": "stdin",
     "output_type": "stream",
     "text": [
      "Enter your cell number:\n",
      " 7738368566\n"
     ]
    },
    {
     "name": "stdout",
     "output_type": "stream",
     "text": [
      "\n",
      "Polynomial corresponding to your phone number\n",
      "+7x^3-7x^2y+3xy^2-8y^3+3x^2-6xy+8y^2-5x+6y-6\n",
      "CP 0: (x =-0.53201, y = 0.65738)\n",
      "CP 1: (x = 0.21693, y =-0.27483)\n",
      "CP 2: (x = 0.59938, y = 0.47341)\n",
      "CP 3: (x =-0.70123, y =-0.45777)\n"
     ]
    }
   ],
   "source": [
    "# Find the critical points of a random polynomial\n",
    "g = generate_polynomial()\n",
    "solutions = find_critical_points(g)\n",
    "\n",
    "# Show the critical points\n",
    "display_polynomial(g)\n",
    "for idx, point in enumerate(solutions):\n",
    "    print(f\"CP{idx:2d}: (x ={point[0]: .5f}, y ={point[1]: .5f})\")"
   ]
  },
  {
   "cell_type": "markdown",
   "metadata": {},
   "source": [
    "$$\n",
    "\\pagebreak\n",
    "$$"
   ]
  },
  {
   "cell_type": "markdown",
   "metadata": {
    "tags": []
   },
   "source": [
    "**iii** Write a code to determine whether they correspond to a maximum, minimum or a saddle point.\n",
    "\n",
    "\n",
    "> **Deliverable(s) : The code that identifies the type of critical points. The critical points and their type must be presented in the form of the table\n",
    "generated by code for the above polynomial.**"
   ]
  },
  {
   "cell_type": "markdown",
   "metadata": {},
   "source": [
    "![](33_hessian.jpeg)"
   ]
  },
  {
   "cell_type": "code",
   "execution_count": 20,
   "metadata": {
    "tags": []
   },
   "outputs": [],
   "source": [
    "def determine_nature(polynomial: List, critical_point: Tuple, threshold: float = 1e-6) -> str:\n",
    "    \"\"\"[Given a polynomial and an identified critical point for the polynomial,\n",
    "    computes if the point is a maxima, minima or saddle point]\n",
    "\n",
    "    Args:\n",
    "        polynomial (List): Co-efficients of the polynomial\n",
    "        critical_point (Tuple): A critical point in R2\n",
    "        threshold (float, default: 1e-6): A zero threshold (i.e. whether the eigen value found is zero or not) \n",
    "\n",
    "    Returns:\n",
    "        str: Type of the point\n",
    "    \"\"\"\n",
    "    g = polynomial\n",
    "    cx, cy = critical_point\n",
    "\n",
    "    # Compute hessian matrix values\n",
    "    h11 = 6*g[0]*cx + 2*g[1]*cy + 2*g[4]\n",
    "    h12 = 2*g[1]*cx + 2*g[2]*cy + g[5]\n",
    "    h21 = h12\n",
    "    h22 = 2*g[2]*cx + 6*g[3]*cy + 2*g[6]\n",
    "\n",
    "    # Find the determinant of this hessian matrix\n",
    "    D = h11 * h22 - h12 * h21\n",
    "       \n",
    "    # Check the signs of eigen values\n",
    "    if abs(D) < threshold:\n",
    "        return \"inconclusive\"\n",
    "    elif D < 0:\n",
    "        return \"saddle\"\n",
    "    elif ((D > 0) and (h11 > 0)):\n",
    "        return \"minima\"\n",
    "    elif ((D > 0) and (h11 < 0)):\n",
    "        return \"maxima\""
   ]
  },
  {
   "cell_type": "code",
   "execution_count": 21,
   "metadata": {},
   "outputs": [
    {
     "name": "stdin",
     "output_type": "stream",
     "text": [
      "Enter your cell number:\n",
      " 7738368566\n"
     ]
    },
    {
     "name": "stdout",
     "output_type": "stream",
     "text": [
      "\n",
      "Polynomial corresponding to your phone number\n",
      "+7x^3-7x^2y+3xy^2-8y^3+3x^2-6xy+8y^2-5x+6y-6\n",
      "\n",
      "CP 0: (x =-0.70123, y =-0.45777) | Nature: saddle\n",
      "CP 1: (x = 0.21693, y =-0.27483) | Nature: minima\n",
      "CP 2: (x = 0.59938, y = 0.47341) | Nature: saddle\n",
      "CP 3: (x =-0.53201, y = 0.65738) | Nature: maxima\n"
     ]
    }
   ],
   "source": [
    "# Find the critical points of a random polynomial\n",
    "g = generate_polynomial()\n",
    "solutions = find_critical_points(g)\n",
    "\n",
    "# Show the Polynomial\n",
    "display_polynomial(g)\n",
    "print()\n",
    "\n",
    "# Determine the nature of the critical points and print the same\n",
    "for idx, point in enumerate(solutions):\n",
    "    nature = determine_nature(g, point)\n",
    "    print(f\"CP{idx:2d}: (x ={point[0]: .5f}, y ={point[1]: .5f}) | Nature: {nature}\")"
   ]
  }
 ],
 "metadata": {
  "kernelspec": {
   "display_name": "Python 3",
   "language": "python",
   "name": "python3"
  },
  "language_info": {
   "codemirror_mode": {
    "name": "ipython",
    "version": 3
   },
   "file_extension": ".py",
   "mimetype": "text/x-python",
   "name": "python",
   "nbconvert_exporter": "python",
   "pygments_lexer": "ipython3",
   "version": "3.6.10"
  }
 },
 "nbformat": 4,
 "nbformat_minor": 4
}
