{
 "cells": [
  {
   "cell_type": "markdown",
   "metadata": {},
   "source": [
    "# Q1. Gram-Schmidt Algorithm & QR Decomposition\n",
    "\n",
    "1. Write a code to generate a random matrix A of size $m × n$ with $m > n$ and calculate its Frobenius norm, $∥ · ∥F$. The entries of A must be of the form r.dddd (example 5.4316). The inputs are the positive integers m and n and the output should display the the dimensions and the calculated norm value.\n",
    "\n",
    "\n",
    "> **Deliverable(s) : The code with the desired input and output (0.5)**"
   ]
  },
  {
   "cell_type": "code",
   "execution_count": 1,
   "metadata": {},
   "outputs": [],
   "source": [
    "from typing import List, Tuple\n",
    "import random, math\n",
    "import copy\n",
    "\n",
    "def generate_random_entry() -> float:\n",
    "    \"\"\"[Returns a random number of the form r.dddd]\n",
    "\n",
    "    Returns:\n",
    "        float: A random number\n",
    "    \"\"\"\n",
    "\n",
    "    digits = \"\"\n",
    "    for i in range(5):\n",
    "        dig = random.randint(0, 9)\n",
    "        if i == 4: dig = random.randint(1, 9)\n",
    "        digits = digits + str(dig)\n",
    "        if i == 0: digits += \".\"\n",
    "    return float(digits)\n",
    "\n",
    "def create_random_matrix(m:int, n:int) -> List:\n",
    "    \"\"\"[Takes in the number of rows and columns and generates a matrix of size m x n]\n",
    "\n",
    "    Args:\n",
    "        m (int): Number of rows of the matrix\n",
    "        n (int): Number of columns of the matrix\n",
    "\n",
    "    Returns:\n",
    "        List: A matrix as a list of lists\n",
    "    \"\"\"\n",
    "    \n",
    "    if m <= n:\n",
    "        raise AssertionError(\"Requested matrix is square or wide; It must be tall. Please give m > n\")\n",
    "    \n",
    "    A = []\n",
    "    for i in range(m):\n",
    "        ith_row = []\n",
    "        for j in range(n):\n",
    "            ith_row.append(generate_random_entry())\n",
    "        A.append(ith_row)\n",
    "    \n",
    "    return A\n",
    "\n",
    "def frob_norm(A: List) -> float:\n",
    "    \"\"\"[Takes in a matrix A and computes the frobenius norm of that matrix]\n",
    "\n",
    "    Args:\n",
    "        A (List): A matrix represented as List of Lists\n",
    "\n",
    "    Returns:\n",
    "        float: The frobenius norm of the matrix\n",
    "    \"\"\"\n",
    "    \n",
    "    if len(A) == 0:\n",
    "        raise AssertionError(\"Empty matrix passed. Pass a finite matrix\")\n",
    "\n",
    "    fro_norm = 0.0\n",
    "\n",
    "    for row in A:\n",
    "        for element in row:\n",
    "            fro_norm += element * element\n",
    "    \n",
    "    fro_norm = math.sqrt(fro_norm)\n",
    "    return fro_norm"
   ]
  },
  {
   "cell_type": "code",
   "execution_count": 2,
   "metadata": {},
   "outputs": [],
   "source": [
    "def display_matrix(A):\n",
    "    \"\"\"\n",
    "    Given a matrix as a list of lists, just prints them out neatly with row and column numbers\n",
    "    \"\"\"\n",
    "    nr = len(A)\n",
    "    nc = len(A[0])\n",
    "    matrix_string = \"        \"\n",
    "    for col in range(nc):\n",
    "        matrix_string += f\"C{col+1:<7}\"\n",
    "    matrix_string += \"\\nR1   \"\n",
    "    for idx, r in enumerate(A):\n",
    "        for element in r:\n",
    "            matrix_string += f\"{element: .4f} \"\n",
    "        if idx < nr - 1:\n",
    "            matrix_string += f\"\\nR{idx + 2:<3} \"\n",
    "    print(matrix_string)"
   ]
  },
  {
   "cell_type": "code",
   "execution_count": 3,
   "metadata": {},
   "outputs": [],
   "source": [
    "def rreduce(A:List, threshold:float = 1e-6) -> Tuple:\n",
    "    \"\"\"[Given a matrix A as a list of lists, compute it's row reduced echelon form.\n",
    "    Return that along with the rank of the matrix]\n",
    "\n",
    "    Args:\n",
    "        A (List): A m x n tall matrix\n",
    "        threshold (float, optional): When comparing the pivot elements, what magnitude of a value counts as zero magnitufe. Defaults to 1e-6.\n",
    "\n",
    "    Returns:\n",
    "        Tuple: A tuple of row reduced echelon form and the decision i.e. whether\n",
    "        the matrix has linearly independent columns or not\n",
    "    \"\"\"\n",
    "    # Create a copy of the original matrix\n",
    "    A = copy.deepcopy(A)\n",
    "            \n",
    "    # Find out number of rows and columns\n",
    "    nr, nc = len(A), len(A[0])            \n",
    "    \n",
    "    # Get Echelon form using row reduction (Only iterate for as many times as columns since tall matrix can't have more pivot elements than number of columns)\n",
    "    for i in range(nc - 1):\n",
    "        \n",
    "        pivot_element = A[i][i]\n",
    "        # TODO: Handle pivot = zero\n",
    "        \n",
    "        # Make all the elements below the pivot to be zero\n",
    "        # in an iterative manner\n",
    "        for j in range(i + 1, nr):\n",
    "                        \n",
    "            div_factor = A[j][i] / pivot_element     \n",
    "            \n",
    "            transformed_row = []\n",
    "            for idx, element in enumerate(A[j]):\n",
    "                transformed_element = element - div_factor * A[i][idx]\n",
    "                if idx == i: transformed_element = 0.0\n",
    "                transformed_row.append(transformed_element)\n",
    "            \n",
    "            A[j] = transformed_row\n",
    "    \n",
    "    # Check the leading diagonal entries;\n",
    "    # If a few of them are zeros or near zeros,\n",
    "    # then given matrix is not a full rank matrix\n",
    "    full_rank = True\n",
    "    for i in range(nc):\n",
    "        if abs(A[i][i]) <= threshold:\n",
    "            full_rank = False\n",
    "            break\n",
    "                    \n",
    "    return (A, full_rank)"
   ]
  },
  {
   "cell_type": "code",
   "execution_count": 4,
   "metadata": {},
   "outputs": [
    {
     "name": "stdout",
     "output_type": "stream",
     "text": [
      "        C1      C2      C3      C4      \n",
      "R1    3.8104  9.2587  8.1119  9.9875 \n",
      "R2    4.2181  8.2894  5.8697  5.8746 \n",
      "R3    0.5087  9.6614  3.1207  6.4607 \n",
      "R4    7.2982  2.7529  0.3329  1.3387 \n",
      "R5    9.4058  8.0452  4.5884  6.8834 \n"
     ]
    }
   ],
   "source": [
    "# Create a random tall matrix\n",
    "A = create_random_matrix(5,4)\n",
    "display_matrix(A)"
   ]
  },
  {
   "cell_type": "code",
   "execution_count": 5,
   "metadata": {},
   "outputs": [
    {
     "name": "stdout",
     "output_type": "stream",
     "text": [
      "        C1      C2      C3      C4      \n",
      "R1    3.8104  9.2587  8.1119  9.9875 \n",
      "R2    0.0000 -1.9599 -3.1101 -5.1815 \n",
      "R3    0.0000  0.0000 -11.3320 -17.1468 \n",
      "R4    0.0000  0.0000  0.0000  8.8493 \n",
      "R5    0.0000  0.0000  0.0000  9.1783 \n"
     ]
    },
    {
     "data": {
      "text/plain": [
       "(None, True)"
      ]
     },
     "execution_count": 5,
     "metadata": {},
     "output_type": "execute_result"
    }
   ],
   "source": [
    "# Row reduce the matrix into it's REF and see if it's columns are linearly independent\n",
    "m, dec = rreduce(A)\n",
    "display_matrix(m), dec"
   ]
  },
  {
   "cell_type": "code",
   "execution_count": 6,
   "metadata": {},
   "outputs": [],
   "source": [
    "# Purposely generate a matrix where rows are linearly dependent\n",
    "# And check if the REF is accurate or not\n",
    "r1 = [generate_random_entry() for i in range(3)]\n",
    "r2 = [generate_random_entry() for i in range(3)]\n",
    "r3 = [0.1*(x + y) for x, y  in zip(r1, r2)]\n",
    "r4 = [(x - y)/2 for x, y in zip(r2, r3)]\n",
    "A = [r1,r2,r3,r4]"
   ]
  },
  {
   "cell_type": "code",
   "execution_count": 7,
   "metadata": {},
   "outputs": [
    {
     "name": "stdout",
     "output_type": "stream",
     "text": [
      "        C1      C2      C3      \n",
      "R1    2.7619  7.3907  1.2164 \n",
      "R2    1.8098  3.0371  0.6946 \n",
      "R3    0.4572  1.0428  0.1911 \n",
      "R4    0.6763  0.9972  0.2517 \n"
     ]
    }
   ],
   "source": [
    "display_matrix(A)"
   ]
  },
  {
   "cell_type": "code",
   "execution_count": 8,
   "metadata": {},
   "outputs": [
    {
     "name": "stdout",
     "output_type": "stream",
     "text": [
      "        C1      C2      C3      \n",
      "R1    2.7619  7.3907  1.2164 \n",
      "R2    0.0000 -1.8058 -0.1025 \n",
      "R3    0.0000  0.0000  0.0000 \n",
      "R4    0.0000  0.0000  0.0000 \n"
     ]
    },
    {
     "data": {
      "text/plain": [
       "(None, False)"
      ]
     },
     "execution_count": 8,
     "metadata": {},
     "output_type": "execute_result"
    }
   ],
   "source": [
    "m, dec = rreduce(A)\n",
    "display_matrix(m), dec"
   ]
  },
  {
   "cell_type": "markdown",
   "metadata": {},
   "source": [
    "$$\n",
    "\\pagebreak\n",
    "$$"
   ]
  },
  {
   "cell_type": "markdown",
   "metadata": {},
   "source": [
    "# Q3\n",
    "\n",
    "## i\n",
    "\n",
    "Generate a third degree polynomial in $x$ and $y$ named $g(x,y)$ that is based on your mobile number (Note : In case there is a 0 in one of the\n",
    "digits replace it by 3). Suppose your mobile number is $9412821233$, then the polynomial would be \n",
    "\n",
    "$$ \n",
    "g(x,y) = 9x^3 - 4x^2y + 1xy^2 -2y^3 +8x^2 -2xy + 1y^2 -2x + 3y -3\n",
    "$$\n",
    "\n",
    "where alternate positive and negative sign are used. \n",
    "\n",
    "**Deliverable(s) : The polynomial constructed should be reported. (0.5)**"
   ]
  },
  {
   "cell_type": "code",
   "execution_count": 9,
   "metadata": {},
   "outputs": [],
   "source": [
    "def generate_polynomial() -> List:\n",
    "    \"\"\"Prompts the user for input and generates a polynomial based on the mobile number generated by the user. \n",
    "    Assumption: Mobile numbers can only be 10 digits long \n",
    "\n",
    "    Returns:\n",
    "        List: Co-efficient list for the polynomial\n",
    "    \"\"\"\n",
    "    number = input(\"Enter your cell number:\\n\")\n",
    "\n",
    "    # Validate the entered input\n",
    "    try:\n",
    "        _ = int(number.strip())\n",
    "    except Exception as e:\n",
    "        raise AssertionError(\"Incorrect input format. Please enter a valid number\")\n",
    "\n",
    "    if len(number.strip()) != 10:\n",
    "        raise AssertionError(\"Mobile number must be 10 digits long!\")  \n",
    "    \n",
    "    polynomial_coefs = []\n",
    "    for idx, chr in enumerate(number):\n",
    "        coef = int(chr)\n",
    "        # In case there's a zero in the mobile number replace it with a 3\n",
    "        if coef == 0: coef = 3\n",
    "        # Alternate + and - in coefficients\n",
    "        if idx % 2 == 1:\n",
    "            coef = -1 * coef\n",
    "        polynomial_coefs.append(coef)\n",
    "    \n",
    "    return polynomial_coefs\n",
    "\n",
    "def display_polynomial(coefs: List):\n",
    "    \"\"\"[Given a list of co-efficients, displays a polynomial]\n",
    "\n",
    "    Args:\n",
    "        coefs (List): A coe-efficient polynomial\n",
    "    \"\"\"\n",
    "    terms = [\"x^3\", \"x^2y\", \"xy^2\", \"y^3\", \"x^2\", \"xy\", \"y^2\", \"x\", \"y\", \"1\"]\n",
    "    \n",
    "    polynomial = \"\"\n",
    "    for idx, (coef, term) in enumerate(zip(coefs, terms)):\n",
    "        if idx % 2 == 0:\n",
    "            polynomial += f\"+{coef}{term}\"\n",
    "        else:\n",
    "            polynomial += f\"{coef}{term}\"\n",
    "    polynomial = polynomial[:-1]\n",
    "    print(f\"\\nPolynomial corresponding to your phone number\\n{polynomial}\")"
   ]
  },
  {
   "cell_type": "markdown",
   "metadata": {},
   "source": [
    "$$\n",
    "\\pagebreak\n",
    "$$"
   ]
  },
  {
   "cell_type": "code",
   "execution_count": 10,
   "metadata": {},
   "outputs": [
    {
     "name": "stdin",
     "output_type": "stream",
     "text": [
      "Enter your cell number:\n",
      " aswer\n"
     ]
    },
    {
     "ename": "AssertionError",
     "evalue": "Incorrect input format. Please enter a valid number",
     "output_type": "error",
     "traceback": [
      "\u001b[0;31m---------------------------------------------------------------------------\u001b[0m",
      "\u001b[0;31mValueError\u001b[0m                                Traceback (most recent call last)",
      "\u001b[0;32m<ipython-input-9-7da437603f47>\u001b[0m in \u001b[0;36mgenerate_polynomial\u001b[0;34m()\u001b[0m\n\u001b[1;32m     11\u001b[0m     \u001b[0;32mtry\u001b[0m\u001b[0;34m:\u001b[0m\u001b[0;34m\u001b[0m\u001b[0;34m\u001b[0m\u001b[0m\n\u001b[0;32m---> 12\u001b[0;31m         \u001b[0m_\u001b[0m \u001b[0;34m=\u001b[0m \u001b[0mint\u001b[0m\u001b[0;34m(\u001b[0m\u001b[0mnumber\u001b[0m\u001b[0;34m.\u001b[0m\u001b[0mstrip\u001b[0m\u001b[0;34m(\u001b[0m\u001b[0;34m)\u001b[0m\u001b[0;34m)\u001b[0m\u001b[0;34m\u001b[0m\u001b[0;34m\u001b[0m\u001b[0m\n\u001b[0m\u001b[1;32m     13\u001b[0m     \u001b[0;32mexcept\u001b[0m \u001b[0mException\u001b[0m \u001b[0;32mas\u001b[0m \u001b[0me\u001b[0m\u001b[0;34m:\u001b[0m\u001b[0;34m\u001b[0m\u001b[0;34m\u001b[0m\u001b[0m\n",
      "\u001b[0;31mValueError\u001b[0m: invalid literal for int() with base 10: 'aswer'",
      "\nDuring handling of the above exception, another exception occurred:\n",
      "\u001b[0;31mAssertionError\u001b[0m                            Traceback (most recent call last)",
      "\u001b[0;32m<ipython-input-10-c0c53b8166f9>\u001b[0m in \u001b[0;36m<module>\u001b[0;34m\u001b[0m\n\u001b[1;32m      1\u001b[0m \u001b[0;31m# Generate a polynomial with invalid input\u001b[0m\u001b[0;34m\u001b[0m\u001b[0;34m\u001b[0m\u001b[0;34m\u001b[0m\u001b[0m\n\u001b[0;32m----> 2\u001b[0;31m \u001b[0mpoly\u001b[0m \u001b[0;34m=\u001b[0m \u001b[0mgenerate_polynomial\u001b[0m\u001b[0;34m(\u001b[0m\u001b[0;34m)\u001b[0m\u001b[0;34m\u001b[0m\u001b[0;34m\u001b[0m\u001b[0m\n\u001b[0m\u001b[1;32m      3\u001b[0m \u001b[0mdisplay_polynomial\u001b[0m\u001b[0;34m(\u001b[0m\u001b[0mpoly\u001b[0m\u001b[0;34m)\u001b[0m\u001b[0;34m\u001b[0m\u001b[0;34m\u001b[0m\u001b[0m\n",
      "\u001b[0;32m<ipython-input-9-7da437603f47>\u001b[0m in \u001b[0;36mgenerate_polynomial\u001b[0;34m()\u001b[0m\n\u001b[1;32m     12\u001b[0m         \u001b[0m_\u001b[0m \u001b[0;34m=\u001b[0m \u001b[0mint\u001b[0m\u001b[0;34m(\u001b[0m\u001b[0mnumber\u001b[0m\u001b[0;34m.\u001b[0m\u001b[0mstrip\u001b[0m\u001b[0;34m(\u001b[0m\u001b[0;34m)\u001b[0m\u001b[0;34m)\u001b[0m\u001b[0;34m\u001b[0m\u001b[0;34m\u001b[0m\u001b[0m\n\u001b[1;32m     13\u001b[0m     \u001b[0;32mexcept\u001b[0m \u001b[0mException\u001b[0m \u001b[0;32mas\u001b[0m \u001b[0me\u001b[0m\u001b[0;34m:\u001b[0m\u001b[0;34m\u001b[0m\u001b[0;34m\u001b[0m\u001b[0m\n\u001b[0;32m---> 14\u001b[0;31m         \u001b[0;32mraise\u001b[0m \u001b[0mAssertionError\u001b[0m\u001b[0;34m(\u001b[0m\u001b[0;34m\"Incorrect input format. Please enter a valid number\"\u001b[0m\u001b[0;34m)\u001b[0m\u001b[0;34m\u001b[0m\u001b[0;34m\u001b[0m\u001b[0m\n\u001b[0m\u001b[1;32m     15\u001b[0m \u001b[0;34m\u001b[0m\u001b[0m\n\u001b[1;32m     16\u001b[0m     \u001b[0;32mif\u001b[0m \u001b[0mlen\u001b[0m\u001b[0;34m(\u001b[0m\u001b[0mnumber\u001b[0m\u001b[0;34m.\u001b[0m\u001b[0mstrip\u001b[0m\u001b[0;34m(\u001b[0m\u001b[0;34m)\u001b[0m\u001b[0;34m)\u001b[0m \u001b[0;34m!=\u001b[0m \u001b[0;36m10\u001b[0m\u001b[0;34m:\u001b[0m\u001b[0;34m\u001b[0m\u001b[0;34m\u001b[0m\u001b[0m\n",
      "\u001b[0;31mAssertionError\u001b[0m: Incorrect input format. Please enter a valid number"
     ]
    }
   ],
   "source": [
    "# Generate a polynomial with invalid input\n",
    "poly = generate_polynomial()\n",
    "display_polynomial(poly)"
   ]
  },
  {
   "cell_type": "code",
   "execution_count": 11,
   "metadata": {},
   "outputs": [
    {
     "name": "stdin",
     "output_type": "stream",
     "text": [
      "Enter your cell number:\n",
      " 6879846846846541\n"
     ]
    },
    {
     "ename": "AssertionError",
     "evalue": "Mobile number must be 10 digits long!",
     "output_type": "error",
     "traceback": [
      "\u001b[0;31m---------------------------------------------------------------------------\u001b[0m",
      "\u001b[0;31mAssertionError\u001b[0m                            Traceback (most recent call last)",
      "\u001b[0;32m<ipython-input-11-3438a0f444e9>\u001b[0m in \u001b[0;36m<module>\u001b[0;34m\u001b[0m\n\u001b[1;32m      1\u001b[0m \u001b[0;31m# Generate a polynomial with more than 10 digits mobile number\u001b[0m\u001b[0;34m\u001b[0m\u001b[0;34m\u001b[0m\u001b[0;34m\u001b[0m\u001b[0m\n\u001b[0;32m----> 2\u001b[0;31m \u001b[0mpoly\u001b[0m \u001b[0;34m=\u001b[0m \u001b[0mgenerate_polynomial\u001b[0m\u001b[0;34m(\u001b[0m\u001b[0;34m)\u001b[0m\u001b[0;34m\u001b[0m\u001b[0;34m\u001b[0m\u001b[0m\n\u001b[0m\u001b[1;32m      3\u001b[0m \u001b[0mdisplay_polynomial\u001b[0m\u001b[0;34m(\u001b[0m\u001b[0mpoly\u001b[0m\u001b[0;34m)\u001b[0m\u001b[0;34m\u001b[0m\u001b[0;34m\u001b[0m\u001b[0m\n",
      "\u001b[0;32m<ipython-input-9-7da437603f47>\u001b[0m in \u001b[0;36mgenerate_polynomial\u001b[0;34m()\u001b[0m\n\u001b[1;32m     15\u001b[0m \u001b[0;34m\u001b[0m\u001b[0m\n\u001b[1;32m     16\u001b[0m     \u001b[0;32mif\u001b[0m \u001b[0mlen\u001b[0m\u001b[0;34m(\u001b[0m\u001b[0mnumber\u001b[0m\u001b[0;34m.\u001b[0m\u001b[0mstrip\u001b[0m\u001b[0;34m(\u001b[0m\u001b[0;34m)\u001b[0m\u001b[0;34m)\u001b[0m \u001b[0;34m!=\u001b[0m \u001b[0;36m10\u001b[0m\u001b[0;34m:\u001b[0m\u001b[0;34m\u001b[0m\u001b[0;34m\u001b[0m\u001b[0m\n\u001b[0;32m---> 17\u001b[0;31m         \u001b[0;32mraise\u001b[0m \u001b[0mAssertionError\u001b[0m\u001b[0;34m(\u001b[0m\u001b[0;34m\"Mobile number must be 10 digits long!\"\u001b[0m\u001b[0;34m)\u001b[0m\u001b[0;34m\u001b[0m\u001b[0;34m\u001b[0m\u001b[0m\n\u001b[0m\u001b[1;32m     18\u001b[0m \u001b[0;34m\u001b[0m\u001b[0m\n\u001b[1;32m     19\u001b[0m     \u001b[0mpolynomial_coefs\u001b[0m \u001b[0;34m=\u001b[0m \u001b[0;34m[\u001b[0m\u001b[0;34m]\u001b[0m\u001b[0;34m\u001b[0m\u001b[0;34m\u001b[0m\u001b[0m\n",
      "\u001b[0;31mAssertionError\u001b[0m: Mobile number must be 10 digits long!"
     ]
    }
   ],
   "source": [
    "# Generate a polynomial with more than 10 digits mobile number\n",
    "poly = generate_polynomial()\n",
    "display_polynomial(poly)"
   ]
  },
  {
   "cell_type": "code",
   "execution_count": 12,
   "metadata": {},
   "outputs": [
    {
     "name": "stdin",
     "output_type": "stream",
     "text": [
      "Enter your cell number:\n",
      " 8652345875\n"
     ]
    },
    {
     "name": "stdout",
     "output_type": "stream",
     "text": [
      "\n",
      "Polynomial corresponding to your phone number\n",
      "+8x^3-6x^2y+5xy^2-2y^3+3x^2-4xy+5y^2-8x+7y-5\n"
     ]
    }
   ],
   "source": [
    "# Generate a plynomial with valid input\n",
    "poly = generate_polynomial()\n",
    "display_polynomial(poly)"
   ]
  },
  {
   "cell_type": "markdown",
   "metadata": {},
   "source": [
    "$$\n",
    "\\pagebreak\n",
    "$$"
   ]
  },
  {
   "cell_type": "markdown",
   "metadata": {},
   "source": [
    "# ii\n",
    "\n",
    "Write a code to find all critical points of $g(x, y)$. You may use built in functions like `solve` (or other similar functions) in Octave/Matlab to\n",
    "find the critical points. \n",
    "\n",
    "**Deliverable(s) : The code that finds the critical points along with the display of all the calculated critical points. (1)**"
   ]
  },
  {
   "cell_type": "markdown",
   "metadata": {},
   "source": [
    "![](32_critical_points.jpeg)"
   ]
  },
  {
   "cell_type": "code",
   "execution_count": 13,
   "metadata": {},
   "outputs": [],
   "source": [
    "from scipy.optimize import fsolve\n",
    "import random\n",
    "\n",
    "import warnings\n",
    "warnings.filterwarnings(\"error\")\n",
    "\n",
    "def find_critical_points(polynomial: List) -> List:\n",
    "    \"\"\"[Accepts a polynomial of 3rd degree in x and y and finds out the critical points of the same in an iterative manner]\n",
    "\n",
    "    Args:\n",
    "        polynomial (List): Co-efs of 3rd degree polynomial as a list\n",
    "\n",
    "    Returns:\n",
    "        List: A dataframe of solutions\n",
    "    \"\"\"\n",
    "    g = polynomial\n",
    "    \n",
    "    # Define the system of simultaneous equations for scipy to solve\n",
    "    def equations(p):\n",
    "        x, y = p\n",
    "\n",
    "        gx = (3*g[0])*(x**2) + (2*g[1])*(x*y) + (g[2])*(y**2) + (2*g[4])*(x) + (g[5])*(y) + (g[7])\n",
    "        gy = (g[1])*(x**2) + (2*g[2])*(x*y) + (3*g[3])*(y**2) + (g[5])*(x) + (g[6])*(y) + (g[8])\n",
    "\n",
    "        return (gx, gy)\n",
    "\n",
    "    solutions = []\n",
    "    counter = 0\n",
    "\n",
    "    # Select a random starting point in the R2 landscape and iterate for 1000 \n",
    "    # times in this landscape to find roots of the equation\n",
    "    while counter < 1000:\n",
    "        initial_x, initial_y = random.randint(-10000, 10000), random.randint(-10000, 10000)\n",
    "        try:\n",
    "            # Try to solve the equations\n",
    "            x, y =  fsolve(equations, (initial_x, initial_y))\n",
    "            counter += 1\n",
    "\n",
    "            # Rounding in order to avoid solutions which differ by a very thin margin\n",
    "            # i.e. in the 8th or 9th decimal place\n",
    "            sol = (round(x,7),round(y,7))\n",
    "            \n",
    "            # If the solution has not been encountered, then add it to the set of\n",
    "            # solutions container defined above\n",
    "            if not (sol in solutions):\n",
    "                solutions.append(sol)\n",
    "                \n",
    "        except RuntimeWarning:\n",
    "            # This is to suppress the solutions which do not converge and simply \n",
    "            # raise a warning that the solution didn't converge\n",
    "            pass\n",
    "    \n",
    "    return solutions"
   ]
  },
  {
   "cell_type": "code",
   "execution_count": 14,
   "metadata": {},
   "outputs": [
    {
     "name": "stdin",
     "output_type": "stream",
     "text": [
      "Enter your cell number:\n",
      " 8652345875\n"
     ]
    },
    {
     "name": "stdout",
     "output_type": "stream",
     "text": [
      "\n",
      "Polynomial corresponding to your phone number\n",
      "+8x^3-6x^2y+5xy^2-2y^3+3x^2-4xy+5y^2-8x+7y-5\n",
      "CP 0: (x =-0.58067, y =-1.17227)\n",
      "CP 1: (x = 0.24377, y =-0.53297)\n",
      "CP 2: (x =-0.26611, y = 1.34001)\n",
      "CP 3: (x = 0.44817, y = 1.92652)\n"
     ]
    }
   ],
   "source": [
    "# Find the critical points of a random polynomial\n",
    "g = generate_polynomial()\n",
    "solutions = find_critical_points(g)\n",
    "\n",
    "# Show the critical points\n",
    "display_polynomial(g)\n",
    "for idx, point in enumerate(solutions):\n",
    "    print(f\"CP{idx:2d}: (x ={point[0]: .5f}, y ={point[1]: .5f})\")"
   ]
  },
  {
   "cell_type": "markdown",
   "metadata": {},
   "source": [
    "$$\n",
    "\\pagebreak\n",
    "$$"
   ]
  },
  {
   "cell_type": "markdown",
   "metadata": {
    "tags": []
   },
   "source": [
    "## iii\n",
    "\n",
    "Write a code to determine whether they correspond to a maximum, minimum or a saddle point.\n",
    "\n",
    "\n",
    "**Deliverable(s) : The code that identifies the type of critical points. The critical points and their type must be presented in the form of the table\n",
    "generated by code for the above polynomial.**"
   ]
  },
  {
   "cell_type": "markdown",
   "metadata": {},
   "source": [
    "![](33_hessian.jpeg)"
   ]
  },
  {
   "cell_type": "code",
   "execution_count": 15,
   "metadata": {
    "tags": []
   },
   "outputs": [],
   "source": [
    "def determine_nature(polynomial: List, critical_point: Tuple, threshold: float = 1e-6) -> str:\n",
    "    \"\"\"[Given a polynomial and an identified critical point for the polynomial,\n",
    "    computes if the point is a maxima, minima or saddle point]\n",
    "\n",
    "    Args:\n",
    "        polynomial (List): Co-efficients of the polynomial\n",
    "        critical_point (Tuple): A critical point in R2\n",
    "        threshold (float, default: 1e-6): A zero threshold (i.e. whether the eigen value found is zero or not) \n",
    "\n",
    "    Returns:\n",
    "        str: Type of the point\n",
    "    \"\"\"\n",
    "    g = polynomial\n",
    "    cx, cy = critical_point\n",
    "\n",
    "    # Compute hessian matrix values\n",
    "    h11 = 6*g[0]*cx + 2*g[1]*cy + 2*g[4]\n",
    "    h12 = 2*g[1]*cx + 2*g[2]*cy + g[5]\n",
    "    h21 = h12\n",
    "    h22 = 2*g[2]*cx + 6*g[3]*cy + 2*g[6]\n",
    "\n",
    "    # Find the determinant of this hessian matrix\n",
    "    D = h11 * h22 - h12 * h21\n",
    "       \n",
    "    # Check the signs of eigen values\n",
    "    if abs(D) < threshold:\n",
    "        return \"inconclusive\"\n",
    "    elif D < 0:\n",
    "        return \"saddle\"\n",
    "    elif ((D > 0) and (h11 > 0)):\n",
    "        return \"minima\"\n",
    "    elif ((D > 0) and (h11 < 0)):\n",
    "        return \"maxima\""
   ]
  },
  {
   "cell_type": "code",
   "execution_count": 16,
   "metadata": {},
   "outputs": [
    {
     "name": "stdin",
     "output_type": "stream",
     "text": [
      "Enter your cell number:\n",
      " 8652345875\n"
     ]
    },
    {
     "name": "stdout",
     "output_type": "stream",
     "text": [
      "\n",
      "Polynomial corresponding to your phone number\n",
      "+8x^3-6x^2y+5xy^2-2y^3+3x^2-4xy+5y^2-8x+7y-5\n",
      "\n",
      "CP 0: (x = 0.44817, y = 1.92652) | Nature: saddle\n",
      "CP 1: (x =-0.58067, y =-1.17227) | Nature: saddle\n",
      "CP 2: (x = 0.24377, y =-0.53297) | Nature: minima\n",
      "CP 3: (x =-0.26611, y = 1.34001) | Nature: maxima\n"
     ]
    }
   ],
   "source": [
    "# Find the critical points of a random polynomial\n",
    "g = generate_polynomial()\n",
    "solutions = find_critical_points(g)\n",
    "\n",
    "# Show the Polynomial\n",
    "display_polynomial(g)\n",
    "print()\n",
    "\n",
    "# Determine the nature of the critical points and print the same\n",
    "for idx, point in enumerate(solutions):\n",
    "    nature = determine_nature(g, point)\n",
    "    print(f\"CP{idx:2d}: (x ={point[0]: .5f}, y ={point[1]: .5f}) | Nature: {nature}\")"
   ]
  }
 ],
 "metadata": {
  "kernelspec": {
   "display_name": "Python 3",
   "language": "python",
   "name": "python3"
  },
  "language_info": {
   "codemirror_mode": {
    "name": "ipython",
    "version": 3
   },
   "file_extension": ".py",
   "mimetype": "text/x-python",
   "name": "python",
   "nbconvert_exporter": "python",
   "pygments_lexer": "ipython3",
   "version": "3.6.10"
  }
 },
 "nbformat": 4,
 "nbformat_minor": 4
}
