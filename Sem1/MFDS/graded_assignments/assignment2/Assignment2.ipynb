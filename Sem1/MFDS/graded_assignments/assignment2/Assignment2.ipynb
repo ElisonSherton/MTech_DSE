{
 "cells": [
  {
   "cell_type": "markdown",
   "metadata": {},
   "source": [
    "# Q1. Gram-Schmidt Algorithm & QR Decomposition\n",
    "\n",
    "1. Write a code to generate a random matrix A of size $m × n$ with $m > n$ and calculate its Frobenius norm, $∥ · ∥F$. The entries of A must be of the form r.dddd (example 5.4316). The inputs are the positive integers m and n and the output should display the the dimensions and the calculated norm value.\n",
    "\n",
    "\n",
    "> **Deliverable(s) : The code with the desired input and output (0.5)**"
   ]
  },
  {
   "cell_type": "code",
   "execution_count": 1,
   "metadata": {},
   "outputs": [],
   "source": [
    "from typing import List, Tuple\n",
    "import random, math\n",
    "import copy\n",
    "\n",
    "def generate_random_entry() -> float:\n",
    "    \"\"\"[Returns a random number of the form r.dddd]\n",
    "\n",
    "    Returns:\n",
    "        float: A random number\n",
    "    \"\"\"\n",
    "\n",
    "    digits = \"\"\n",
    "    for i in range(5):\n",
    "        dig = random.randint(0, 9)\n",
    "        if i == 4: dig = random.randint(1, 9)\n",
    "        digits = digits + str(dig)\n",
    "        if i == 0: digits += \".\"\n",
    "    return float(digits)\n",
    "\n",
    "def create_random_matrix(m:int, n:int) -> List:\n",
    "    \"\"\"[Takes in the number of rows and columns and generates a matrix of size m x n]\n",
    "\n",
    "    Args:\n",
    "        m (int): Number of rows of the matrix\n",
    "        n (int): Number of columns of the matrix\n",
    "\n",
    "    Returns:\n",
    "        List: A matrix as a list of lists\n",
    "    \"\"\"\n",
    "    \n",
    "    if m <= n:\n",
    "        raise AssertionError(\"Requested matrix is square or wide; It must be tall. Please give m > n\")\n",
    "    \n",
    "    A = []\n",
    "    for i in range(m):\n",
    "        ith_row = []\n",
    "        for j in range(n):\n",
    "            ith_row.append(generate_random_entry())\n",
    "        A.append(ith_row)\n",
    "    \n",
    "    return A\n",
    "\n",
    "def frob_norm(A: List) -> float:\n",
    "    \"\"\"[Takes in a matrix A and computes the frobenius norm of that matrix]\n",
    "\n",
    "    Args:\n",
    "        A (List): A matrix represented as List of Lists\n",
    "\n",
    "    Returns:\n",
    "        float: The frobenius norm of the matrix\n",
    "    \"\"\"\n",
    "    \n",
    "    if len(A) == 0:\n",
    "        raise AssertionError(\"Empty matrix passed. Pass a finite matrix\")\n",
    "\n",
    "    fro_norm = 0.0\n",
    "\n",
    "    for row in A:\n",
    "        for element in row:\n",
    "            fro_norm += element * element\n",
    "    \n",
    "    fro_norm = math.sqrt(fro_norm)\n",
    "    return fro_norm"
   ]
  },
  {
   "cell_type": "code",
   "execution_count": 2,
   "metadata": {},
   "outputs": [],
   "source": [
    "def display_matrix(A):\n",
    "    \"\"\"\n",
    "    Given a matrix as a list of lists, just prints them out neatly with row and column numbers\n",
    "    \"\"\"\n",
    "    nr = len(A)\n",
    "    nc = len(A[0])\n",
    "    matrix_string = \"        \"\n",
    "    for col in range(nc):\n",
    "        matrix_string += f\"C{col+1:<7}\"\n",
    "    matrix_string += \"\\nR1   \"\n",
    "    for idx, r in enumerate(A):\n",
    "        for element in r:\n",
    "            matrix_string += f\"{element: .4f} \"\n",
    "        if idx < nr - 1:\n",
    "            matrix_string += f\"\\nR{idx + 2:<3} \"\n",
    "    print(matrix_string)"
   ]
  },
  {
   "cell_type": "code",
   "execution_count": 3,
   "metadata": {},
   "outputs": [],
   "source": [
    "def rreduce(A:List, threshold:float = 1e-6) -> Tuple:\n",
    "    \"\"\"[Given a matrix A as a list of lists, compute it's row reduced echelon form.\n",
    "    Return that along with the rank of the matrix]\n",
    "\n",
    "    Args:\n",
    "        A (List): A m x n tall matrix\n",
    "        threshold (float, optional): When comparing the pivot elements, what magnitude of a value counts as zero magnitufe. Defaults to 1e-6.\n",
    "\n",
    "    Returns:\n",
    "        Tuple: A tuple of row reduced echelon form and the decision i.e. whether\n",
    "        the matrix has linearly independent columns or not\n",
    "    \"\"\"\n",
    "    # Create a copy of the original matrix\n",
    "    A = copy.deepcopy(A)\n",
    "            \n",
    "    # Find out number of rows and columns\n",
    "    nr, nc = len(A), len(A[0])            \n",
    "    \n",
    "    # Get Echelon form using row reduction (Only iterate for as many times as columns since tall matrix can't have more pivot elements than number of columns)\n",
    "    for i in range(nc - 1):\n",
    "        \n",
    "        pivot_element = A[i][i]\n",
    "        # TODO: Handle pivot = zero\n",
    "        \n",
    "        # Make all the elements below the pivot to be zero\n",
    "        # in an iterative manner\n",
    "        for j in range(i + 1, nr):\n",
    "                        \n",
    "            div_factor = A[j][i] / pivot_element     \n",
    "            \n",
    "            transformed_row = []\n",
    "            for idx, element in enumerate(A[j]):\n",
    "                transformed_element = element - div_factor * A[i][idx]\n",
    "                if idx == i: transformed_element = 0.0\n",
    "                transformed_row.append(transformed_element)\n",
    "            \n",
    "            A[j] = transformed_row\n",
    "    \n",
    "    # Check the leading diagonal entries;\n",
    "    # If a few of them are zeros or near zeros,\n",
    "    # then given matrix is not a full rank matrix\n",
    "    full_rank = True\n",
    "    for i in range(nc):\n",
    "        if abs(A[i][i]) <= threshold:\n",
    "            full_rank = False\n",
    "            break\n",
    "                    \n",
    "    return (A, full_rank)"
   ]
  },
  {
   "cell_type": "code",
   "execution_count": 4,
   "metadata": {},
   "outputs": [
    {
     "name": "stdout",
     "output_type": "stream",
     "text": [
      "        C1      C2      C3      C4      \n",
      "R1    3.7677  2.9638  0.4322  9.9589 \n",
      "R2    8.6845  1.2914  8.8298  6.6494 \n",
      "R3    0.0977  1.1176  9.8997  0.2875 \n",
      "R4    6.1157  9.7631  9.1169  9.0598 \n",
      "R5    8.2658  2.0536  7.3457  1.5751 \n"
     ]
    }
   ],
   "source": [
    "# Create a random tall matrix\n",
    "A = create_random_matrix(5,4)\n",
    "display_matrix(A)"
   ]
  },
  {
   "cell_type": "code",
   "execution_count": 10,
   "metadata": {},
   "outputs": [
    {
     "name": "stdout",
     "output_type": "stream",
     "text": [
      "        C1      C2      C3      \n",
      "R1    7.1179  1.9241  3.8554 \n",
      "R2    0.0000  8.2676  1.0355 \n",
      "R3    0.0000  0.0000  0.0000 \n",
      "R4    0.0000  0.0000 -0.0000 \n"
     ]
    },
    {
     "data": {
      "text/plain": [
       "(None, False)"
      ]
     },
     "execution_count": 10,
     "metadata": {},
     "output_type": "execute_result"
    }
   ],
   "source": [
    "# Row reduce the matrix into it's REF and see if it's columns are linearly independent\n",
    "m, dec = rreduce(A)\n",
    "display_matrix(m), dec"
   ]
  },
  {
   "cell_type": "code",
   "execution_count": 6,
   "metadata": {},
   "outputs": [],
   "source": [
    "# Purposely generate a matrix where rows are linearly dependent\n",
    "# And check if the REF is accurate or not\n",
    "r1 = [generate_random_entry() for i in range(3)]\n",
    "r2 = [generate_random_entry() for i in range(3)]\n",
    "r3 = [0.1*(x + y) for x, y  in zip(r1, r2)]\n",
    "r4 = [(x - y)/2 for x, y in zip(r2, r3)]\n",
    "A = [r1,r2,r3,r4]"
   ]
  },
  {
   "cell_type": "code",
   "execution_count": 7,
   "metadata": {},
   "outputs": [
    {
     "name": "stdout",
     "output_type": "stream",
     "text": [
      "        C1      C2      C3      \n",
      "R1    7.1179  1.9241  3.8554 \n",
      "R2    3.9372  9.3319  3.1681 \n",
      "R3    1.1055  1.1256  0.7024 \n",
      "R4    1.4158  4.1031  1.2329 \n"
     ]
    }
   ],
   "source": [
    "display_matrix(A)"
   ]
  },
  {
   "cell_type": "code",
   "execution_count": 9,
   "metadata": {},
   "outputs": [
    {
     "name": "stdout",
     "output_type": "stream",
     "text": [
      "        C1      C2      C3      \n",
      "R1    7.1179  1.9241  3.8554 \n",
      "R2    0.0000  8.2676  1.0355 \n",
      "R3    0.0000  0.0000  0.0000 \n",
      "R4    0.0000  0.0000 -0.0000 \n"
     ]
    },
    {
     "data": {
      "text/plain": [
       "(None, False)"
      ]
     },
     "execution_count": 9,
     "metadata": {},
     "output_type": "execute_result"
    }
   ],
   "source": [
    "m, dec = rreduce(A)\n",
    "display_matrix(m), dec"
   ]
  }
 ],
 "metadata": {
  "kernelspec": {
   "display_name": "Python 3",
   "language": "python",
   "name": "python3"
  },
  "language_info": {
   "codemirror_mode": {
    "name": "ipython",
    "version": 3
   },
   "file_extension": ".py",
   "mimetype": "text/x-python",
   "name": "python",
   "nbconvert_exporter": "python",
   "pygments_lexer": "ipython3",
   "version": "3.6.10"
  }
 },
 "nbformat": 4,
 "nbformat_minor": 4
}
