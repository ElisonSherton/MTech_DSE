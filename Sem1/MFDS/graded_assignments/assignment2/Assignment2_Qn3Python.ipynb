{
 "cells": [
  {
   "cell_type": "markdown",
   "metadata": {
    "tags": []
   },
   "source": [
    "# Question: Gram-Schmidt Algorithm & QR Decomposition\n",
    "\n",
    "**i.** Write a code to generate a random matrix A of size $m × n$ with $m > n$ and calculate its Frobenius norm, $|| \\cdot ||_F$. The entries of A must be of the form r.dddd (example 5.4316). The inputs are the positive integers m and n and the output should display the the dimensions and the calculated norm value.\n",
    "\n",
    "\n",
    "\n",
    "> **Deliverable(s) : The code with the desired input and output (0.5)**"
   ]
  },
  {
   "cell_type": "code",
   "execution_count": 1,
   "metadata": {},
   "outputs": [],
   "source": [
    "# Import required libraries\n",
    "from typing import List, Tuple\n",
    "import random, math\n",
    "import copy"
   ]
  },
  {
   "cell_type": "markdown",
   "metadata": {},
   "source": [
    "**A function to generate a random entry**"
   ]
  },
  {
   "cell_type": "code",
   "execution_count": 2,
   "metadata": {},
   "outputs": [],
   "source": [
    "def generate_random_entry() -> float:\n",
    "    \"\"\"[Returns a random number of the form r.dddd]\n",
    "\n",
    "    Returns:\n",
    "        float: A random number\n",
    "    \"\"\"\n",
    "\n",
    "    digits = \"\"\n",
    "    for i in range(5):\n",
    "        dig = random.randint(0, 9)\n",
    "        if i == 4: dig = random.randint(1, 9)\n",
    "        digits = digits + str(dig)\n",
    "        if i == 0: digits += \".\"\n",
    "    return float(digits)"
   ]
  },
  {
   "cell_type": "markdown",
   "metadata": {},
   "source": [
    "$$\n",
    "\\pagebreak\n",
    "$$\n",
    "\n",
    "**Create a random matrix of m x n**"
   ]
  },
  {
   "cell_type": "code",
   "execution_count": 3,
   "metadata": {},
   "outputs": [],
   "source": [
    "def create_random_matrix(m:int, n:int, wide:bool = False) -> List:\n",
    "    \"\"\"[Takes in the number of rows and columns and generates a matrix of size m x n]\n",
    "\n",
    "    Args:\n",
    "        m (int): Number of rows of the matrix\n",
    "        n (int): Number of columns of the matrix\n",
    "        wide (bool, default = False): Whether wider or square matrix are allowed\n",
    "\n",
    "    Returns:\n",
    "        List: A matrix as a list of lists\n",
    "    \"\"\"\n",
    "    if not wide:\n",
    "        if m <= n:\n",
    "            print(\"Error: Requested matrix is square or wide; It must be tall. Please give m > n\")\n",
    "            return []\n",
    "    \n",
    "    A = []\n",
    "    for i in range(m):\n",
    "        ith_row = []\n",
    "        for j in range(n):\n",
    "            ith_row.append(generate_random_entry())\n",
    "        A.append(ith_row)\n",
    "    \n",
    "    return A"
   ]
  },
  {
   "cell_type": "markdown",
   "metadata": {},
   "source": [
    "$$\n",
    "\\pagebreak\n",
    "$$\n",
    "\n",
    "**Compute the frobenius norm of a matrix**"
   ]
  },
  {
   "cell_type": "code",
   "execution_count": 4,
   "metadata": {},
   "outputs": [],
   "source": [
    "def frob_norm(A: List) -> Tuple:\n",
    "    \"\"\"[Takes in a matrix A and computes the frobenius norm of that matrix]\n",
    "\n",
    "    Args:\n",
    "        A (List): A matrix represented as List of Lists\n",
    "\n",
    "    Returns:\n",
    "        Tuple: [The frobenius norm of the matrix, and the number of additions, multiplications, divisions needed to compute the norm of the matrix]\n",
    "    \"\"\"\n",
    "    \n",
    "    if len(A) == 0:\n",
    "        print(\"Empty matrix passed. Pass a finite matrix\")\n",
    "        return -1.0\n",
    "    if len(A[0]) == 0:\n",
    "        print(\"Empty matrix passed. Pass a finite matrix\")\n",
    "        return -1.0\n",
    "    \n",
    "    additions, multiplications, divisions, root = -1, 0, 0, 0\n",
    "    fro_norm = 0.0\n",
    "\n",
    "    for row in A:\n",
    "        for element in row:\n",
    "            fro_norm += element * element\n",
    "            additions += 1\n",
    "            multiplications += 1\n",
    "    \n",
    "    fro_norm = (fro_norm) ** 0.5\n",
    "    root += 1\n",
    "    return (fro_norm, (additions, multiplications, divisions, root))"
   ]
  },
  {
   "cell_type": "markdown",
   "metadata": {},
   "source": [
    "$$\n",
    "\\pagebreak\n",
    "$$\n",
    "**Convenience function to display a matrix A**"
   ]
  },
  {
   "cell_type": "code",
   "execution_count": 5,
   "metadata": {},
   "outputs": [],
   "source": [
    "def display_matrix(A):\n",
    "    \"\"\"\n",
    "    Convenience function to display a matrix in pretty formatting\n",
    "    \"\"\"\n",
    "    nr = len(A)\n",
    "    nc = len(A[0])\n",
    "    matrix_string = \"        \"\n",
    "    for col in range(nc):\n",
    "        matrix_string += f\"C{col+1:<7}\"\n",
    "    matrix_string += \"\\nR1   \"\n",
    "    for idx, r in enumerate(A):\n",
    "        for element in r:\n",
    "            matrix_string += f\"{element: .4f} \"\n",
    "        if idx < nr - 1:\n",
    "            matrix_string += f\"\\nR{idx + 2:<3} \"\n",
    "    print(matrix_string)"
   ]
  },
  {
   "cell_type": "code",
   "execution_count": 6,
   "metadata": {},
   "outputs": [
    {
     "name": "stdout",
     "output_type": "stream",
     "text": [
      "Error: Requested matrix is square or wide; It must be tall. Please give m > n\n"
     ]
    }
   ],
   "source": [
    "# Try generating a random wide matrix\n",
    "# Expected Output: Error!\n",
    "A = create_random_matrix(4, 5)"
   ]
  },
  {
   "cell_type": "code",
   "execution_count": 7,
   "metadata": {},
   "outputs": [
    {
     "name": "stdout",
     "output_type": "stream",
     "text": [
      "        C1      C2      C3      C4      \n",
      "R1    0.6225  9.7233  0.2127  2.4735 \n",
      "R2    4.6029  3.1113  1.6691  7.8798 \n",
      "R3    7.3791  2.3178  2.8059  5.4336 \n",
      "R4    4.7058  3.1418  8.0338  1.6306 \n",
      "R5    6.3788  2.5215  3.9841  2.1683 \n"
     ]
    }
   ],
   "source": [
    "# Try generating a tall matrix\n",
    "# Expected Output: A tall matrix\n",
    "A = create_random_matrix(5, 4)\n",
    "display_matrix(A)"
   ]
  },
  {
   "cell_type": "code",
   "execution_count": 8,
   "metadata": {},
   "outputs": [
    {
     "name": "stdout",
     "output_type": "stream",
     "text": [
      "Frobenius Norm of matrix A: 21.46848\n"
     ]
    }
   ],
   "source": [
    "# Try caluclating frobenius norm of generated matrix\n",
    "# Expected Output: A float\n",
    "n, _ = frob_norm(A)\n",
    "print(f\"Frobenius Norm of matrix A: {n:0.5f}\")"
   ]
  },
  {
   "cell_type": "markdown",
   "metadata": {},
   "source": [
    "$$\n",
    "\\pagebreak\n",
    "$$\n",
    "\n",
    "**ii** Write a code to decide if Gram-Schmidt Algorithm can be applied to columns of a given matrix A through calculation of rank. The code should print appropriate messages indicating whether Gram-Schmidt is applicable on columns of the matrix or not.\n",
    "\n",
    "> **Deliverable(s) : The code that performs the test. (1)**\n",
    "\n",
    "**Methodology**\n",
    "\n",
    "- Find the row reduced echelon form of the given matrix\n",
    "\n",
    "- If rank of the matrix = number of columns of A $\\Rightarrow$ A has LI columns $\\Rightarrow$ A can be decomposed into $QR$ form\n",
    "\n",
    "- If rank of matrix is less than number of columns of A, A has Linearly Dependent columns $\\Rightarrow$ A cannot be expressed as $QR$\n",
    "\n",
    "**PS**\n",
    "\n",
    "- To check if an element is zero in REF, we use a very small threshold value of 1e-6. Since computationally, we can get numbers very close to zero but not actually zero while performing row reduction; we are bound to take some small threshold value for near zero quantities.\n",
    "\n",
    "*Define some functions to perform elementary matrix operations i.e. inner product, vector addition and scalar multiplication, matrix multiplication, matrix transpose and eventually column normed matrix. These functions will also help us in later computations throughout the assignment*"
   ]
  },
  {
   "cell_type": "markdown",
   "metadata": {},
   "source": [
    "$$\n",
    "\\pagebreak\n",
    "$$\n",
    "**Function to compute the inner product of two vectors**"
   ]
  },
  {
   "cell_type": "code",
   "execution_count": 9,
   "metadata": {},
   "outputs": [],
   "source": [
    "def inner_product(v1:List, v2:List) -> Tuple:\n",
    "    \"\"\"Given two vectors v1 and v2, computes their inner product\n",
    "\n",
    "    Args:\n",
    "        v1 (List): [A vector represented as a list]\n",
    "        v2 (List): [A vector represented as a list]\n",
    "\n",
    "    Returns:\n",
    "        Tuple: [A tuple of the inner product & number of additions, multiplications and divisions needed for performing the inner product]\n",
    "    \"\"\"\n",
    "    \n",
    "    # Here initialize addition to -1 because to compute the inner product of two \n",
    "    # n dimensional vectors we only need n - 1 additions and n multiplications\n",
    "    additions, multiplications, divisions = -1, 0, 0\n",
    "    \n",
    "    dot_product = 0.0\n",
    "    for e1, e2 in zip(v1, v2):\n",
    "        dot_product += e1 * e2\n",
    "        additions += 1; multiplications += 1\n",
    "    \n",
    "    return (dot_product, (additions, multiplications, divisions))"
   ]
  },
  {
   "cell_type": "markdown",
   "metadata": {},
   "source": [
    "$$\n",
    "\\pagebreak\n",
    "$$\n",
    "**Function to compute vector addition of two vectors**"
   ]
  },
  {
   "cell_type": "code",
   "execution_count": 10,
   "metadata": {},
   "outputs": [],
   "source": [
    "def vector_addition(v1:List, v2:List) -> Tuple:\n",
    "    \"\"\"[Given two vectors, adds them and computes the number of +, -, / needed for the same]\n",
    "\n",
    "    Args:\n",
    "        v1 (List): [A vector represented as a list]\n",
    "        v2 (List): [A vector represented as a list]\n",
    "\n",
    "    Returns:\n",
    "        Tuple: [A tuple representing vector subtraction result and the number of +, -, / needed to compute the result]\n",
    "    \"\"\"\n",
    "    \n",
    "    additions, multiplications, divisions = 0, 0, 0\n",
    "    resultant = []\n",
    "    \n",
    "    for e1, e2 in zip(v1, v2):\n",
    "        resultant.append(e1 + e2)\n",
    "        additions += 1\n",
    "    \n",
    "    return (resultant, (additions, multiplications, divisions))"
   ]
  },
  {
   "cell_type": "markdown",
   "metadata": {},
   "source": [
    "$$\n",
    "\\pagebreak\n",
    "$$\n",
    "**Function to compute scalar multiplication of a scalar with a vector**"
   ]
  },
  {
   "cell_type": "code",
   "execution_count": 11,
   "metadata": {},
   "outputs": [],
   "source": [
    "def scalar_multiplication(v1:List, k: float) -> Tuple:\n",
    "    \"\"\"[Given a vector and a scalar, scales the vector appropriately]\n",
    "\n",
    "    Args:\n",
    "        v1 (List): [A vector represented as a list]\n",
    "        k (float): [A scalar]\n",
    "\n",
    "    Returns:\n",
    "        Tuple: [A tuple representing scalar multiplication result and the number of +, -, / needed to compute the result]\n",
    "    \"\"\"\n",
    "    \n",
    "    additions, multiplications, divisions = 0, 0, 0\n",
    "    resultant = []\n",
    "    \n",
    "    for e1 in v1:\n",
    "        resultant.append(k * e1)\n",
    "        multiplications += 1\n",
    "    \n",
    "    return (resultant, (additions, multiplications, divisions))"
   ]
  },
  {
   "cell_type": "markdown",
   "metadata": {},
   "source": [
    "$$\n",
    "\\pagebreak\n",
    "$$\n",
    "\n",
    "**Function to perform matrix multiplication of two matrices A & B**"
   ]
  },
  {
   "cell_type": "code",
   "execution_count": 12,
   "metadata": {},
   "outputs": [],
   "source": [
    "def matrix_multiplication(A:List, B:List) -> Tuple:\n",
    "    \"\"\"[Given two matrices as list of lists, computes their matrix product]\n",
    "\n",
    "    Args:\n",
    "        A (List): [A matrix of dimension m x n]\n",
    "        B (List): [A matrix of dimension n x m]\n",
    "\n",
    "    Returns:\n",
    "        List: [A tuple of Matrix product as a list of lists and the number of additions, multiplications and divisions needed for performing the operation]\n",
    "    \"\"\"\n",
    "\n",
    "    a, m, d = 0, 0, 0\n",
    "\n",
    "    nrA, ncA = len(A), len(A[0])\n",
    "    nrB, ncB = len(B), len(B[0])\n",
    "\n",
    "    if ncA != nrB:\n",
    "        print(\"Matrix dimension mismatch, please input valid matrices\")\n",
    "        return ([], (a, m, d))\n",
    "    \n",
    "    B_columns = []\n",
    "    # Get a list of the columns of B\n",
    "    for c in range(ncB):\n",
    "        col = []\n",
    "        for r in range(nrB):\n",
    "            col.append(B[r][c])\n",
    "        B_columns.append(col)\n",
    "    \n",
    "    resultant_matrix = []\n",
    "    \n",
    "    # Iteratively multiply rows of A and columns of B in order to \n",
    "    # Compute the product A matmul B\n",
    "    for row in A:\n",
    "        resultant_row = []\n",
    "        for column in B_columns:\n",
    "            abij, (add, mult, div) = inner_product(row, column)\n",
    "            a += add; m += mult; d += div\n",
    "            resultant_row.append(abij)\n",
    "        resultant_matrix.append(resultant_row)\n",
    "    \n",
    "    return (resultant_matrix, (a, m, d))"
   ]
  },
  {
   "cell_type": "markdown",
   "metadata": {},
   "source": [
    "$$\n",
    "\\pagebreak\n",
    "$$\n",
    "**Function to compute the transpose of a matrix A**"
   ]
  },
  {
   "cell_type": "code",
   "execution_count": 13,
   "metadata": {},
   "outputs": [],
   "source": [
    "def matrix_transpose(A:List) -> List:\n",
    "    \"\"\"[Given a matrix A, generate it's transpose]\n",
    "\n",
    "    Args:\n",
    "        A (List): [A matrix represented as list of lists]\n",
    "\n",
    "    Returns:\n",
    "        List: [Transpose of the matrix represented as list of lists]\n",
    "    \"\"\"\n",
    "    \n",
    "    # Find the rows and columns of A\n",
    "    nr, nc = len(A), len(A[0])\n",
    "    \n",
    "    # Create a container for A_transpose\n",
    "    A_transpose = []\n",
    "\n",
    "    # Compute the transpose of A\n",
    "    for c in range(nc):\n",
    "        col = []\n",
    "        for r in range(nr):\n",
    "            col.append(A[r][c])\n",
    "        A_transpose.append(col)\n",
    "    \n",
    "    return A_transpose"
   ]
  },
  {
   "cell_type": "markdown",
   "metadata": {},
   "source": [
    "$$\n",
    "\\pagebreak\n",
    "$$\n",
    "**Function to compute the column normalized version of a matrix**"
   ]
  },
  {
   "cell_type": "code",
   "execution_count": 14,
   "metadata": {},
   "outputs": [],
   "source": [
    "def normalize_columns(A: List) -> Tuple:\n",
    "    \"\"\"[Given a matrix A, normalizes it's columns using l2-norm and returns the normalized matrix as a List of lists and also the number of +, -, /, sqrt needed for computing the result]\n",
    "    Args:\n",
    "        A (List): [Matrix represented as list of lists]\n",
    "    Returns:\n",
    "        Tuple: [A tuple of the normalized matrix and the count of +,-,/ needed for generating the matrix]\n",
    "    \"\"\"\n",
    "    # Initialize the number of additions, multiplications, divisions to zero\n",
    "    a, m, d, root = 0, 0, 0, 0\n",
    "\n",
    "    # If given matrix is a null matrix, return a null matrix\n",
    "    if len(A) == 0:\n",
    "        return ([], (a, m, d))\n",
    "    if len(A[0]) == 0:\n",
    "        return ([[]], (a, m, d))\n",
    "    \n",
    "    # Find the number of rows and columns of matrix A\n",
    "    nr, nc = len(A), len(A[0])\n",
    "    # First get the columns of A \n",
    "    A_columns = matrix_transpose(A)\n",
    "    # Compute the normed column matrix now\n",
    "    normalizedA = []\n",
    "\n",
    "    for col in A_columns:\n",
    "        dot_product, (add, mult, div) = inner_product(col, col)\n",
    "        a += add; m+= mult; d += div\n",
    "        \n",
    "        l2norm = (dot_product) ** 0.5\n",
    "        root += 1\n",
    "    \n",
    "        scaled_vector, (add, mult, div) = scalar_multiplication(col, 1 / l2norm)\n",
    "        # Since I have considered division ads multiplication with reciprocal here, I am adding the scaling multiplications to division count here\n",
    "        d += mult        \n",
    "        normalizedA.append(scaled_vector)\n",
    "        \n",
    "    # Get the matrix A in row major order again\n",
    "    normedARowMajor = matrix_transpose(normalizedA)   \n",
    "    return (normedARowMajor, (a, m, d, root))    "
   ]
  },
  {
   "cell_type": "markdown",
   "metadata": {},
   "source": [
    "$$\n",
    "\\pagebreak\n",
    "$$\n",
    "\n",
    "**Functions to move from flat nd vectors to a tall matrix of width 1 and vice versa**"
   ]
  },
  {
   "cell_type": "code",
   "execution_count": 15,
   "metadata": {},
   "outputs": [],
   "source": [
    "def flatten_column_matrix(m: List) -> List:\n",
    "    \"\"\"[Flatten a column matrix of n x 1 into an n-dimensional vector]\n",
    "\n",
    "    Args:\n",
    "        m (List): [A tall matrix of width 1]\n",
    "\n",
    "    Returns:\n",
    "        List: [A flattened vector]\n",
    "    \"\"\"\n",
    "    return [x[0] for x in m]\n",
    "\n",
    "def expand_column_vector(m: List) -> List:\n",
    "    \"\"\"[Convert a flat n-dimensional column vector into an n x 1 matrix]\n",
    "\n",
    "    Args:\n",
    "        m (List): [A flat nd vector]\n",
    "\n",
    "    Returns:\n",
    "        List: [A tall width=1 matrix]\n",
    "    \"\"\"\n",
    "    return [[x] for x in m]"
   ]
  },
  {
   "cell_type": "markdown",
   "metadata": {},
   "source": [
    "$$\n",
    "\\pagebreak\n",
    "$$\n",
    "\n",
    "**Now we will start with the real qn 1.ii by taking help of the functions defined above. Define a function to compute the row reduced echelon form of a matrix**"
   ]
  },
  {
   "cell_type": "code",
   "execution_count": 16,
   "metadata": {},
   "outputs": [],
   "source": [
    "def rreduce(A:List, threshold:float = 1e-6) -> Tuple:\n",
    "    \"\"\"[Given a matrix A as a list of lists, compute it's row reduced echelon form.\n",
    "    Return that along with the rank of the matrix]\n",
    "\n",
    "    Args:\n",
    "        A (List): A m x n tall matrix\n",
    "        threshold (float, optional): When comparing the pivot elements, what magnitude of a value counts as zero magnitufe. Defaults to 1e-6.\n",
    "\n",
    "    Returns:\n",
    "        Tuple: A tuple of row reduced echelon form and the decision i.e. whether\n",
    "        the matrix has linearly independent columns or not\n",
    "    \"\"\"\n",
    "    \n",
    "    # Initialize the number of additions, multiplications divisions to null\n",
    "    a, m, d = 0, 0, 0\n",
    "    \n",
    "    # Create a copy of the original matrix otherwise original\n",
    "    # matrix will get overwritten\n",
    "    A = copy.deepcopy(A)\n",
    "    \n",
    "    # Check if the matrix is empty\n",
    "    if len(A) == 0:\n",
    "        return ([], False)\n",
    "    if len(A[0]) == 0:\n",
    "        return ([[]], False)\n",
    "    \n",
    "    # Find out number of rows and columns\n",
    "    nr, nc = len(A), len(A[0])            \n",
    "    \n",
    "    # Get Echelon form using row reduction operations\n",
    "    # Only iterate for as many times as number of columns since \n",
    "    # tall matrix can't have more pivot elements than number of columns\n",
    "    for i in range(nc - 1):\n",
    "        \n",
    "        pivot_element = A[i][i]\n",
    "        \n",
    "        # Make all the elements below the pivot to be zero\n",
    "        # in an iterative manner\n",
    "        for j in range(i + 1, nr):\n",
    "                        \n",
    "            # Find the pivot element and compute the scaling factor\n",
    "            div_factor = A[j][i] / pivot_element     \n",
    "            d += 1\n",
    "            \n",
    "            # Scale the ith row based on the above factor\n",
    "            scaled_vector, (add, mult, div) = scalar_multiplication(A[i], -1 * div_factor)\n",
    "            a += add; m += mult; d += div;\n",
    "            \n",
    "            # Subtract the scaled row from A[j]\n",
    "            transformed_row, (add, mult, div) = vector_addition(A[j], scaled_vector)\n",
    "            \n",
    "            # Deduct the counts of add and mult by (i + 1) because when \n",
    "            # doing row reduction we are computing pivots in such a way \n",
    "            # that the elements below the pivot should become zeros \n",
    "            # and the elements to the left of the pivot are already zeros\n",
    "            # so no need to compute that term again and add it\n",
    "            add -= (i + 1); mult -= (i + 1);\n",
    "            a += add; m += mult; d += div;\n",
    "            \n",
    "            A[j] = transformed_row\n",
    "    \n",
    "    # Check the leading diagonal entries; I a few of them are zeros \n",
    "    # or near zeros, then given matrix has rank lower than nc(A)\n",
    "    col_rank = True\n",
    "    for i in range(nc):\n",
    "        if abs(A[i][i]) <= threshold:\n",
    "            col_rank = False\n",
    "            break\n",
    "                    \n",
    "    return (A, col_rank, (a, m, d))"
   ]
  },
  {
   "cell_type": "markdown",
   "metadata": {},
   "source": [
    "$$\n",
    "\\pagebreak\n",
    "$$"
   ]
  },
  {
   "cell_type": "code",
   "execution_count": 17,
   "metadata": {},
   "outputs": [
    {
     "name": "stdout",
     "output_type": "stream",
     "text": [
      "        C1      C2      C3      C4      \n",
      "R1    9.1393  9.0224  7.4694  2.9949 \n",
      "R2    1.0593  2.7525  8.2705  9.0207 \n",
      "R3    3.1531  8.7596  7.3465  0.5454 \n",
      "R4    9.4122  0.1933  0.3273  6.1281 \n",
      "R5    2.7513  7.7531  8.7599  8.5706 \n"
     ]
    }
   ],
   "source": [
    "# Create a random tall matrix\n",
    "# Expected output: A tall matrix\n",
    "A = create_random_matrix(5,4)\n",
    "display_matrix(A)"
   ]
  },
  {
   "cell_type": "code",
   "execution_count": 18,
   "metadata": {},
   "outputs": [
    {
     "name": "stdout",
     "output_type": "stream",
     "text": [
      "        C1      C2      C3      C4      \n",
      "R1    9.1393  9.0224  7.4694  2.9949 \n",
      "R2    0.0000  1.7067  7.4048  8.6736 \n",
      "R3    0.0000  0.0000 -19.7293 -29.1846 \n",
      "R4    0.0000  0.0000  0.0000  1.7846 \n",
      "R5    0.0000  0.0000  0.0000  4.7657 \n",
      "\n",
      "Adds  required 20\n",
      "Mults required 20\n",
      "Divs  required 09\n",
      "\n",
      "A has linearly independent columns. Can apply GS Algorithm.\n"
     ]
    }
   ],
   "source": [
    "# Row reduce the matrix into it's REF and see if it's columns are linearly independent\n",
    "# Expected output: REF of generated matrix, primitive operations count, whether cols are LI\n",
    "ref, dec, (a, m ,d) = rreduce(A)\n",
    "display_matrix(ref)\n",
    "print(f\"\\nAdds  required {a:02d}\\nMults required {m:02d}\\nDivs  required {d:02d}\\n\")\n",
    "if dec == True:\n",
    "    print(f\"A has linearly independent columns. Can apply GS Algorithm.\")\n",
    "else:\n",
    "    print(f\"A has linearly dependent columns. Cannot apply GS Algorithm.\")"
   ]
  },
  {
   "cell_type": "code",
   "execution_count": 19,
   "metadata": {},
   "outputs": [],
   "source": [
    "# Purposely generate a matrix where rows are linearly dependent\n",
    "# And check if the GS Algorithm can be applied to this matrix\n",
    "# Expected output: r < nc => Cannot apply GS Algorithm\n",
    "r1 = [generate_random_entry() for i in range(3)]\n",
    "r2 = [generate_random_entry() for i in range(3)]\n",
    "r3 = [0.1*(x + y) for x, y  in zip(r1, r2)]\n",
    "r4 = [(x - y)/2 for x, y in zip(r2, r3)]\n",
    "A = [r1,r2,r3,r4]"
   ]
  },
  {
   "cell_type": "code",
   "execution_count": 20,
   "metadata": {},
   "outputs": [
    {
     "name": "stdout",
     "output_type": "stream",
     "text": [
      "        C1      C2      C3      \n",
      "R1    9.6527  8.6718  7.0185 \n",
      "R2    9.0441  0.5922  8.1084 \n",
      "R3    1.8697  0.9264  1.5127 \n",
      "R4    3.5872 -0.1671  3.2979 \n"
     ]
    }
   ],
   "source": [
    "display_matrix(A)"
   ]
  },
  {
   "cell_type": "code",
   "execution_count": 21,
   "metadata": {},
   "outputs": [
    {
     "name": "stdout",
     "output_type": "stream",
     "text": [
      "        C1      C2      C3      \n",
      "R1    9.6527  8.6718  7.0185 \n",
      "R2    0.0000 -7.5328  1.5324 \n",
      "R3    0.0000  0.0000  0.0000 \n",
      "R4    0.0000  0.0000  0.0000 \n",
      "\n",
      "Adds  required 08\n",
      "Mults required 08\n",
      "Divs  required 05\n",
      "\n",
      "A has linearly dependent columns. Cannot apply GS Algorithm.\n"
     ]
    }
   ],
   "source": [
    "# Row reduce the matrix into it's REF and see if it's \n",
    "# columns are linearly independent\n",
    "# Expected output: REF of generated matrix, primitive\n",
    "# operations count, whether cols are LI\n",
    "ref, dec, (a, m ,d) = rreduce(A)\n",
    "display_matrix(ref)\n",
    "print(f\"\\nAdds  required {a:02d}\\nMults required {m:02d}\\nDivs  required {d:02d}\\n\")\n",
    "if dec == True:\n",
    "    print(f\"A has linearly independent columns. Can apply GS Algorithm.\")\n",
    "else:\n",
    "    print(f\"A has linearly dependent columns. Cannot apply GS Algorithm.\")"
   ]
  },
  {
   "cell_type": "markdown",
   "metadata": {},
   "source": [
    "$$\n",
    "\\pagebreak\n",
    "$$\n",
    "\n",
    "**iii**: Write a code to generate the orthogonal matrix Q from a matrix A by performing the Gram-Schmidt orthogonalization method. Ensure that A has linearly independent columns by checking the rank. Keep generating A until the linear independence is obtained.\n",
    "\n",
    "> **Deliverable(s) : The code that produces matrix Q from A (1)**"
   ]
  },
  {
   "cell_type": "code",
   "execution_count": 22,
   "metadata": {},
   "outputs": [],
   "source": [
    "def gram_schmidt_orthogonalization(A: List) -> Tuple:\n",
    "    \"\"\"[Given a matrix A, checks if it's columns are Linearly Independent and if yes, generates an orthogonal matrix from the same]\n",
    "\n",
    "    Args:\n",
    "        A (List): [Matrix represented as list of lists]\n",
    "\n",
    "    Returns:\n",
    "        Tuple: (A tuple representing whether A contains linearly independent columns and if yes, an orthogonal matrix generated from A)\n",
    "    \"\"\"\n",
    "    \n",
    "    # If the vector is null then simply return\n",
    "    if len(A) == 0:\n",
    "        return (False, [])\n",
    "    if len(A[0]) == 0:\n",
    "        return (False, [[]])\n",
    "    \n",
    "    # Compute the number of rows and columns of matrix A\n",
    "    nr, nc = len(A), len(A[0])\n",
    "    A_columns = matrix_transpose(A)\n",
    "    \n",
    "    # Check if A has linearly independent columns or not\n",
    "    # If no, then cannot apply GS Algorithm\n",
    "    ref, dec, _ = rreduce(A)\n",
    "    if not dec:\n",
    "        return (False, [])\n",
    "    print(f\"\\nThe given matrix A has linearly independent columns.\\nHence we can compute Gram-Schmidt Orthogonalization\\n\\nREF of given matrix as follows\\n\") \n",
    "    display_matrix(ref)\n",
    "    \n",
    "    # Start generating an orthogonal basis for A\n",
    "    v = []\n",
    "    vi_inner_product = []\n",
    "\n",
    "    # Initialize the addition, multiplication and division counts to zeros\n",
    "    additions, multiplications, divisions = 0, 0, 0\n",
    "    \n",
    "    # Iterate over the columns of A\n",
    "    for n in range(nc):\n",
    "\n",
    "        xi = A_columns[n]\n",
    "        vi = xi\n",
    "        \n",
    "        for it in range(n):\n",
    "            \n",
    "            # Compute xi.vi inner product\n",
    "            xivi, (a, m, d) = inner_product(xi, v[it])\n",
    "            additions += a; multiplications += m; divisions += d\n",
    "            \n",
    "            # Check if vi's inner product exists\n",
    "            if it < (len(vi_inner_product)):\n",
    "                vivi = vi_inner_product[it]\n",
    "            else:\n",
    "                vivi, (a, m, d) = inner_product(v[-1], v[-1])\n",
    "                additions += a; multiplications += m; divisions += d\n",
    "                vi_inner_product.append(vivi)\n",
    "            \n",
    "            scaling_factor = -1 * xivi / vivi\n",
    "            divisions += 1\n",
    "            \n",
    "            scaled_vector, (a, m, d) = scalar_multiplication(v[it], scaling_factor)\n",
    "            additions += a; multiplications += m; divisions += d\n",
    "\n",
    "            vi, (a, m, d) = vector_addition(vi, scaled_vector)\n",
    "            additions += a; multiplications += m; divisions += d\n",
    "        \n",
    "        v.append(vi)\n",
    "    \n",
    "    # Reframe the matrix in row major order\n",
    "    O = matrix_transpose(v)\n",
    "        \n",
    "    return (O, (additions, multiplications, divisions))"
   ]
  },
  {
   "cell_type": "markdown",
   "metadata": {},
   "source": [
    "$$\n",
    "\\pagebreak\n",
    "$$"
   ]
  },
  {
   "cell_type": "code",
   "execution_count": 23,
   "metadata": {},
   "outputs": [
    {
     "name": "stdout",
     "output_type": "stream",
     "text": [
      "Randomly Generated Matrix\n",
      "        C1      C2      C3      C4      \n",
      "R1    1.3973  5.2138  4.6259  1.2565 \n",
      "R2    4.1468  4.3045  7.8612  8.3308 \n",
      "R3    2.6178  5.3704  7.9647  1.4579 \n",
      "R4    7.0796  1.1232  9.5151  1.8212 \n",
      "R5    2.0958  2.8855  6.0058  7.9639 \n",
      "\n",
      "The given matrix A has linearly independent columns.\n",
      "Hence we can compute Gram-Schmidt Orthogonalization\n",
      "\n",
      "REF of given matrix as follows\n",
      "\n",
      "        C1      C2      C3      C4      \n",
      "R1    1.3973  5.2138  4.6259  1.2565 \n",
      "R2    0.0000 -11.1686 -5.8672  4.6019 \n",
      "R3    0.0000  0.0000  1.6083 -2.7080 \n",
      "R4    0.0000  0.0000  0.0000 -16.0365 \n",
      "R5    0.0000  0.0000  0.0000  6.8406 \n",
      "\n",
      "Linearly independent cols obtained from GSO procedure\n",
      "        C1      C2      C3      C4      \n",
      "R1    1.3973  4.2907 -0.9840 -0.9363 \n",
      "R2    4.1468  1.5649 -0.5030  4.6130 \n",
      "R3    2.6178  3.6409  0.7166 -4.1264 \n",
      "R4    7.0796 -3.5540 -0.1467 -1.9537 \n",
      "R5    2.0958  1.5009  1.2519  3.2507 \n"
     ]
    }
   ],
   "source": [
    "# Create a random matrix A and compute normalize their cols using gram schmidt orthogonalization procedure\n",
    "# Expected output: The matrix and it's gram-schmidt orthogonalization matrix\n",
    "x = create_random_matrix(5, 4)\n",
    "print(\"Randomly Generated Matrix\")\n",
    "display_matrix(x)\n",
    "v, (a, m, d) = gram_schmidt_orthogonalization(x)\n",
    "\n",
    "if v:\n",
    "    print(f\"\\nLinearly independent cols obtained from GSO procedure\")\n",
    "    display_matrix(v)"
   ]
  },
  {
   "cell_type": "markdown",
   "metadata": {},
   "source": [
    "$$\n",
    "\\pagebreak\n",
    "$$\n",
    "\n",
    "**iv**: Write a code to create a QR decomposition of the matrix A by utilizing the code developed in the previous sub-parts of this question. Find the matrices Q and R and then display the value $||A - (QR)||_F$ , where $||\\cdot||_F$ is the Frobenius norm. The code should also display the total number of additions, multiplications and divisions to find the result.\n",
    "\n",
    "> **Deliverable(s) : The code with the said input and output. The results obtained for A generated with m = 7 and n = 5 with random entries described above. (2.5)**\n",
    "\n",
    "**Methodology**\n",
    "\n",
    "Computing gram-schmidt orthogonalization requires several steps as follows\n",
    "\n",
    "- Verify A has LI columns $\\Rightarrow$ Compute the REF and ascertain $Rank = nc(A)$\n",
    "\n",
    "- If above condition is met, orthogonalize the columns of matrix A using GS algorithm\n",
    "\n",
    "- Normalize columns of the orthogonal matrix obtained above\n",
    "\n",
    "- $A = QR \\Rightarrow Q^{-1}A = Q^{-1}QR \\Rightarrow R = Q^TA \\because Q^{-1} = Q^T \\text{as Q is orthonormal}$\n",
    "\n",
    "- Compute the matrix product $Q^TA$ to find $R$.\n",
    "\n",
    "- Find out the primitive counts at each step of the procedure and report them individually and the totals as well."
   ]
  },
  {
   "cell_type": "code",
   "execution_count": 24,
   "metadata": {},
   "outputs": [
    {
     "name": "stdout",
     "output_type": "stream",
     "text": [
      "\n",
      "Randomly Generated Matrix\n",
      "        C1      C2      C3      C4      C5      \n",
      "R1    0.6023  7.4214  0.2666  0.6313  7.1953 \n",
      "R2    4.1473  6.5385  3.5606  8.1464  6.9991 \n",
      "R3    4.1803  2.4869  4.1263  7.8111  9.2543 \n",
      "R4    8.5509  2.6962  0.3617  0.0904  6.4316 \n",
      "R5    7.8851  9.4138  7.9147  2.9196  3.1121 \n",
      "R6    7.6469  8.0648  6.1704  8.7908  3.2159 \n",
      "R7    2.9355  6.5395  8.4537  3.4004  0.5969 \n",
      "\n",
      "The given matrix A has linearly independent columns.\n",
      "Hence we can compute Gram-Schmidt Orthogonalization\n",
      "\n",
      "REF of given matrix as follows\n",
      "\n",
      "        C1      C2      C3      C4      C5      \n",
      "R1    0.6023  7.4214  0.2666  0.6313  7.1953 \n",
      "R2    0.0000 -44.5636  1.7249  3.7994 -42.5461 \n",
      "R3    0.0000  0.0000  0.3785 -0.7500  6.1174 \n",
      "R4    0.0000  0.0000  0.0000 -32.2809  121.8369 \n",
      "R5    0.0000  0.0000  0.0000  0.0000 -64.6514 \n",
      "R6    0.0000  0.0000  0.0000  0.0000 -25.9073 \n",
      "R7    0.0000  0.0000  0.0000  0.0000 -66.6565 \n",
      "\n",
      "Matrix Q\n",
      "        C1      C2      C3      C4      C5      \n",
      "R1    0.0391  0.6743 -0.5880 -0.0705  0.3229 \n",
      "R2    0.2692  0.2646 -0.1349  0.5188 -0.0577 \n",
      "R3    0.2713 -0.1365  0.2794  0.5090  0.6666 \n",
      "R4    0.5549 -0.5140 -0.4037 -0.2759  0.2061 \n",
      "R5    0.5117  0.2066  0.1577 -0.4609 -0.0350 \n",
      "R6    0.4963  0.0958  0.0222  0.3306 -0.6150 \n",
      "R7    0.1905  0.3751  0.6080 -0.2627  0.1616 \n",
      "\n",
      "Matrix R\n",
      "        C1      C2      C3      C4      C5      \n",
      "R1    15.4085  14.2865  11.0120  10.8912  11.5472 \n",
      "R2    0.0000  10.1786  5.7697  4.1892  3.3093 \n",
      "R3   -0.0000 -0.0000  6.8946  3.3985 -4.2612 \n",
      "R4    0.0000  0.0000  0.0000  8.7995  5.5308 \n",
      "R5   -0.0000 -0.0000 -0.0000 -0.0000  7.4238 \n",
      "\n",
      "Matrix (A - QR)\n",
      "        C1      C2      C3      C4      C5      \n",
      "R1   -0.0000 -0.0000 -0.0000 -0.0000  0.0000 \n",
      "R2   -0.0000 -0.0000 -0.0000  0.0000  0.0000 \n",
      "R3    0.0000  0.0000  0.0000  0.0000  0.0000 \n",
      "R4    0.0000  0.0000  0.0000  0.0000  0.0000 \n",
      "R5    0.0000  0.0000  0.0000  0.0000 -0.0000 \n",
      "R6   -0.0000 -0.0000 -0.0000 -0.0000 -0.0000 \n",
      "R7    0.0000  0.0000  0.0000 -0.0000 -0.0000 \n",
      "\n",
      "Frobenius norm of (A - QR) = 0.00000\n"
     ]
    },
    {
     "data": {
      "text/html": [
       "<div>\n",
       "<style scoped>\n",
       "    .dataframe tbody tr th:only-of-type {\n",
       "        vertical-align: middle;\n",
       "    }\n",
       "\n",
       "    .dataframe tbody tr th {\n",
       "        vertical-align: top;\n",
       "    }\n",
       "\n",
       "    .dataframe thead th {\n",
       "        text-align: right;\n",
       "    }\n",
       "</style>\n",
       "<table border=\"1\" class=\"dataframe\">\n",
       "  <thead>\n",
       "    <tr style=\"text-align: right;\">\n",
       "      <th></th>\n",
       "      <th>Additions</th>\n",
       "      <th>Multiplications</th>\n",
       "      <th>Divisions</th>\n",
       "      <th>Square Root</th>\n",
       "    </tr>\n",
       "  </thead>\n",
       "  <tbody>\n",
       "    <tr>\n",
       "      <th>REF</th>\n",
       "      <td>50</td>\n",
       "      <td>50</td>\n",
       "      <td>18</td>\n",
       "      <td>0</td>\n",
       "    </tr>\n",
       "    <tr>\n",
       "      <th>GS Algorithm</th>\n",
       "      <td>154</td>\n",
       "      <td>168</td>\n",
       "      <td>10</td>\n",
       "      <td>0</td>\n",
       "    </tr>\n",
       "    <tr>\n",
       "      <th>Orthonormalization</th>\n",
       "      <td>30</td>\n",
       "      <td>35</td>\n",
       "      <td>35</td>\n",
       "      <td>5</td>\n",
       "    </tr>\n",
       "    <tr>\n",
       "      <th>R = Q'A Computation</th>\n",
       "      <td>150</td>\n",
       "      <td>175</td>\n",
       "      <td>0</td>\n",
       "      <td>0</td>\n",
       "    </tr>\n",
       "    <tr>\n",
       "      <th>(A - QR) Computation</th>\n",
       "      <td>35</td>\n",
       "      <td>0</td>\n",
       "      <td>0</td>\n",
       "      <td>0</td>\n",
       "    </tr>\n",
       "    <tr>\n",
       "      <th>Norm(A - QR) Computation</th>\n",
       "      <td>34</td>\n",
       "      <td>35</td>\n",
       "      <td>0</td>\n",
       "      <td>1</td>\n",
       "    </tr>\n",
       "    <tr>\n",
       "      <th>Total Count</th>\n",
       "      <td>453</td>\n",
       "      <td>463</td>\n",
       "      <td>63</td>\n",
       "      <td>6</td>\n",
       "    </tr>\n",
       "  </tbody>\n",
       "</table>\n",
       "</div>"
      ],
      "text/plain": [
       "                          Additions  Multiplications  Divisions  Square Root\n",
       "REF                              50               50         18            0\n",
       "GS Algorithm                    154              168         10            0\n",
       "Orthonormalization               30               35         35            5\n",
       "R = Q'A Computation             150              175          0            0\n",
       "(A - QR) Computation             35                0          0            0\n",
       "Norm(A - QR) Computation         34               35          0            1\n",
       "Total Count                     453              463         63            6"
      ]
     },
     "execution_count": 24,
     "metadata": {},
     "output_type": "execute_result"
    }
   ],
   "source": [
    "# Create a random matrix\n",
    "A = create_random_matrix(7, 5)\n",
    "\n",
    "# Display the matrix generated\n",
    "print(\"\\nRandomly Generated Matrix\")\n",
    "display_matrix(A)\n",
    "\n",
    "# Compute REF of the matrix and count the number of primitive operations incurred in the same\n",
    "ref, decision, (aref, mref, dref) = rreduce(A)\n",
    "\n",
    "if decision:\n",
    "    # Apply GS Algorithm to find an orthogonal basis\n",
    "    v, (ags, mgs, dgs) = gram_schmidt_orthogonalization(A)\n",
    "\n",
    "    # Make the orthogonal basis into an orthonormal one\n",
    "    Q, (anorm, mnorm, dnorm, rootnorm) = normalize_columns(v)\n",
    "    \n",
    "    # Compute the matrix R using the orthonormal matrix and the original matrix\n",
    "    R, (aR, mR, dR) = matrix_multiplication(matrix_transpose(Q), A)\n",
    "    \n",
    "    # Compute the matrix QR\n",
    "    QR, (aQR, mQR, dQR) = matrix_multiplication(Q, R)\n",
    "    \n",
    "    # Compute the matrix A - QR\n",
    "    delta = []\n",
    "    addDelta, multDelta, divDelta = 0, 0, 0\n",
    "    for a_row, qr_row in zip(A, QR):\n",
    "        scaled_vector, _ = scalar_multiplication(qr_row, -1)\n",
    "        resultant, (a, m, d) = vector_addition(a_row, scaled_vector)\n",
    "        addDelta += a; multDelta += m; divDelta += d\n",
    "        delta.append(resultant)\n",
    "    \n",
    "    # Compute the frobenius norm of A - QR = delta\n",
    "    fn, (afro, mfro, divfro, rootfro) = frob_norm(delta)\n",
    "    \n",
    "    \n",
    "    # Display the matrices Q, R and A - QR respectively\n",
    "    print(f\"\\nMatrix Q\")\n",
    "    display_matrix(Q)\n",
    "    print(f\"\\nMatrix R\")\n",
    "    display_matrix(R)\n",
    "    print(f\"\\nMatrix (A - QR)\")\n",
    "    display_matrix(delta)\n",
    "    print(f\"\\nFrobenius norm of (A - QR) = {fn:.5f}\")\n",
    "    \n",
    "    \n",
    "    # Find out the counts for each and every step along the way\n",
    "    total_additions = aref + ags + anorm + aR + addDelta + afro \n",
    "    total_multiplications = mref + mgs + mnorm + mR + multDelta + mfro\n",
    "    total_divisions = dref + dgs + dnorm + dR + divDelta + divfro\n",
    "    total_sqrts = rootnorm + rootfro\n",
    "    \n",
    "    count_matrix = [(aref, mref, dref, 0), (ags, mgs, dgs, 0), (anorm, mnorm, dnorm, rootnorm), (aR, mR, dR, 0), (addDelta, multDelta, divDelta, 0), (afro, mfro, divfro, rootfro), (total_additions, total_multiplications, total_divisions, total_sqrts)]\n",
    "    \n",
    "    import pandas as pd\n",
    "    count_df = pd.DataFrame(count_matrix, index = [\"REF\", \"GS Algorithm\", \"Orthonormalization\", \"R = Q'A Computation\", \"(A - QR) Computation\", \"Norm(A - QR) Computation\", \"Total Count\"], columns = [\"Additions\", \"Multiplications\", \"Divisions\", \"Square Root\"])\n",
    "count_df"
   ]
  },
  {
   "cell_type": "markdown",
   "metadata": {},
   "source": [
    "$$\n",
    "\\pagebreak\n",
    "$$"
   ]
  },
  {
   "cell_type": "markdown",
   "metadata": {},
   "source": [
    "# Question: Gradient Descent Algorithm\n",
    "\n",
    "**i**: Consider the last 4 digits of your mobile number (Note : In case there is a 0 in one of the digits replace it by 3). Let it be $n_1n_2n_3n_4$. Generate a random matrix A of size $n_1n_2 \\times n_3n_4$. For example, if the last four digits are 2311, generate a random matrix of size 23 × 11. Write a code to calculate the $l_{\\infty}$ norm of this matrix.\n",
    "\n",
    "> **Deliverable(s) : The code that generates the results. (0.5)**"
   ]
  },
  {
   "cell_type": "code",
   "execution_count": 25,
   "metadata": {},
   "outputs": [],
   "source": [
    "def generate_gradient_descent_matrix() -> Tuple:\n",
    "    \"\"\"[Creates a matrix of the size n1n2 * n3n4 and a matrix b of size n1n2 * 1]\n",
    "\n",
    "    Returns:\n",
    "        List: A matrix in the form of a list\n",
    "    \"\"\"\n",
    "\n",
    "    # Prompt the user for his mobile number\n",
    "    \n",
    "    # Ascertain the mobile number is valid\n",
    "    number = input(\"Enter your phone number:\\n\")\n",
    "    try:\n",
    "        n = int(number)\n",
    "        if len(number.strip()) != 10:\n",
    "            print(\"Mobile number must have exactly 10 digits. Please enter a valid number\")\n",
    "            return ([], [])\n",
    "    except Exception as e:\n",
    "        print(f\"{str(e)}\\nEntered number invalid. Please enter a valid number\")\n",
    "        return ([], [])\n",
    "    \n",
    "    # Get the last 4 digits of the number and replace\n",
    "    # 0s in the number with 3s\n",
    "    rc = number.strip()[-4:]\n",
    "    rc = rc.replace(\"0\", \"3\")\n",
    "\n",
    "    nr, nc = int(rc[:2]), int(rc[2:])\n",
    "    matrix = create_random_matrix(nr, nc, wide = True)\n",
    "    b = create_random_matrix(nr, 1, wide = True)\n",
    "    \n",
    "    return (matrix, b)\n",
    "\n",
    "def linf_norm(matrix: List) -> float:\n",
    "    \"\"\"[Given a matrix computes it's linfinity norm]\n",
    "\n",
    "    Args:\n",
    "        matrix (List): [Matrix represented as a list of numbers]\n",
    "\n",
    "    Returns:\n",
    "        float: The infinity norm of the said matrix\n",
    "    \"\"\"\n",
    "    \n",
    "    inf_norm = 0\n",
    "\n",
    "    # For each row in the matrix\n",
    "    for row in matrix:\n",
    "        rsum = 0\n",
    "\n",
    "        # Compute the row sum of absolute vals of elements in that row\n",
    "        for element in row:\n",
    "            rsum += abs(element)\n",
    "\n",
    "        # Store the largest row sum\n",
    "        if rsum > inf_norm:\n",
    "            inf_norm = rsum\n",
    "    return inf_norm"
   ]
  },
  {
   "cell_type": "markdown",
   "metadata": {},
   "source": [
    "$$\n",
    "\\pagebreak\n",
    "$$"
   ]
  },
  {
   "cell_type": "code",
   "execution_count": 26,
   "metadata": {},
   "outputs": [
    {
     "name": "stdin",
     "output_type": "stream",
     "text": [
      "Enter your phone number:\n",
      " 7738368566\n"
     ]
    }
   ],
   "source": [
    "# Create the gradient descent matrices A & b. \n",
    "# Validate the input to have a proper mobile number\n",
    "A, b = generate_gradient_descent_matrix()"
   ]
  },
  {
   "cell_type": "code",
   "execution_count": 27,
   "metadata": {},
   "outputs": [
    {
     "name": "stdin",
     "output_type": "stream",
     "text": [
      "Enter your phone number:\n",
      " 7738368566\n"
     ]
    }
   ],
   "source": [
    "# Create the gradient descent matrices A & b. \n",
    "# Validate the input to have a proper mobile number\n",
    "A, b = generate_gradient_descent_matrix()"
   ]
  },
  {
   "cell_type": "code",
   "execution_count": 28,
   "metadata": {},
   "outputs": [
    {
     "name": "stdin",
     "output_type": "stream",
     "text": [
      "Enter your phone number:\n",
      " 7738368566\n"
     ]
    }
   ],
   "source": [
    "# Create the gradient descent matrices A & b. \n",
    "# Validate the input to have a proper mobile number\n",
    "A, b = generate_gradient_descent_matrix()"
   ]
  },
  {
   "cell_type": "code",
   "execution_count": 29,
   "metadata": {},
   "outputs": [
    {
     "name": "stdin",
     "output_type": "stream",
     "text": [
      "Enter your phone number:\n",
      " 7738368566\n"
     ]
    },
    {
     "name": "stdout",
     "output_type": "stream",
     "text": [
      "L-inf norm of the generated matrix A is 379.07330\n"
     ]
    }
   ],
   "source": [
    "# Create the gradient descent matrices A & b. \n",
    "# Validate the input to have a proper mobile number\n",
    "A, b = generate_gradient_descent_matrix()\n",
    "print(f\"L-inf norm of the generated matrix A is {linf_norm(A):.5f}\")"
   ]
  },
  {
   "cell_type": "markdown",
   "metadata": {},
   "source": [
    "$$\n",
    "\\pagebreak\n",
    "$$"
   ]
  },
  {
   "cell_type": "markdown",
   "metadata": {},
   "source": [
    "**ii** Generate a random vector b of size $n_1n_2 \\times 1$ and consider the function $f(x) = \\frac{1}{2}||Ax - b||_2^2$ where $|| \\cdot ||_2$ is the vector $l_2$ norm. Its gradient is given to be $\\nabla f(x) = A^TAx - A^Tb$. Write a code to find the local minima of this function by using the gradient descent algorithm (by using the gradient expression given to you). The step size $\\tau$ in the iteration $x_k + 1 = x_k − \\tau \\nabla f(x_k)$ should be chosen by the formula \n",
    "\n",
    "$$\n",
    "\\tau = \\frac{g_k^Tg_k}{g_k^TA^TAg_k}\n",
    "$$\n",
    "\n",
    "where $g_k = \\nabla f(x_k) = A^TAx_k - A^Tb$ The algorithm should execute\n",
    "until $||x_k - x_{k - 1}||_2 < 10^{-4}$.\n",
    "\n",
    "> **Deliverable(s) : The code that finds the minimum of the given function and the expression for $\\tau$. The values of $x_k$ and $f(x_k)$ should be stored in a file.**"
   ]
  },
  {
   "cell_type": "code",
   "execution_count": 30,
   "metadata": {},
   "outputs": [],
   "source": [
    "import numpy as np\n",
    "import pandas as pd\n",
    "pd.set_option(\"display.max_colwidth\", None)\n",
    "\n",
    "def gradient_descent(stopping_threshold:float = 1e-4) -> List:\n",
    "    \"\"\"[Generates a random matrix based on user's mobile number, performs gradient descent and returns the solutions of the system of equation and intermediate steps taken]\n",
    "    \n",
    "    Args:\n",
    "        stopping_threshold (float): [When to stop iterating, i.e. convergence criterion]\n",
    "        \n",
    "    Returns:\n",
    "        List: [A list of solutions, intermediate values and function values at each step]\n",
    "    \"\"\"\n",
    "    \n",
    "    A, b = generate_gradient_descent_matrix()\n",
    "    n_equations, n_features = len(A), len(A[0])\n",
    "    \n",
    "    # Start with an initial guess of all zeros\n",
    "    current_solution = [[0.0] for r in range(n_features)]\n",
    "    optimization_steps = []\n",
    "\n",
    "    # Begin optimization here\n",
    "    while True:\n",
    "        \n",
    "        # Find out the function value\n",
    "        result = matrix_multiplication(A, current_solution)[0]\n",
    "        scaled_b = scalar_multiplication(flatten_column_matrix(b), -1)[0]\n",
    "        f = vector_addition(flatten_column_matrix(result), scaled_b)[0]\n",
    "        fn = frob_norm(expand_column_vector(f))[0]\n",
    "        func_val = 0.5 * (fn ** 2)\n",
    "        \n",
    "\n",
    "        # Find the gradient of the function at the current step \n",
    "        # i. Find AtAx\n",
    "        A_transpose = matrix_transpose(A)\n",
    "        AtA = matrix_multiplication(A_transpose, A)[0]\n",
    "        AtAx = matrix_multiplication(AtA, current_solution)[0]\n",
    "        \n",
    "        # ii. Find Atb\n",
    "        Atb = matrix_multiplication(A_transpose, b)[0]\n",
    "        \n",
    "        # iii. Find AtAx - Atb\n",
    "        scaled_Atb = scalar_multiplication(flatten_column_matrix(Atb), -1)[0]\n",
    "        gradf = vector_addition(flatten_column_matrix(AtAx), scaled_Atb)[0]\n",
    "        gradf = expand_column_vector(gradf)\n",
    "        \n",
    "        # Compute the learning rate\n",
    "        gradf_transpose = matrix_transpose(gradf)\n",
    "        tau_nr = matrix_multiplication(gradf_transpose, gradf)[0][0][0]\n",
    "        tau_dr = matrix_multiplication(gradf_transpose, matrix_multiplication(AtA, gradf)[0])[0][0][0]\n",
    "        # To avoid numerical instability, add a very tiny epsilon to the denominator\n",
    "        learning_rate = tau_nr / (tau_dr + 1e-16)\n",
    "        \n",
    "        # Take a step in the opposite direction of the gradient\n",
    "        previous_solution = current_solution\n",
    "        scaled_gradf = scalar_multiplication(flatten_column_matrix(gradf), -1 * learning_rate)[0]\n",
    "        current_solution = vector_addition(flatten_column_matrix(previous_solution), scaled_gradf)[0]\n",
    "        current_solution = expand_column_vector(current_solution)\n",
    "        \n",
    "        # Define the stopping criterion\n",
    "        scaled_prev_sol = scalar_multiplication(flatten_column_matrix(previous_solution), -1)[0]\n",
    "        step_delta = vector_addition(flatten_column_matrix(current_solution), scaled_prev_sol)[0]\n",
    "        \n",
    "        stopping_threshold = frob_norm(expand_column_vector(step_delta))[0]\n",
    "        if abs(stopping_threshold) <= 1e-4:\n",
    "            break\n",
    "\n",
    "        optimization_steps.append([previous_solution, gradf, func_val])\n",
    "    \n",
    "    return optimization_steps"
   ]
  },
  {
   "cell_type": "code",
   "execution_count": 31,
   "metadata": {},
   "outputs": [
    {
     "name": "stdin",
     "output_type": "stream",
     "text": [
      "Enter your phone number:\n",
      " 7738368566\n"
     ]
    }
   ],
   "source": [
    "# Perform gradient descent by prompting the user for phone number and store the result obtained in a \n",
    "# CSV file with the points, gradients and the function value at that point \n",
    "solutions = gradient_descent()\n",
    "df = pd.DataFrame(solutions, columns = [\"Point\", \"Gradient\", \"FunctionValue\"])\n",
    "\n",
    "# Save the obtained solutions to a file\n",
    "df.to_csv(\"solutions.csv\", index = None);"
   ]
  },
  {
   "cell_type": "code",
   "execution_count": 32,
   "metadata": {},
   "outputs": [
    {
     "data": {
      "text/html": [
       "<div>\n",
       "<style scoped>\n",
       "    .dataframe tbody tr th:only-of-type {\n",
       "        vertical-align: middle;\n",
       "    }\n",
       "\n",
       "    .dataframe tbody tr th {\n",
       "        vertical-align: top;\n",
       "    }\n",
       "\n",
       "    .dataframe thead th {\n",
       "        text-align: right;\n",
       "    }\n",
       "</style>\n",
       "<table border=\"1\" class=\"dataframe\">\n",
       "  <thead>\n",
       "    <tr style=\"text-align: right;\">\n",
       "      <th></th>\n",
       "      <th>Point</th>\n",
       "      <th>Gradient</th>\n",
       "      <th>FunctionValue</th>\n",
       "    </tr>\n",
       "  </thead>\n",
       "  <tbody>\n",
       "    <tr>\n",
       "      <th>1015</th>\n",
       "      <td>[[-0.5157377293226411], [0.4350912875076997], [-0.11516783842278554], [0.4524368636559416], [-0.2695469050843492], [0.1347524260659851], [-0.4279217128464288], [-0.21304482464517874], [-0.4150940311423872], [0.6290297434589982], [0.09909655473567301], [-0.045759728511416915], [-0.31843494691753454], [0.46524286883344174], [0.3657261924900213], [0.2921998648293428], [0.211880321182692], [-0.42484931332144765], [0.22308740352517165], [-0.4189265545530513], [-0.13272947699536783], [-0.01923559618935943], [0.12898043167277115], [0.2448677211387291], [0.04670783172122171], [0.09581123442106888], [-0.0801017081490131], [-0.6219532144672563], [0.19646532948660586], [-0.3859395585533916], [0.5141262985263507], [-0.33248477937540505], [0.47800744393870104], [0.047433505341651604], [0.0540423232831025], [-0.26941053075723687], [-0.04244225701388445], [0.026278863202639894], [0.01787548729428512], [-0.12693715522949017], [0.19312584736689167], [0.13041553495984826], [0.1850875734503251], [-0.007226756025592324], [0.4954388076945715], [0.1768762559530961], [-0.09166665068333385], [0.08459139771606054], [-0.05975910607627862], [-0.24184779737627077], [0.3579265230192025], [-0.04378565555624706], [-0.12304504944628182], [0.6136163261663418], [0.2666142573479202], [-0.023262912045896516], [-0.06104711836556011], [0.33156590930380847], [0.011081541550901115], [-0.42141914640994005], [-0.36074736792485923], [0.05659311977130925], [0.3832315969667787], [-0.466195524566937], [-0.016613572678230406], [-0.49973398062103913]]</td>\n",
       "      <td>[[0.3434636304771175], [-0.3253328193552534], [-0.045155029132729396], [-0.5936848893370552], [0.4598641869238236], [0.41561905856951853], [0.35525657060861704], [0.1923494815732738], [0.2769153735052896], [-0.21651052288416395], [-0.25898292775082155], [-0.10827177834858048], [-0.006675881795672467], [-0.11180578909170436], [-0.03422612902613764], [-0.30471056064857294], [-0.03431976976844453], [0.3734254683110976], [-0.025568434677097684], [0.06794788088495807], [0.08052935960677132], [-0.01006934688120964], [0.1772002986156167], [-0.08507477825787646], [-0.06173798081090354], [0.12431146151720895], [-0.06130052930211605], [0.3756182654199165], [-0.11183857477863057], [0.39448511079331183], [-0.41623173495963783], [0.31503951317313295], [-0.051269226389877076], [-0.050478111568736495], [0.11398113009454391], [0.13384927440324645], [0.08701460277552542], [0.08220311300601679], [0.07633001757176316], [0.27527795203377536], [-0.1453947937304747], [-0.12458036697353236], [-0.3378864521557716], [0.15268677928452234], [-0.06817082570205457], [-0.09331310159700479], [-0.0638845632452103], [0.08584895290869099], [0.3885832896182819], [0.2409977124652869], [-0.1722692016419387], [-0.09973586476462515], [-0.05908350978006638], [-0.5958468464677935], [-0.06587043405102122], [0.27179480953054735], [0.16276750038059618], [-0.1999960224932238], [0.1505303158546667], [-0.11226882933397064], [0.28127251580554], [0.2727026744473733], [-0.19945817188681758], [0.16201711686744602], [0.17162962499469359], [0.21438307330072348]]</td>\n",
       "      <td>68.710874</td>\n",
       "    </tr>\n",
       "  </tbody>\n",
       "</table>\n",
       "</div>"
      ],
      "text/plain": [
       "                                                                                                                                                                                                                                                                                                                                                                                                                                                                                                                                                                                                                                                                                                                                                                                                                                                                                                                                                                                                                                                                                                                                                                                                                                                                                                                                                                                                                                                                                                                                                                                          Point  \\\n",
       "1015  [[-0.5157377293226411], [0.4350912875076997], [-0.11516783842278554], [0.4524368636559416], [-0.2695469050843492], [0.1347524260659851], [-0.4279217128464288], [-0.21304482464517874], [-0.4150940311423872], [0.6290297434589982], [0.09909655473567301], [-0.045759728511416915], [-0.31843494691753454], [0.46524286883344174], [0.3657261924900213], [0.2921998648293428], [0.211880321182692], [-0.42484931332144765], [0.22308740352517165], [-0.4189265545530513], [-0.13272947699536783], [-0.01923559618935943], [0.12898043167277115], [0.2448677211387291], [0.04670783172122171], [0.09581123442106888], [-0.0801017081490131], [-0.6219532144672563], [0.19646532948660586], [-0.3859395585533916], [0.5141262985263507], [-0.33248477937540505], [0.47800744393870104], [0.047433505341651604], [0.0540423232831025], [-0.26941053075723687], [-0.04244225701388445], [0.026278863202639894], [0.01787548729428512], [-0.12693715522949017], [0.19312584736689167], [0.13041553495984826], [0.1850875734503251], [-0.007226756025592324], [0.4954388076945715], [0.1768762559530961], [-0.09166665068333385], [0.08459139771606054], [-0.05975910607627862], [-0.24184779737627077], [0.3579265230192025], [-0.04378565555624706], [-0.12304504944628182], [0.6136163261663418], [0.2666142573479202], [-0.023262912045896516], [-0.06104711836556011], [0.33156590930380847], [0.011081541550901115], [-0.42141914640994005], [-0.36074736792485923], [0.05659311977130925], [0.3832315969667787], [-0.466195524566937], [-0.016613572678230406], [-0.49973398062103913]]   \n",
       "\n",
       "                                                                                                                                                                                                                                                                                                                                                                                                                                                                                                                                                                                                                                                                                                                                                                                                                                                                                                                                                                                                                                                                                                                                                                                                                                                                                                                                                                                                                                                                                                                                                                                             Gradient  \\\n",
       "1015  [[0.3434636304771175], [-0.3253328193552534], [-0.045155029132729396], [-0.5936848893370552], [0.4598641869238236], [0.41561905856951853], [0.35525657060861704], [0.1923494815732738], [0.2769153735052896], [-0.21651052288416395], [-0.25898292775082155], [-0.10827177834858048], [-0.006675881795672467], [-0.11180578909170436], [-0.03422612902613764], [-0.30471056064857294], [-0.03431976976844453], [0.3734254683110976], [-0.025568434677097684], [0.06794788088495807], [0.08052935960677132], [-0.01006934688120964], [0.1772002986156167], [-0.08507477825787646], [-0.06173798081090354], [0.12431146151720895], [-0.06130052930211605], [0.3756182654199165], [-0.11183857477863057], [0.39448511079331183], [-0.41623173495963783], [0.31503951317313295], [-0.051269226389877076], [-0.050478111568736495], [0.11398113009454391], [0.13384927440324645], [0.08701460277552542], [0.08220311300601679], [0.07633001757176316], [0.27527795203377536], [-0.1453947937304747], [-0.12458036697353236], [-0.3378864521557716], [0.15268677928452234], [-0.06817082570205457], [-0.09331310159700479], [-0.0638845632452103], [0.08584895290869099], [0.3885832896182819], [0.2409977124652869], [-0.1722692016419387], [-0.09973586476462515], [-0.05908350978006638], [-0.5958468464677935], [-0.06587043405102122], [0.27179480953054735], [0.16276750038059618], [-0.1999960224932238], [0.1505303158546667], [-0.11226882933397064], [0.28127251580554], [0.2727026744473733], [-0.19945817188681758], [0.16201711686744602], [0.17162962499469359], [0.21438307330072348]]   \n",
       "\n",
       "      FunctionValue  \n",
       "1015      68.710874  "
      ]
     },
     "execution_count": 32,
     "metadata": {},
     "output_type": "execute_result"
    }
   ],
   "source": [
    "df.tail(1)"
   ]
  },
  {
   "cell_type": "markdown",
   "metadata": {},
   "source": [
    "$$\n",
    "\\pagebreak\n",
    "$$"
   ]
  },
  {
   "cell_type": "markdown",
   "metadata": {},
   "source": [
    "**iii** Generate the graph of $f(x_k)$ vs $k$ where $k$ is the iteration number and $x_k$ is the current estimate of $x$ at iteration $k$. This graph should convey the decreasing nature of function values.\n",
    "\n",
    "> **Deliverable(s) : The graph that is generated.**"
   ]
  },
  {
   "cell_type": "code",
   "execution_count": 33,
   "metadata": {},
   "outputs": [
    {
     "data": {
      "image/png": "[encoded data removed]",
      "text/plain": [
       "<Figure size 1080x288 with 1 Axes>"
      ]
     },
     "metadata": {},
     "output_type": "display_data"
    }
   ],
   "source": [
    "import matplotlib.pyplot as plt\n",
    "plt.style.use(\"fivethirtyeight\")\n",
    "fig, ax = plt.subplots(1, 1, figsize = (15,4))\n",
    "\n",
    "plt.plot(df.index.tolist(), df.FunctionValue, )\n",
    "plt.xlabel(\"Iteration Number\", fontsize = 20)\n",
    "plt.ylabel(\"Function Value\", fontsize = 20)\n",
    "plt.title(\"Gradient Descent Optimization Plot\", fontsize = 20);\n",
    "plt.xlim([-10,700]);"
   ]
  },
  {
   "cell_type": "markdown",
   "metadata": {},
   "source": [
    "# Critical points of polynomial function\n",
    "\n",
    "**i** Generate a third degree polynomial in $x$ and $y$ named $g(x,y)$ that is based on your mobile number (Note : In case there is a 0 in one of the\n",
    "digits replace it by 3). Suppose your mobile number is $9412821233$, then the polynomial would be \n",
    "\n",
    "$$ \n",
    "g(x,y) = 9x^3 - 4x^2y + 1xy^2 -2y^3 +8x^2 -2xy + 1y^2 -2x + 3y -3\n",
    "$$\n",
    "\n",
    "where alternate positive and negative sign are used. \n",
    "\n",
    "> **Deliverable(s) : The polynomial constructed should be reported. (0.5)**"
   ]
  },
  {
   "cell_type": "markdown",
   "metadata": {},
   "source": [
    "```octave\n",
    "## Author: vinayak <vinayak@vinayak-EXIGO-V2>\n",
    "## Created: 2022-02-21\n",
    "% Script to read a phone number and create a polynomial \n",
    "\n",
    "function [pol] = qn31()\n",
    "  a = input(\"Enter your mobile number\\n\");\n",
    "  % Allocate memory for the polynomial to be created\n",
    "  pol = []; \n",
    "  num = a;\n",
    "  counter = 1;\n",
    "  \n",
    "  % Parse through the input number and then convert them \n",
    "  % into a vector of values in sequential manner\n",
    "  % Alternate +ve and -ve signs for co-efficients\n",
    "  % If a zero is present in the number, substitute it with +-3\n",
    "  while num > 1,\n",
    "    \n",
    "    x = mod(num, 10);\n",
    "    if x == 0,\n",
    "      x = 3;\n",
    "    endif;  \n",
    "    \n",
    "    if mod(counter, 2) == 1,\n",
    "      x = -x;\n",
    "    endif;  \n",
    "    \n",
    "    pol = [pol; x];\n",
    "    num = idivide(num, 10);\n",
    "    counter = counter + 1;\n",
    "  endwhile\n",
    "  \n",
    "  % Flip around the polynomial co-efficients\n",
    "  pol = transpose(flip(pol));\n",
    "  displayPolynomial(pol);\n",
    "end\n",
    "\n",
    "function [] = displayPolynomial(pol)\n",
    "    % Function to display the formed polynomial\n",
    "    polynomial_terms = [\"x^3\"; \"x^2y\"; \"xy^2 \"; \"y^3\"; \"x^2\"; \"xy\"; \"y^2\"; \"x\"; \"y\"; \" \"];\n",
    "    poly_str = [\"\"];\n",
    "    \n",
    "    for i=1:length(pol),\n",
    "      if mod(i,2) == 0,\n",
    "        poly_str = [poly_str num2str(pol(i)) polynomial_terms(i, :)];\n",
    "      else\n",
    "        poly_str = [poly_str \" +\" num2str(pol(i)) polynomial_terms(i, :)];\n",
    "      endif\n",
    "    endfor\n",
    "    \n",
    "    printf(\"Polynomial generated from the entered mobile number\\n\");\n",
    "    disp(poly_str);\n",
    "    \n",
    "endfunction\n",
    "```"
   ]
  },
  {
   "cell_type": "code",
   "execution_count": 34,
   "metadata": {},
   "outputs": [],
   "source": [
    "def generate_polynomial() -> List:\n",
    "    \"\"\"Prompts the user for input and generates a polynomial based on the mobile number generated by the user. \n",
    "    Assumption: Mobile numbers can only be 10 digits long \n",
    "\n",
    "    Returns:\n",
    "        List: Co-efficient list for the polynomial\n",
    "    \"\"\"\n",
    "    number = input(\"Enter your cell number:\\n\")\n",
    "\n",
    "    # Validate the entered input\n",
    "    try:\n",
    "        _ = int(number.strip())\n",
    "    except Exception as e:\n",
    "        print(f\"Incorrect input format. Please enter a number!\")\n",
    "        return []\n",
    "\n",
    "    if len(number.strip()) != 10:\n",
    "        print(\"Please enter a valid number. Mobile number must be 10 digits long!\")  \n",
    "        return []\n",
    "    \n",
    "    polynomial_coefs = []\n",
    "    for idx, chr in enumerate(number):\n",
    "        coef = int(chr)\n",
    "        # In case there's a zero in the mobile number replace it with a 3\n",
    "        if coef == 0: coef = 3\n",
    "        # Alternate + and - in coefficients\n",
    "        if idx % 2 == 1:\n",
    "            coef = -1 * coef\n",
    "        polynomial_coefs.append(coef)\n",
    "    \n",
    "    return polynomial_coefs\n",
    "\n",
    "def display_polynomial(coefs: List):\n",
    "    \"\"\"[Given a list of co-efficients, displays a polynomial]\n",
    "\n",
    "    Args:\n",
    "        coefs (List): A coe-efficient polynomial\n",
    "    \"\"\"\n",
    "    terms = [\"x^3\", \"x^2y\", \"xy^2\", \"y^3\", \"x^2\", \"xy\", \"y^2\", \"x\", \"y\", \"1\"]\n",
    "    \n",
    "    polynomial = \"\"\n",
    "    for idx, (coef, term) in enumerate(zip(coefs, terms)):\n",
    "        if idx % 2 == 0:\n",
    "            polynomial += f\"+{coef}{term}\"\n",
    "        else:\n",
    "            polynomial += f\"{coef}{term}\"\n",
    "    polynomial = polynomial[:-1]\n",
    "    \n",
    "    # Print if there is a polynomial generated for reporting\n",
    "    if polynomial:\n",
    "        print(f\"\\nPolynomial corresponding to your phone number\\n{polynomial}\")"
   ]
  },
  {
   "cell_type": "markdown",
   "metadata": {},
   "source": [
    "$$\n",
    "\\pagebreak\n",
    "$$"
   ]
  },
  {
   "cell_type": "code",
   "execution_count": 35,
   "metadata": {},
   "outputs": [
    {
     "name": "stdin",
     "output_type": "stream",
     "text": [
      "Enter your cell number:\n",
      " 7738368566\n"
     ]
    },
    {
     "name": "stdout",
     "output_type": "stream",
     "text": [
      "\n",
      "Polynomial corresponding to your phone number\n",
      "+7x^3-7x^2y+3xy^2-8y^3+3x^2-6xy+8y^2-5x+6y-6\n"
     ]
    }
   ],
   "source": [
    "# Generate a polynomial with invalid input\n",
    "poly = generate_polynomial()\n",
    "display_polynomial(poly)"
   ]
  },
  {
   "cell_type": "code",
   "execution_count": 36,
   "metadata": {},
   "outputs": [
    {
     "name": "stdin",
     "output_type": "stream",
     "text": [
      "Enter your cell number:\n",
      " 7738368566\n"
     ]
    },
    {
     "name": "stdout",
     "output_type": "stream",
     "text": [
      "\n",
      "Polynomial corresponding to your phone number\n",
      "+7x^3-7x^2y+3xy^2-8y^3+3x^2-6xy+8y^2-5x+6y-6\n"
     ]
    }
   ],
   "source": [
    "# Generate a polynomial with fewer/more than 10 digits\n",
    "poly = generate_polynomial()\n",
    "display_polynomial(poly)"
   ]
  },
  {
   "cell_type": "code",
   "execution_count": 37,
   "metadata": {},
   "outputs": [
    {
     "name": "stdin",
     "output_type": "stream",
     "text": [
      "Enter your cell number:\n",
      " 7738368566\n"
     ]
    },
    {
     "name": "stdout",
     "output_type": "stream",
     "text": [
      "\n",
      "Polynomial corresponding to your phone number\n",
      "+7x^3-7x^2y+3xy^2-8y^3+3x^2-6xy+8y^2-5x+6y-6\n"
     ]
    }
   ],
   "source": [
    "# Generate a plynomial with valid input\n",
    "poly = generate_polynomial()\n",
    "display_polynomial(poly)"
   ]
  },
  {
   "cell_type": "markdown",
   "metadata": {},
   "source": [
    "$$\n",
    "\\pagebreak\n",
    "$$"
   ]
  },
  {
   "cell_type": "markdown",
   "metadata": {},
   "source": [
    "**ii** Write a code to find all critical points of $g(x, y)$. You may use built in functions like `solve` (or other similar functions) in Octave/Matlab to find the critical points. \n",
    "\n",
    "> **Deliverable(s) : The code that finds the critical points along with the display of all the calculated critical points. (1)**"
   ]
  },
  {
   "cell_type": "markdown",
   "metadata": {},
   "source": [
    "![](32_critical_points.jpeg)"
   ]
  },
  {
   "cell_type": "markdown",
   "metadata": {},
   "source": [
    "```octave\n",
    "## Author: vinayak <vinayak@vinayak-EXIGO-V2>\n",
    "## Created: 2022-02-23\n",
    "% Script to find out the critical points of a polynomial\n",
    "\n",
    "function [critical_points] = qn32(pol)\n",
    "  \n",
    "  % Display the polynomial created from the given cell number\n",
    "  disp(\"Polynomial co-efficients entered is as follows\");\n",
    "  disp(pol);\n",
    "  \n",
    "  % Create a container to hold the solution values\n",
    "  critical_points = [];\n",
    "  \n",
    "  % Find out the critical points using fsolve\n",
    "  % Start at different points in the function domain using random\n",
    "  % Variables and then find the roots of grad(pol) = 0\n",
    " \n",
    "  for i = 1:1000,\n",
    "    % Define the start point\n",
    "    startPoint = 1000 * randn(2, 1);\n",
    "    % Create a wrapper function for the objective/optimization function\n",
    "    optimFunc = @(pol) @(startPoint) optimizationFunction(startPoint, pol);\n",
    "    % Define the solver options\n",
    "    options = optimset (\"TolFun\", 1e-6, \"MaxIter\", 5000);\n",
    "    % Find solutions to the above objective function\n",
    "    [sol, fval, info] = fsolve(optimFunc(pol), startPoint, options);\n",
    "    % If the solution converged in this iteration, save the \n",
    "    % Point as a critical point in the matrix\n",
    "    if info == 1,\n",
    "      critical_points = addToSolution(critical_points, sol);\n",
    "    endif;\n",
    "  endfor\n",
    "  \n",
    "endfunction\n",
    "\n",
    "function [distance] = euclideanDistance(v1, v2)\n",
    "  % Given two vectors v1 and v2, compute the Euclidean distance between them\n",
    "  distance = sqrt(sum((v1 - v2).^2));\n",
    "endfunction\n",
    "\n",
    "function [sol] = addToSolution(solutionSet, newSolution)\n",
    "  % Given a set of critical points and a new critical point\n",
    "  % Check if the new point is already present in the given set\n",
    "  % If no, add it to the solution set, else return the set as is\n",
    "  n = size(solutionSet)(2);\n",
    "  present = 0;\n",
    "  for i = 1:n,\n",
    "    r = euclideanDistance(solutionSet(:, i), newSolution);\n",
    "    if r < 1e-6,\n",
    "      present = 1;\n",
    "      break;\n",
    "    endif  \n",
    "  endfor  \n",
    "  \n",
    "  % If the solution doesn't exist in the current set, add it to\n",
    "  % The current set, otherwise, just return old solution set as is\n",
    "  if present == 0,\n",
    "    sol = [solutionSet, newSolution];\n",
    "  else\n",
    "    sol = solutionSet;\n",
    "  endif;  \n",
    "  \n",
    "endfunction  \n",
    "\n",
    "function [out] = optimizationFunction(startPoint, g)\n",
    "  % Start with the x and y values at this given step\n",
    "  x = startPoint(1);\n",
    "  y = startPoint(2);\n",
    "  \n",
    "  % Solve for delg/delx = 0; delg/dely = 0 simultaneously\n",
    "  gx = 3*g(1)*x^2 + 2*g(2)*x*y + g(3)*y^2 + 2*g(5)*x + g(6)*y + g(8);  \n",
    "  gy = g(2)*x^2 + 2*g(3)*x*y + 3*g(4)*y^2 + g(6)*x + 2*g(7)*y + g(9);\n",
    "  out = [gx gy];\n",
    "endfunction\n",
    "```"
   ]
  },
  {
   "cell_type": "code",
   "execution_count": 42,
   "metadata": {},
   "outputs": [],
   "source": [
    "from scipy.optimize import fsolve\n",
    "from typing import List, Tuple\n",
    "\n",
    "import warnings, random\n",
    "warnings.filterwarnings(\"error\")\n",
    "\n",
    "def func_val(x, y):\n",
    "    return (g[0])*(x**3) + (g[1])*(x*y) + (g[2])*(y**2) + (2*g[4])*(x) + (g[5])*(y) + (g[7])\n",
    "\n",
    "def find_critical_points(polynomial: List) -> List:\n",
    "    \"\"\"[Accepts a polynomial of 3rd degree in x and y and finds out the critical points of the same in an iterative manner]\n",
    "\n",
    "    Args:\n",
    "        polynomial (List): Co-efs of 3rd degree polynomial as a list\n",
    "\n",
    "    Returns:\n",
    "        List: A dataframe of solutions\n",
    "    \"\"\"\n",
    "    g = polynomial\n",
    "    \n",
    "    # Define the system of simultaneous equations for scipy to solve\n",
    "    def equations(p):\n",
    "        x, y = p\n",
    "\n",
    "        gx = (3*g[0])*(x**2) + (2*g[1])*(x*y) + (g[2])*(y**2) + (2*g[4])*(x) + (g[5])*(y) + (g[7])\n",
    "        gy = (g[1])*(x**2) + (2*g[2])*(x*y) + (3*g[3])*(y**2) + (g[5])*(x) + (2*g[6])*(y) + (g[8])\n",
    "\n",
    "        return (gx, gy)\n",
    "\n",
    "    solutions = []\n",
    "    counter = 0\n",
    "\n",
    "    # Select a random starting point in the R2 landscape and iterate for 1000 \n",
    "    # times in this landscape to find roots of the equation\n",
    "    while counter < 1000:\n",
    "        initial_x, initial_y = random.randint(-10000, 10000), random.randint(-10000, 10000)\n",
    "        try:\n",
    "            # Try to solve the equations\n",
    "            x, y =  fsolve(equations, (initial_x, initial_y))\n",
    "            counter += 1\n",
    "\n",
    "            # Rounding in order to avoid solutions which differ by a very thin margin\n",
    "            # i.e. in the 8th or 9th decimal place\n",
    "            sol = (round(x,7),round(y,7))\n",
    "            \n",
    "            # If the solution has not been encountered, then add it to the set of\n",
    "            # solutions container defined above\n",
    "            if not (sol in solutions):\n",
    "                solutions.append(sol)\n",
    "                \n",
    "        except RuntimeWarning:\n",
    "            # This is to suppress the solutions which do not converge and simply \n",
    "            # raise a warning that the solution didn't converge\n",
    "            pass\n",
    "    \n",
    "    return solutions"
   ]
  },
  {
   "cell_type": "code",
   "execution_count": 43,
   "metadata": {},
   "outputs": [
    {
     "name": "stdin",
     "output_type": "stream",
     "text": [
      "Enter your cell number:\n",
      " 7738368566\n"
     ]
    },
    {
     "name": "stdout",
     "output_type": "stream",
     "text": [
      "\n",
      "Polynomial corresponding to your phone number\n",
      "+7x^3-7x^2y+3xy^2-8y^3+3x^2-6xy+8y^2-5x+6y-6\n",
      "CP 0: (x = 0.72023, y = 0.73622)\n",
      "CP 1: (x =-0.48150, y = 0.88744)\n",
      "CP 2: (x = 0.27159, y =-0.17630)\n",
      "CP 3: (x =-0.69215, y =-0.33989)\n"
     ]
    }
   ],
   "source": [
    "# Find the critical points of a random polynomial\n",
    "g = generate_polynomial()\n",
    "solutions = find_critical_points(g)\n",
    "\n",
    "# Show the critical points\n",
    "display_polynomial(g)\n",
    "for idx, point in enumerate(solutions):\n",
    "    print(f\"CP{idx:2d}: (x ={point[0]: .5f}, y ={point[1]: .5f})\")"
   ]
  },
  {
   "cell_type": "markdown",
   "metadata": {},
   "source": [
    "$$\n",
    "\\pagebreak\n",
    "$$"
   ]
  },
  {
   "cell_type": "markdown",
   "metadata": {
    "tags": []
   },
   "source": [
    "**iii** Write a code to determine whether they correspond to a maximum, minimum or a saddle point.\n",
    "\n",
    "\n",
    "> **Deliverable(s) : The code that identifies the type of critical points. The critical points and their type must be presented in the form of the table\n",
    "generated by code for the above polynomial.**"
   ]
  },
  {
   "cell_type": "markdown",
   "metadata": {},
   "source": [
    "![](33_hessian.jpeg)"
   ]
  },
  {
   "cell_type": "markdown",
   "metadata": {},
   "source": [
    "```octave\n",
    "## Author: vinayak <vinayak@vinayak-EXIGO-V2>\n",
    "## Created: 2022-02-23\n",
    "% Script to find out the nature of critical points of a polynomial function in 2 variables\n",
    "\n",
    "function [] = qn33 (pol)\n",
    "  \n",
    "  % Call the routine to take input and find the critical points of a function\n",
    "  [cp] = qn32(pol);\n",
    "  \n",
    "  % Iterate over the individual points, find out their nature and tabulate them\n",
    "  % Find out the number of critical points obtained\n",
    "  n = size(cp)(2);\n",
    "  \n",
    "  for i = 1:n,\n",
    "    [evals, nature] = hessian(pol, cp(:, i));\n",
    "    printf(\"\\nCritical Point\\n\");%, num2str(i));\n",
    "    disp(transpose(cp(:, i)));\n",
    "    printf(\"\\nEigen Values of Hessian for this critical point as follows\\n\");\n",
    "    disp(evals);\n",
    "    printf(\"\\nNature of the critical point: \");\n",
    "    disp(nature);\n",
    "  endfor\n",
    "  \n",
    "endfunction\n",
    "\n",
    "function [evals, nature] = hessian(g, cp)\n",
    "  % Given a polynomial and it's critical point, computes the\n",
    "  % hessian matrix and it's eigen values at this point\n",
    "  x = cp(1, 1); y = cp(2, 1);\n",
    "  \n",
    "  % Define the second order partial derivative hessian matrix\n",
    "  h11 = 6*g(1)*x + 2*g(2)*y + 2*g(5);\n",
    "  h12 = 2*g(2)*x + 2*g(3)*y + g(6);\n",
    "  h21 = h12;\n",
    "  h22 = 2*g(3)*x + 6*g(4)*y + 2*g(7);  \n",
    "  hessian = [h11 h12; h21 h22];\n",
    "  \n",
    "  % Find the eigen vector/eigen value pairs for the hessian matrix\n",
    "  [_, evs] = eigs(hessian);\n",
    "  \n",
    "  % Find out the nature of evs\n",
    "  sgn = 1;\n",
    "  evals = [];\n",
    "  for i = 1:length(evs),\n",
    "    sgn = sign(evs(i,i)) * sgn;\n",
    "    evals = [evals evs(i, i)];\n",
    "  endfor  \n",
    "  \n",
    "  % If all eigen values of hessian > 0 ===> Minima\n",
    "  % If all eigen values of hessian < 0 ===> Maxima\n",
    "  % If both +ve & -ve eigen values     ===> Saddle\n",
    "  if sgn == -1,\n",
    "    nature = \"saddle\";\n",
    "  elseif (sgn == 1) && (evs(1,1) > 0),\n",
    "    nature = \"minima\";\n",
    "  elseif (sgn == 1) && (evs(1,1) < 0),\n",
    "    nature = \"maxima\";\n",
    "  endif  \n",
    "endfunction\n",
    "```"
   ]
  },
  {
   "cell_type": "code",
   "execution_count": 40,
   "metadata": {
    "tags": []
   },
   "outputs": [],
   "source": [
    "def determine_nature(polynomial: List, critical_point: Tuple, threshold: float = 1e-6) -> str:\n",
    "    \"\"\"[Given a polynomial and an identified critical point for the polynomial,\n",
    "    computes if the point is a maxima, minima or saddle point]\n",
    "\n",
    "    Args:\n",
    "        polynomial (List): Co-efficients of the polynomial\n",
    "        critical_point (Tuple): A critical point in R2\n",
    "        threshold (float, default: 1e-6): A zero threshold (i.e. whether the eigen value found is zero or not) \n",
    "\n",
    "    Returns:\n",
    "        str: Type of the point\n",
    "    \"\"\"\n",
    "    g = polynomial\n",
    "    cx, cy = critical_point\n",
    "\n",
    "    # Compute hessian matrix values\n",
    "    h11 = 6*g[0]*cx + 2*g[1]*cy + 2*g[4]\n",
    "    h12 = 2*g[1]*cx + 2*g[2]*cy + g[5]\n",
    "    h21 = h12\n",
    "    h22 = 2*g[2]*cx + 6*g[3]*cy + 2*g[6]\n",
    "\n",
    "    # Find the determinant of this hessian matrix\n",
    "    D = h11 * h22 - h12 * h21\n",
    "       \n",
    "    # Check the signs of eigen values\n",
    "    if abs(D) < threshold:\n",
    "        return \"inconclusive\"\n",
    "    elif D < 0:\n",
    "        return \"saddle\"\n",
    "    elif ((D > 0) and (h11 > 0)):\n",
    "        return \"minima\"\n",
    "    elif ((D > 0) and (h11 < 0)):\n",
    "        return \"maxima\""
   ]
  },
  {
   "cell_type": "code",
   "execution_count": 41,
   "metadata": {},
   "outputs": [
    {
     "name": "stdin",
     "output_type": "stream",
     "text": [
      "Enter your cell number:\n",
      " 7738368566\n"
     ]
    },
    {
     "name": "stdout",
     "output_type": "stream",
     "text": [
      "\n",
      "Polynomial corresponding to your phone number\n",
      "+7x^3-7x^2y+3xy^2-8y^3+3x^2-6xy+8y^2-5x+6y-6\n",
      "\n",
      "CP 0: (x =-0.53201, y = 0.65738) | Nature: maxima\n",
      "CP 1: (x = 0.21693, y =-0.27483) | Nature: minima\n",
      "CP 2: (x =-0.70123, y =-0.45777) | Nature: saddle\n",
      "CP 3: (x = 0.59938, y = 0.47341) | Nature: saddle\n"
     ]
    }
   ],
   "source": [
    "# Find the critical points of a random polynomial\n",
    "g = generate_polynomial()\n",
    "solutions = find_critical_points(g)\n",
    "\n",
    "# Show the Polynomial\n",
    "display_polynomial(g)\n",
    "print()\n",
    "\n",
    "# Determine the nature of the critical points and print the same\n",
    "for idx, point in enumerate(solutions):\n",
    "    nature = determine_nature(g, point)\n",
    "    print(f\"CP{idx:2d}: (x ={point[0]: .5f}, y ={point[1]: .5f}) | Nature: {nature}\")"
   ]
  }
 ],
 "metadata": {
  "kernelspec": {
   "display_name": "Python 3",
   "language": "python",
   "name": "python3"
  },
  "language_info": {
   "codemirror_mode": {
    "name": "ipython",
    "version": 3
   },
   "file_extension": ".py",
   "mimetype": "text/x-python",
   "name": "python",
   "nbconvert_exporter": "python",
   "pygments_lexer": "ipython3",
   "version": "3.6.10"
  }
 },
 "nbformat": 4,
 "nbformat_minor": 4
}
