{
 "cells": [
  {
   "cell_type": "markdown",
   "metadata": {},
   "source": [
    "# Q3\n",
    "\n",
    "Let $P(n)$ be the statement that $1^2 + 2^2 + ... + n^2 = \\frac{n(n+1)(2n+1)}{6}$ for a positive integer n.\n",
    "\n",
    "- a. What is the statement $P(1)$\n",
    "- b. Show that $P(1)$ is true and complete basis step of the proof\n",
    "- c. What is the inductive hypothesis?\n",
    "- d. What do you need to prove in the inductive step?\n",
    "- e. Complete the inductive step, identifying where you use inductive hypothesis\n",
    "- f. Explain why these steps show this formula is true $\\forall n > 0$.\n",
    "\n",
    "![](3.jpeg)\n",
    "\n",
    "$$\n",
    "\\pagebreak\n",
    "$$"
   ]
  },
  {
   "cell_type": "markdown",
   "metadata": {},
   "source": [
    "# Q5\n",
    "\n",
    "Prove that $1^2 + 3^2 + ... + (2n+1)^2 = \\frac{(n+1)(2n+1)(2n+3)}{3}$ whenever n is a non-negative integer\n",
    "\n",
    "![](5.jpeg)\n",
    "\n",
    "$$\n",
    "\\pagebreak\n",
    "$$"
   ]
  },
  {
   "cell_type": "markdown",
   "metadata": {},
   "source": [
    "# Q18\n",
    "\n",
    "Let $P(n)$ be the statement that $n! < n^n$ , where n is an integer greater than 1.\n",
    "\n",
    "- a. What is the statement $P(2)$?\n",
    "- b. Show that $P(2)$ is true, completing the basis step of the proof.\n",
    "- c. What is the inductive hypothesis?\n",
    "- d. What do you need to prove in the inductive step?\n",
    "- e. Complete the inductive step.\n",
    "- f. Explain why these steps show that this inequality is true whenever n is an integer greater than 1.\n",
    "\n",
    "![](18.jpeg)"
   ]
  },
  {
   "cell_type": "markdown",
   "metadata": {},
   "source": [
    "# Q31\n",
    "\n",
    "Prove that 2 divides $n^2 + n$ whenever $n$ is a positive integer.\n",
    "\n",
    "![](31.jpeg)\n",
    "\n",
    "$$\n",
    "\\pagebreak\n",
    "$$"
   ]
  },
  {
   "cell_type": "markdown",
   "metadata": {},
   "source": [
    "# Q38\n",
    "\n",
    "Prove that if $A_1 , A_2 , . . . , A_n \\text{ and } B_1 , B_2 , . . . , B_n$ are sets such that $A_j \\subseteq B_j \\forall j = 1, 2, . . . , n$ then\n",
    "\n",
    "$$\n",
    "\\cup_{j=1}^n A_j \\subseteq \\cup_{j=1}^n B_j  \n",
    "$$\n",
    "\n",
    "![](38.1.jpeg)\n",
    "\n",
    "![](38.2.jpeg)\n",
    "\n",
    "$$\n",
    "\\pagebreak\n",
    "$$"
   ]
  },
  {
   "cell_type": "markdown",
   "metadata": {},
   "source": [
    "# Q45\n",
    "\n",
    "\n",
    "Prove that a set with n elements has $\\frac{n(n − 1)}{2}$ subsets containing exactly two elements whenever $n$ is an integer greater than or equal to 2.\n",
    "\n",
    "![](45.jpeg)\n",
    "\n",
    "$$\n",
    "\\pagebreak\n",
    "$$"
   ]
  },
  {
   "cell_type": "markdown",
   "metadata": {},
   "source": [
    "# Q69,70\n",
    "\n",
    "Suppose there are n people in a group, each aware of a scandal no one else in the group knows about. These people communicate by telephone; when two people in the group talk, they share information about all scandals each knows about. For example, on the first call, two people share information, so by the end of the call, each of these people knows about two scandals. The gossip problem asks for G(n), the minimum number of telephone calls that are needed for all n people to learn about all the scandals. Exercises 69, 70 deal with the gossip problem.\n",
    "\n",
    "- 69. Find G(1), G(2), G(3), and G(4).\n",
    "\n",
    "- 70. Use mathematical induction to prove that $G(n) \\leq 2n − 4 \\text{ for } n \\geq 4.$ (Hint: In the inductive step, have a new person call a particular person at the start and at the end.)\n",
    "\n",
    "![](qn69.png)"
   ]
  },
  {
   "cell_type": "markdown",
   "metadata": {},
   "source": [
    "I have tried to solve the gossip problem manually for a few values of n = 6,7 and could verify (i.e. find one combination of calls) that the min calls needed is 2n - 4.\n",
    "\n",
    "However, I couldn't formalize it. I know induction is a great tool, but as mentioned in Rosenan\n",
    "\n",
    "> The bad thing about it is that it cannot be used to find new theorems. Mathematicians sometimes find proofs by mathematical induction unsatisfying because they do not provide insights as to why theorems are true.\n",
    "\n",
    "If we are faced with such problems, how do we go about approaching these in a formal way?"
   ]
  }
 ],
 "metadata": {
  "kernelspec": {
   "display_name": "Python 3",
   "language": "python",
   "name": "python3"
  },
  "language_info": {
   "codemirror_mode": {
    "name": "ipython",
    "version": 3
   },
   "file_extension": ".py",
   "mimetype": "text/x-python",
   "name": "python",
   "nbconvert_exporter": "python",
   "pygments_lexer": "ipython3",
   "version": "3.6.10"
  }
 },
 "nbformat": 4,
 "nbformat_minor": 4
}
