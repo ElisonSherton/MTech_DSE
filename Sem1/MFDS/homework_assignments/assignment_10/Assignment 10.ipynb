{
 "cells": [
  {
   "cell_type": "markdown",
   "metadata": {},
   "source": [
    "# Q1.\n",
    "\n",
    "**Investigate the nature of critical points for the following functions**\n",
    "\n",
    "$$\n",
    "1. f(x, y) = x^3-3x^2 + y^2\n",
    "$$\n",
    "\n",
    "![](1.1.jpeg)\n",
    "\n",
    "$$\n",
    "2. f(x,y) = x^2 + xy + y^2 + \\frac{1}{x} + \\frac{1}{y}, x \\neq 0, y \\neq 0\n",
    "$$\n",
    "\n",
    "![](1.2_a.jpeg)\n",
    "\n",
    "$$\n",
    "\\pagebreak\n",
    "$$\n",
    "\n",
    "![](1.2_b.jpeg)\n",
    "\n",
    "$$\n",
    "\\pagebreak\n",
    "$$"
   ]
  },
  {
   "cell_type": "markdown",
   "metadata": {},
   "source": [
    "# Q2\n",
    "\n",
    "**Using Lagrange Multipliers, show that**\n",
    "\n",
    "a. The maximum value of $x^2y^3z^4$ subject to the constraint $2x + 3y + 4z = a$ is $(a/9)^9$\n",
    "![](2.1_a.jpeg)\n",
    "\n",
    "![](2.1_b.jpeg)\n",
    "\n",
    "$$\n",
    "\\pagebreak\n",
    "$$\n",
    "\n",
    "b. The minimum value of $yz + zx + xy$ subject to the constraint $xyz=a^2(x + y + z)$ is $9a^2$\n",
    "![](2.2_a.jpeg)\n",
    "\n",
    "![](2.2_b.jpeg)"
   ]
  },
  {
   "cell_type": "markdown",
   "metadata": {
    "tags": []
   },
   "source": [
    "$$\n",
    "\\pagebreak\n",
    "$$\n",
    "\n",
    "# Q3\n",
    "\n",
    "Find the minimum of $f(x,y) = \\alpha x^2 + \\beta y^2$ for various values of $\\alpha, \\beta$, by\n",
    "\n",
    "a. computing the gradient of $f, \\tau$\n",
    "\n",
    "![](3.jpeg)\n",
    "\n",
    "b. coding the iterations in Python with initial values $x_0=3,y_0=4$ and using the stopping criteria as $|f (j + 1) − f (j)| < \\epsilon = 1e^{−6}$\n",
    "\n",
    "Estimate the order of convergence by plotting the error against number of iterations for a few cases."
   ]
  },
  {
   "cell_type": "code",
   "execution_count": 1,
   "metadata": {},
   "outputs": [],
   "source": [
    "from typing import Tuple\n",
    "import pandas as pd\n",
    "import matplotlib.pyplot as plt\n",
    "pd.options.display.float_format = \"{:,.6f}\".format\n",
    "\n",
    "# Define the staring points as constants\n",
    "START_X = 3.0\n",
    "START_Y = 4.0"
   ]
  },
  {
   "cell_type": "code",
   "execution_count": 2,
   "metadata": {},
   "outputs": [],
   "source": [
    "def compute_function_value(alpha:float, beta:float, x:float, y:float) -> float:\n",
    "    \"\"\"[Given the value of alpha, beta and the point, maps x,y in domain\n",
    "    of f to another real number as per the definition of f]\n",
    "\n",
    "    Args:\n",
    "        alpha (float): [The co-efficient of x^2]\n",
    "        beta (float): [The co-efficient of y^2]\n",
    "        x (float): [x value]\n",
    "        y (float): [y value]\n",
    "\n",
    "    Returns:\n",
    "        [float]: [Function value]\n",
    "    \"\"\"\n",
    "    return alpha * (x ** 2) + beta * (y ** 2)"
   ]
  },
  {
   "cell_type": "code",
   "execution_count": 3,
   "metadata": {},
   "outputs": [],
   "source": [
    "def compute_tau(alpha: float, beta:float, x:float, y:float) -> float:\n",
    "    \"\"\"[Compute tau value for the given function based on the following\n",
    "    psi(tau) = xi - tau * grad(f)\n",
    "    F(psi) = f(psi(tau))\n",
    "    dF/dtau = 0 -> Solve for tau in terms of x and y\n",
    "    ]\n",
    "\n",
    "    Args:\n",
    "        alpha (float): [The co-efficient of x^2]\n",
    "        beta (float): [The co-efficient of y^2]\n",
    "        x (float): [x value]\n",
    "        y (float): [y value]\n",
    "\n",
    "    Returns:\n",
    "        [float]: [Tau value at a point (x,y) for the given function]\n",
    "    \"\"\"\n",
    "    return 0.5 * ((alpha **2) * (x **2) + (beta **2) * (y ** 2)) / ((alpha ** 3) * (x ** 2) + (beta ** 3) * (y ** 2))\n"
   ]
  },
  {
   "cell_type": "code",
   "execution_count": 4,
   "metadata": {},
   "outputs": [],
   "source": [
    "def update_variables(alpha: float, beta: float, x: float, y:float) -> Tuple:\n",
    "    \"\"\"[Perform update step in the opposite direction as gradient with the update parameter tau]\n",
    "\n",
    "    Args:\n",
    "        alpha (float): [The co-efficient of x^2]\n",
    "        beta (float): [The co-efficient of y^2]\n",
    "        x (float): [x value]\n",
    "        y (float): [y value]\n",
    "\n",
    "    Returns:\n",
    "        Tuple: [Updated values of x,y after performing the step]\n",
    "    \"\"\"\n",
    "    tau = compute_tau(alpha, beta, x, y)\n",
    "    x_updated = x - 2 * alpha * tau * x\n",
    "    y_updated = y - 2 * beta * tau * y\n",
    "    return (x_updated, y_updated)"
   ]
  },
  {
   "cell_type": "code",
   "execution_count": 5,
   "metadata": {},
   "outputs": [],
   "source": [
    "def optimize_function(alpha: float, beta: float, epsilon: float = 1e-6, plot:bool = True):\n",
    "    \"\"\"[Optimize the function alpha*x^2 + beta*y^2 until the optimal solution converges with a threshold of 1e-6]\n",
    "\n",
    "    Args:\n",
    "        alpha (float): [The co-efficient of x^2]\n",
    "        beta (float): [The co-efficient of y^2]\n",
    "        epsilon (float, optional): [Threshold of convergence]. Defaults to 1e-6.\n",
    "        plot (bool, optional): [Whether to plot the progress of optimization process]. Defaults to True.\n",
    "    \"\"\"\n",
    "\n",
    "    # Define the starting parameters\n",
    "    error_margin = 1\n",
    "    max_iterations = 100\n",
    "    iteration_counter = 0\n",
    "    x, y = START_X, START_Y\n",
    "    f_current = compute_function_value(alpha, beta, x, y)\n",
    "    entries = []\n",
    "\n",
    "    # Optimize the solutions\n",
    "    while error_margin > epsilon:\n",
    "        \n",
    "        # Put a hard break on iterations exceeding a set threshold number\n",
    "        if iteration_counter > max_iterations:\n",
    "            break\n",
    "\n",
    "        # Compute the current value of the function\n",
    "        entries.append([x, y, f_current, error_margin])\n",
    "\n",
    "        # Update the variables\n",
    "        x, y = update_variables(alpha, beta, x, y)\n",
    "\n",
    "        # Compute function value at the updated step and update the \n",
    "        # stopping criterion\n",
    "        f_new = compute_function_value(alpha, beta, x, y)\n",
    "        error_margin = abs(f_new - f_current)\n",
    "\n",
    "        # Make the new value to be the current value\n",
    "        f_current = f_new\n",
    "\n",
    "        # Increase the iteration counter\n",
    "        iteration_counter += 1\n",
    "    \n",
    "    # Add the last entry\n",
    "    entries.append([x, y, f_current, error_margin])    \n",
    "    \n",
    "    # Create a summary dataframe and plot the function value and relative error at each point\n",
    "    # During the execution of the optimization\n",
    "    execution_summary = pd.DataFrame(entries, columns = [\"x\", \"y\", \"function_value\", \"delta_f\"])\n",
    "    plt.plot(execution_summary.delta_f.iloc[1:], linestyle = \"solid\")\n",
    "    plt.title(f\"Alpha: {alpha:.2f} Beta: {beta:.2f} Converged In: {iteration_counter:02d} iterations\")\n",
    "    plt.ylabel(\"Delta F\")\n",
    "    plt.xlabel(\"Iteration Counter\")\n",
    "    print(execution_summary)"
   ]
  },
  {
   "cell_type": "markdown",
   "metadata": {},
   "source": [
    "Let $f = x^2 + 3y^2$"
   ]
  },
  {
   "cell_type": "code",
   "execution_count": 6,
   "metadata": {},
   "outputs": [
    {
     "name": "stdout",
     "output_type": "stream",
     "text": [
      "         x         y  function_value   delta_f\n",
      "0 3.000000  4.000000       57.000000  1.000000\n",
      "1 1.959184 -0.163265        3.918367 53.081633\n",
      "2 0.206230  0.274973        0.269361  3.649006\n",
      "3 0.134681 -0.011223        0.018517  0.250845\n",
      "4 0.014177  0.018903        0.001273  0.017244\n",
      "5 0.009258 -0.000772        0.000088  0.001185\n",
      "6 0.000975  0.001299        0.000006  0.000081\n",
      "7 0.000636 -0.000053        0.000000  0.000006\n",
      "8 0.000067  0.000089        0.000000  0.000000\n"
     ]
    },
    {
     "data": {
      "image/png": "[encoded data removed]",
      "text/plain": [
       "<Figure size 432x288 with 1 Axes>"
      ]
     },
     "metadata": {
      "needs_background": "light"
     },
     "output_type": "display_data"
    }
   ],
   "source": [
    "optimize_function(1, 3)"
   ]
  },
  {
   "cell_type": "markdown",
   "metadata": {},
   "source": [
    "Let $f = 3x^2 + 5y^2$"
   ]
  },
  {
   "cell_type": "code",
   "execution_count": 7,
   "metadata": {},
   "outputs": [
    {
     "name": "stdout",
     "output_type": "stream",
     "text": [
      "         x         y  function_value    delta_f\n",
      "0 3.000000  4.000000      107.000000   1.000000\n",
      "1 1.069996 -0.288899        3.851984 103.148016\n",
      "2 0.108000  0.143999        0.138671   3.713313\n",
      "3 0.038520 -0.010400        0.004992   0.133679\n",
      "4 0.003888  0.005184        0.000180   0.004812\n",
      "5 0.001387 -0.000374        0.000006   0.000173\n",
      "6 0.000140  0.000187        0.000000   0.000006\n",
      "7 0.000050 -0.000013        0.000000   0.000000\n"
     ]
    },
    {
     "data": {
      "image/png": "[encoded data removed]",
      "text/plain": [
       "<Figure size 432x288 with 1 Axes>"
      ]
     },
     "metadata": {
      "needs_background": "light"
     },
     "output_type": "display_data"
    }
   ],
   "source": [
    "optimize_function(3, 5)"
   ]
  },
  {
   "cell_type": "markdown",
   "metadata": {},
   "source": [
    "Let $f = 567^2 + 278y^2$"
   ]
  },
  {
   "cell_type": "code",
   "execution_count": 8,
   "metadata": {},
   "outputs": [
    {
     "name": "stdout",
     "output_type": "stream",
     "text": [
      "           x        y  function_value      delta_f\n",
      "0   3.000000 4.000000    9,551.000000     1.000000\n",
      "1  -0.540278 1.685603      955.377146 8,595.622854\n",
      "2   0.300087 0.400116       95.565437   859.811709\n",
      "3  -0.054044 0.168609        9.559317    86.006120\n",
      "4   0.030017 0.040023        0.956209     8.603108\n",
      "5  -0.005406 0.016866        0.095649     0.860560\n",
      "6   0.003003 0.004003        0.009568     0.086081\n",
      "7  -0.000541 0.001687        0.000957     0.008611\n",
      "8   0.000300 0.000400        0.000096     0.000861\n",
      "9  -0.000054 0.000169        0.000010     0.000086\n",
      "10  0.000030 0.000040        0.000001     0.000009\n",
      "11 -0.000005 0.000017        0.000000     0.000001\n"
     ]
    },
    {
     "data": {
      "image/png": "[encoded data removed]",
      "text/plain": [
       "<Figure size 432x288 with 1 Axes>"
      ]
     },
     "metadata": {
      "needs_background": "light"
     },
     "output_type": "display_data"
    }
   ],
   "source": [
    "optimize_function(567, 278)"
   ]
  },
  {
   "cell_type": "markdown",
   "metadata": {},
   "source": [
    "Let $f = 1.618x^2 + 2.81828y^2$"
   ]
  },
  {
   "cell_type": "code",
   "execution_count": 9,
   "metadata": {},
   "outputs": [
    {
     "name": "stdout",
     "output_type": "stream",
     "text": [
      "         x         y  function_value   delta_f\n",
      "0 3.000000  4.000000       59.654480  1.000000\n",
      "1 1.154760 -0.285458        2.387206 57.267274\n",
      "2 0.120052  0.160069        0.095529  2.291677\n",
      "3 0.046210 -0.011423        0.003823  0.091707\n",
      "4 0.004804  0.006406        0.000153  0.003670\n",
      "5 0.001849 -0.000457        0.000006  0.000147\n",
      "6 0.000192  0.000256        0.000000  0.000006\n",
      "7 0.000074 -0.000018        0.000000  0.000000\n"
     ]
    },
    {
     "data": {
      "image/png": "[encoded data removed]",
      "text/plain": [
       "<Figure size 432x288 with 1 Axes>"
      ]
     },
     "metadata": {
      "needs_background": "light"
     },
     "output_type": "display_data"
    }
   ],
   "source": [
    "optimize_function(1.618, 2.81828)"
   ]
  },
  {
   "cell_type": "markdown",
   "metadata": {},
   "source": [
    "As we can see from the plots above, the order of convergence is around 10 iterations for a tolerance value of $1e-6$ for a function of the form $f = \\alpha x^2 + \\beta y^2$"
   ]
  }
 ],
 "metadata": {
  "kernelspec": {
   "display_name": "Python 3",
   "language": "python",
   "name": "python3"
  },
  "language_info": {
   "codemirror_mode": {
    "name": "ipython",
    "version": 3
   },
   "file_extension": ".py",
   "mimetype": "text/x-python",
   "name": "python",
   "nbconvert_exporter": "python",
   "pygments_lexer": "ipython3",
   "version": "3.6.10"
  }
 },
 "nbformat": 4,
 "nbformat_minor": 4
}
