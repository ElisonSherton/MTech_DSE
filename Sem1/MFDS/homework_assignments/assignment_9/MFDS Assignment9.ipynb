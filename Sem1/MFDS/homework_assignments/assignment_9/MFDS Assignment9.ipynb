{
 "cells": [
  {
   "cell_type": "markdown",
   "metadata": {},
   "source": [
    "# MFDS Assignment 10"
   ]
  },
  {
   "cell_type": "markdown",
   "metadata": {},
   "source": [
    "To prove that a function is `one-to-one` or `surjective`, keep this handy\n",
    "\n",
    "![](sn.png)"
   ]
  },
  {
   "cell_type": "markdown",
   "metadata": {},
   "source": [
    "![](qn14.png)"
   ]
  },
  {
   "cell_type": "markdown",
   "metadata": {},
   "source": [
    "$$\n",
    "\\pagebreak\n",
    "$$\n",
    "\n",
    "**14.a**\n",
    "\n",
    "Consider the following table of m, n and the function value in question\n",
    "\n",
    "||n-even|n-odd|\n",
    "|-|-|-|\n",
    "|m-even|f-even|f-odd|\n",
    "|m-odd|f-even|f-odd|\n",
    "\n",
    "We can see that each integer in the range is mapped to at least one tuple in the domain. **Hence, range = co-domain which means that the function `is surjective` in nature**"
   ]
  },
  {
   "cell_type": "markdown",
   "metadata": {},
   "source": [
    "**14.b**\n",
    "\n",
    "\n",
    "$$\n",
    "\\text{Let} \\ m = n + 1 \\\\ f(m,n) = (n+1)^2 -n^2 \\\\ f(m,n) = n^2 + 2n + 1 -n^2 \\\\ f(m,n) = 2n + 1\n",
    "$$\n",
    "\n",
    "This means any odd number in $Z$, could be mapped to a tuple of the form $(x+1, x)$ in the domain of f.\n",
    "\n",
    "$$\n",
    "\\text{Let} \\ m = n + 2 \\\\ f(m,n) = (n+2)^2 -n^2 \\\\ f(m,n) = n^2 + 4n + 4 -n^2 \\\\ f(m,n) = 4(n + 1)\n",
    "$$\n",
    "\n",
    "This means any doubly even number in $Z$, could be mapped to a tuple of the form $(x+2, x)$ in the domain of f. But we cannot map a singly even number to the difference of two squares.\n",
    "\n",
    "**This means there will be some numbers like 2, 6, 10, 14 etc. which will never be expressible as difference of two squares which means this function is not surjective in nature.**"
   ]
  },
  {
   "cell_type": "markdown",
   "metadata": {},
   "source": [
    "**14.c**\n",
    "\n",
    "Consider the following table of m, n and the function value in question\n",
    "\n",
    "||n-even|n-odd|\n",
    "|-|-|-|\n",
    "|m-even|f-odd|f-even|\n",
    "|m-odd|f-even|f-odd|\n",
    "\n",
    "We can see that each integer in the range is mapped to at least one tuple in the domain. **Hence, range = co-domain which means that the function `is surjective` in nature**\n",
    "\n",
    "$$\n",
    "\\pagebreak\n",
    "$$"
   ]
  },
  {
   "cell_type": "markdown",
   "metadata": {},
   "source": [
    "**14.d**\n",
    "\n",
    "Any integer could be represented as the subtraction of two integers as we saw in LPP where we had to explicitly model an unconstrained variable as difference of two positive integers. **Hence this function is surjective in nature.**"
   ]
  },
  {
   "cell_type": "markdown",
   "metadata": {},
   "source": [
    "**14.e**\n",
    "\n",
    "\n",
    "$$\n",
    "f(m, n) = m^2 - 4\n",
    "$$\n",
    "\n",
    "Consider a number 3 in the co-domain of f\n",
    "\n",
    "$$\n",
    "m^2 - 4 = 3 \\rightarrow m^2 = 7 \\rightarrow m = \\pm \\sqrt{7}\n",
    "$$\n",
    "\n",
    "But this number does not exist in the domain of f.\n",
    "\n",
    "This means not all elements in the range of f can be mapped to a preimage in the domain of f **which means this function is not surjective in nature.**\n",
    "\n",
    "$$\n",
    "\\pagebreak\n",
    "$$"
   ]
  },
  {
   "cell_type": "markdown",
   "metadata": {},
   "source": [
    "![](qn15.png)"
   ]
  },
  {
   "cell_type": "markdown",
   "metadata": {},
   "source": [
    "**15.a, 15.c, 15.e**\n",
    "\n",
    "**Yes. It is surjective in nature.**\n",
    "\n",
    "**15.b**\n",
    "\n",
    "Consider a negative integer in the range of f. \n",
    "\n",
    "$$\n",
    "f(m,n) = m^2 + n^2 \\\\ m^2, n^2 \\ge 0 \\\\ \\rightarrow m^2+n^2 \\ge 0 \\\\ \\therefore f(m,n) \\ge 0\n",
    "$$\n",
    "\n",
    "So negative integers in the range of f are not mapped to any pre-image in dowman of f. **Hence, this function is not surjective.**\n",
    "\n",
    "**15.d**\n",
    "\n",
    "Same as 15.b\n",
    "\n",
    "$$\n",
    "\\pagebreak\n",
    "$$"
   ]
  },
  {
   "cell_type": "markdown",
   "metadata": {},
   "source": [
    "![](qn16.png)"
   ]
  },
  {
   "cell_type": "markdown",
   "metadata": {},
   "source": [
    "**16.a**\n",
    "\n",
    "One student must have only one single mobile (single sim)\n",
    "\n",
    "No two students should share a mobile\n",
    "\n",
    "**16.b**\n",
    "\n",
    "All student ids must be unique\n",
    "\n",
    "**16.c**\n",
    "\n",
    "$n(Grades) \\ge n(Students)$\n",
    "\n",
    "If bijective (onto & 1-1), then \n",
    "\n",
    "$n(Grades) = n(Students)$\n",
    "\n",
    "**16.d**\n",
    "\n",
    "No two students must be from the same home town\n",
    "\n",
    "$$\n",
    "\\pagebreak\n",
    "$$"
   ]
  },
  {
   "cell_type": "markdown",
   "metadata": {},
   "source": [
    "# Q2\n",
    "\n",
    "For each pair of functions determine $f + g, f -g, f \\times g, \\frac{f}{g}$. Determine the domain of each of these functions.\n",
    "\n",
    "1. $f(x) = 3x + 4, \\  g(x) = x - 2$\n",
    "2. $f(x) = x - 8, \\  g(x) = x^2$\n",
    "\n",
    "![](2.i.jpeg)\n",
    "\n",
    "$$\n",
    "\\pagebreak\n",
    "$$"
   ]
  },
  {
   "cell_type": "markdown",
   "metadata": {},
   "source": [
    "# Q3\n",
    "\n",
    "Find the Taylor Series of the given function centered at the indicated point\n",
    "\n",
    "1. $f(x) = sin(x) \\ at \\ x=\\frac{\\pi}{2}$\n",
    "\n",
    "![](3.i.jpeg)\n",
    "\n",
    "2. $f(x) = x^3 \\ at \\ x=1$\n",
    "\n",
    "![](3.ii.jpeg)"
   ]
  },
  {
   "cell_type": "markdown",
   "metadata": {},
   "source": [
    "# Q4\n",
    "\n",
    "Evaluate the limit\n",
    "\n",
    "1. $\\lim_{x \\rightarrow 4}\\frac{x^2-16}{x-4}$\n",
    "\n",
    "![](4.i.jpeg)\n",
    "\n",
    "2. $\\lim_{x \\rightarrow 2}\\frac{x-2}{x^2-2x}$\n",
    "\n",
    "![](4.ii.jpeg)"
   ]
  }
 ],
 "metadata": {
  "kernelspec": {
   "display_name": "Python 3",
   "language": "python",
   "name": "python3"
  },
  "language_info": {
   "codemirror_mode": {
    "name": "ipython",
    "version": 3
   },
   "file_extension": ".py",
   "mimetype": "text/x-python",
   "name": "python",
   "nbconvert_exporter": "python",
   "pygments_lexer": "ipython3",
   "version": "3.8.8"
  }
 },
 "nbformat": 4,
 "nbformat_minor": 4
}
