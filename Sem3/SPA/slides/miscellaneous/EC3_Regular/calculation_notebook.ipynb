{
 "cells": [
  {
   "cell_type": "code",
   "execution_count": null,
   "id": "0788d9b5-3f87-4430-a23f-257bac782a06",
   "metadata": {},
   "outputs": [],
   "source": [
    "import numpy as np\n",
    "import pandas as pd"
   ]
  },
  {
   "cell_type": "code",
   "execution_count": null,
   "id": "09380ad6-eccd-4603-aadb-32c427f1556e",
   "metadata": {},
   "outputs": [
    {
     "data": {
      "text/plain": [
       "0.059604644775390625"
      ]
     },
     "execution_count": null,
     "metadata": {},
     "output_type": "execute_result"
    }
   ],
   "source": [
    "(1/2)**24 * (10**6)"
   ]
  },
  {
   "cell_type": "code",
   "execution_count": null,
   "id": "942d9f1d-c377-4e50-9eb6-783199ea28b1",
   "metadata": {},
   "outputs": [
    {
     "data": {
      "text/plain": [
       "0.9421413147488916"
      ]
     },
     "execution_count": null,
     "metadata": {},
     "output_type": "execute_result"
    }
   ],
   "source": [
    "np.exp(-0.0596)"
   ]
  },
  {
   "cell_type": "code",
   "execution_count": null,
   "id": "d061d6b6-abd6-4913-9789-52393406599f",
   "metadata": {},
   "outputs": [
    {
     "data": {
      "text/plain": [
       "0.013771597158113028"
      ]
     },
     "execution_count": null,
     "metadata": {},
     "output_type": "execute_result"
    }
   ],
   "source": [
    "np.log(2) * (10**6) / 6 / (2**23)"
   ]
  },
  {
   "cell_type": "code",
   "execution_count": null,
   "id": "a376b59f-2c53-4ce3-a281-b50e2a8888b5",
   "metadata": {},
   "outputs": [
    {
     "data": {
      "text/plain": [
       "2.0982542667150432e-07"
      ]
     },
     "execution_count": null,
     "metadata": {},
     "output_type": "execute_result"
    }
   ],
   "source": [
    "(1 - np.exp(-0.00596))**3"
   ]
  },
  {
   "cell_type": "code",
   "execution_count": null,
   "id": "9605ac6a-b513-467b-b952-21441bbf38e4",
   "metadata": {},
   "outputs": [],
   "source": []
  },
  {
   "cell_type": "code",
   "execution_count": null,
   "id": "d27f00fa-2b74-49ac-8957-b957497caa8d",
   "metadata": {},
   "outputs": [
    {
     "data": {
      "text/plain": [
       "2.425"
      ]
     },
     "execution_count": null,
     "metadata": {},
     "output_type": "execute_result"
    }
   ],
   "source": [
    "2.5*.97"
   ]
  },
  {
   "cell_type": "code",
   "execution_count": null,
   "id": "eb1fed71-0366-4c03-b3b1-30d77bc8dc92",
   "metadata": {},
   "outputs": [
    {
     "data": {
      "text/plain": [
       "2.3522499999999997"
      ]
     },
     "execution_count": null,
     "metadata": {},
     "output_type": "execute_result"
    }
   ],
   "source": [
    "2.425 * .97"
   ]
  },
  {
   "cell_type": "code",
   "execution_count": null,
   "id": "ee8cfd41-4df6-4cc8-8a9e-841012ec7968",
   "metadata": {},
   "outputs": [
    {
     "data": {
      "text/plain": [
       "2.2816824999999996"
      ]
     },
     "execution_count": null,
     "metadata": {},
     "output_type": "execute_result"
    }
   ],
   "source": [
    "2.425*.97*.97"
   ]
  },
  {
   "cell_type": "code",
   "execution_count": null,
   "id": "a4ddc39c-1a8a-4c41-8c5a-3d1afad67539",
   "metadata": {},
   "outputs": [
    {
     "data": {
      "text/plain": [
       "4.71354"
      ]
     },
     "execution_count": null,
     "metadata": {},
     "output_type": "execute_result"
    }
   ],
   "source": [
    "2.282*.97+2.5"
   ]
  },
  {
   "cell_type": "code",
   "execution_count": null,
   "id": "969789e3-2be0-45ef-9ec8-6ccc1b43e013",
   "metadata": {},
   "outputs": [
    {
     "data": {
      "text/plain": [
       "7.07258"
      ]
     },
     "execution_count": null,
     "metadata": {},
     "output_type": "execute_result"
    }
   ],
   "source": [
    "4.714*.97+2.5"
   ]
  },
  {
   "cell_type": "code",
   "execution_count": null,
   "id": "2f6d29b7-14b7-4c8d-9034-e1d8000cf707",
   "metadata": {},
   "outputs": [
    {
     "data": {
      "text/plain": [
       "6.8604026000000005"
      ]
     },
     "execution_count": null,
     "metadata": {},
     "output_type": "execute_result"
    }
   ],
   "source": [
    "7.07258*.97"
   ]
  },
  {
   "cell_type": "code",
   "execution_count": null,
   "id": "32867077-4a93-4df4-ab3d-fb1b2489cffc",
   "metadata": {},
   "outputs": [
    {
     "data": {
      "text/plain": [
       "9.1542"
      ]
     },
     "execution_count": null,
     "metadata": {},
     "output_type": "execute_result"
    }
   ],
   "source": [
    "6.86*.97+2.5"
   ]
  },
  {
   "cell_type": "code",
   "execution_count": null,
   "id": "24e077ad-38b1-4c7d-ac16-f9888ff1bc41",
   "metadata": {},
   "outputs": [
    {
     "data": {
      "text/plain": [
       "8.87938"
      ]
     },
     "execution_count": null,
     "metadata": {},
     "output_type": "execute_result"
    }
   ],
   "source": [
    "9.154*.97"
   ]
  },
  {
   "cell_type": "code",
   "execution_count": null,
   "id": "222830b5-0cfb-4ddb-aaad-d5bb76c348e3",
   "metadata": {},
   "outputs": [
    {
     "data": {
      "text/plain": [
       "8.6129986"
      ]
     },
     "execution_count": null,
     "metadata": {},
     "output_type": "execute_result"
    }
   ],
   "source": [
    "8.87938*.97"
   ]
  },
  {
   "cell_type": "code",
   "execution_count": null,
   "id": "094c33c4-a0c2-42b5-9de4-3a828a63effb",
   "metadata": {},
   "outputs": [
    {
     "data": {
      "text/plain": [
       "10.85461"
      ]
     },
     "execution_count": null,
     "metadata": {},
     "output_type": "execute_result"
    }
   ],
   "source": [
    "8.613*.97+2.5"
   ]
  },
  {
   "cell_type": "code",
   "execution_count": null,
   "id": "382e2f72-5b08-4905-bd2c-758103ec5299",
   "metadata": {},
   "outputs": [
    {
     "data": {
      "text/plain": [
       "4.925"
      ]
     },
     "execution_count": null,
     "metadata": {},
     "output_type": "execute_result"
    }
   ],
   "source": [
    "2.5*.97+2.5"
   ]
  },
  {
   "cell_type": "code",
   "execution_count": null,
   "id": "bf140b1b-33ab-41ae-a0cd-ffb5ba4ac44a",
   "metadata": {},
   "outputs": [
    {
     "data": {
      "text/plain": [
       "4.7772499999999996"
      ]
     },
     "execution_count": null,
     "metadata": {},
     "output_type": "execute_result"
    }
   ],
   "source": [
    "4.925*.97"
   ]
  },
  {
   "cell_type": "code",
   "execution_count": null,
   "id": "a84e0b7e-8a12-4841-a5b0-4066848f9425",
   "metadata": {},
   "outputs": [
    {
     "data": {
      "text/plain": [
       "4.633932499999999"
      ]
     },
     "execution_count": null,
     "metadata": {},
     "output_type": "execute_result"
    }
   ],
   "source": [
    "4.925*.97*.97"
   ]
  },
  {
   "cell_type": "code",
   "execution_count": null,
   "id": "4d4071c6-3f62-4204-8aa3-b838529eca9e",
   "metadata": {},
   "outputs": [
    {
     "data": {
      "text/plain": [
       "6.9949145249999995"
      ]
     },
     "execution_count": null,
     "metadata": {},
     "output_type": "execute_result"
    }
   ],
   "source": [
    "4.925*.97*.97*.97+2.5"
   ]
  },
  {
   "cell_type": "code",
   "execution_count": null,
   "id": "d71b6c4d-8e91-4a6e-b974-2e4cb98a4c9b",
   "metadata": {},
   "outputs": [
    {
     "data": {
      "text/plain": [
       "6.78515"
      ]
     },
     "execution_count": null,
     "metadata": {},
     "output_type": "execute_result"
    }
   ],
   "source": [
    "6.995*.97"
   ]
  },
  {
   "cell_type": "code",
   "execution_count": null,
   "id": "17cf1a99-6228-4a75-a7b9-62b5fcaac00c",
   "metadata": {},
   "outputs": [
    {
     "data": {
      "text/plain": [
       "9.08145"
      ]
     },
     "execution_count": null,
     "metadata": {},
     "output_type": "execute_result"
    }
   ],
   "source": [
    "6.785*.97+2.5"
   ]
  },
  {
   "cell_type": "code",
   "execution_count": null,
   "id": "1dd1a0d5-a88a-43d1-b303-05062b2a3f6c",
   "metadata": {},
   "outputs": [
    {
     "data": {
      "text/plain": [
       "11.30857"
      ]
     },
     "execution_count": null,
     "metadata": {},
     "output_type": "execute_result"
    }
   ],
   "source": [
    "9.081*.97+2.5"
   ]
  },
  {
   "cell_type": "code",
   "execution_count": null,
   "id": "be8ce9e3-add2-497e-a713-4ae2cd16bef3",
   "metadata": {},
   "outputs": [
    {
     "data": {
      "text/plain": [
       "10.969312899999998"
      ]
     },
     "execution_count": null,
     "metadata": {},
     "output_type": "execute_result"
    }
   ],
   "source": [
    "11.30857*.97"
   ]
  },
  {
   "cell_type": "code",
   "execution_count": null,
   "id": "d1270c4e-7b02-4f52-a165-802143be2c05",
   "metadata": {},
   "outputs": [],
   "source": []
  },
  {
   "cell_type": "code",
   "execution_count": null,
   "id": "b7ac29d2-bfe5-40bd-a067-18e38a1fd2c6",
   "metadata": {},
   "outputs": [
    {
     "data": {
      "text/plain": [
       "2.652949759159308e-66"
      ]
     },
     "execution_count": null,
     "metadata": {},
     "output_type": "execute_result"
    }
   ],
   "source": [
    "np.exp(-6 * 3 * (2 ** 23) / (10 ** 6))"
   ]
  },
  {
   "cell_type": "code",
   "execution_count": null,
   "id": "47ebc7ba-3313-41e4-992a-5e9f3fd74887",
   "metadata": {},
   "outputs": [
    {
     "data": {
      "text/plain": [
       "1509.9494399999999"
      ]
     },
     "execution_count": null,
     "metadata": {},
     "output_type": "execute_result"
    }
   ],
   "source": [
    "(2**23 / (10 ** 6)) * 180"
   ]
  },
  {
   "cell_type": "code",
   "execution_count": null,
   "id": "6b20372a-6af4-43a9-8e05-8d14013f593c",
   "metadata": {},
   "outputs": [
    {
     "data": {
      "text/plain": [
       "0.0"
      ]
     },
     "execution_count": null,
     "metadata": {},
     "output_type": "execute_result"
    }
   ],
   "source": [
    "np.exp(-1500.99)"
   ]
  },
  {
   "cell_type": "code",
   "execution_count": null,
   "id": "edf1761d-1dd5-4d25-989e-542daeb73668",
   "metadata": {},
   "outputs": [
    {
     "data": {
      "text/plain": [
       "0.013771597158113028"
      ]
     },
     "execution_count": null,
     "metadata": {},
     "output_type": "execute_result"
    }
   ],
   "source": [
    "np.log(2) * (10**6)/(6 * (2**23))"
   ]
  }
 ],
 "metadata": {
  "kernelspec": {
   "display_name": "Python 3 (ipykernel)",
   "language": "python",
   "name": "python3"
  }
 },
 "nbformat": 4,
 "nbformat_minor": 5
}
